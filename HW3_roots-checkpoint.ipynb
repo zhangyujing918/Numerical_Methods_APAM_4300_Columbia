{
 "cells": [
  {
   "cell_type": "markdown",
   "id": "76863e7f",
   "metadata": {},
   "source": [
    "Before you turn this problem in, make sure everything runs as expected. First, restart the kernel (in the menubar, select Kernel $\\rightarrow$ Restart) and then run all cells (in the menubar, select Cell $\\rightarrow$ Run All).\n",
    "\n",
    "Make sure you fill in any place that says YOUR CODE HERE or \"YOUR ANSWER HERE\", as well as your name and collaborators below:"
   ]
  },
  {
   "cell_type": "code",
   "execution_count": 2,
   "id": "bffa7aa9",
   "metadata": {},
   "outputs": [],
   "source": [
    "%matplotlib inline\n",
    "import numpy\n",
    "import matplotlib.pyplot as plt"
   ]
  },
  {
   "cell_type": "code",
   "execution_count": 3,
   "id": "833d9515",
   "metadata": {},
   "outputs": [],
   "source": [
    "Name = \"Yujing Zhang\"\n",
    "Collaborator = \"Hanting Cui\"\n",
    "Uni = \"yz4471\""
   ]
  },
  {
   "cell_type": "markdown",
   "id": "bddc3b6e",
   "metadata": {
    "deletable": false,
    "editable": false,
    "nbgrader": {
     "cell_type": "markdown",
     "checksum": "896aee8be036699e78bc884285e0b02f",
     "grade": false,
     "grade_id": "cell-7752050701682384",
     "locked": true,
     "schema_version": 3,
     "solution": false
    }
   },
   "source": [
    "# HW 3:  Root Finding and Optimization"
   ]
  },
  {
   "cell_type": "markdown",
   "id": "56759987",
   "metadata": {
    "deletable": false,
    "editable": false,
    "nbgrader": {
     "cell_type": "markdown",
     "checksum": "8ba9e30c00ee9ff26ef3b34408fbde34",
     "grade": false,
     "grade_id": "cell-8382527651811313",
     "locked": true,
     "schema_version": 3,
     "solution": false
    }
   },
   "source": [
    "## Question 1 - Finding the Root\n",
    "\n",
    "Let's say that we wanted to calculate $\\sqrt{M}$ given that $M \\in \\mathbb{R}$ and $M > 0$ and that we did not want to use the function `sqrt` directly.  One way to do this is to solve for the zeros of the function $f(x) = x^2 - M$.\n",
    "\n",
    " - Note that not all the methods will work!\n",
    " - Make sure to handle the case where $M_0 = \\sqrt{M}$.\n",
    " - We are only looking for the positive root of $f(x)$."
   ]
  },
  {
   "cell_type": "markdown",
   "id": "721dc672",
   "metadata": {
    "deletable": false,
    "editable": false,
    "nbgrader": {
     "cell_type": "markdown",
     "checksum": "704b32d56ff4f9dcca51f2591eed959e",
     "grade": false,
     "grade_id": "cell-7408468548362671",
     "locked": true,
     "schema_version": 3,
     "solution": false
    }
   },
   "source": [
    "**(a)** [5] Write a function that uses fixed-point iteration to solve for the zeros of $f(x)$.  \n",
    "\n",
    "Note: There are multiple ways to write the iteration function $g(x)$, some work better than others.  Make sure to use the input function $f(x)$ to formulate this."
   ]
  },
  {
   "cell_type": "code",
   "execution_count": 4,
   "id": "a23d2242",
   "metadata": {
    "deletable": false,
    "nbgrader": {
     "cell_type": "code",
     "checksum": "81e8abd17e42ada79d291fa36cd2c316",
     "grade": false,
     "grade_id": "cell-5217816963816529",
     "locked": false,
     "schema_version": 3,
     "solution": true
    }
   },
   "outputs": [],
   "source": [
    "def fixed_point(x_0, f, tolerance):\n",
    "    \"\"\"Find the zeros of the given function f using fixed-point iteration\n",
    "    \n",
    "    :Input:\n",
    "     - *x_0* (float) - Initial iterate\n",
    "     - *f* (function) - The function that will be analyzed\n",
    "     - *tolerance* (float) - Stopping tolerance for iteration\n",
    "     \n",
    "    :Output:\n",
    "    If the iteration was successful the return values are:\n",
    "     - *M* (float) - Zero found via the given intial iterate.\n",
    "     - *n* (int) - Number of iterations it took to achieve the specified\n",
    "       tolerance.\n",
    "    otherwise\n",
    "     - *x* (float) - Last iterate found\n",
    "     - *n* (int) - *n = -1*\n",
    "    \"\"\"\n",
    "    \n",
    "    # Parameters\n",
    "    MAX_STEPS = 1000\n",
    "    \n",
    "    # YOUR CODE HERE\n",
    "    #raise NotImplementedError()\n",
    "    x = x_0\n",
    "    x_array = [ x_0 ]\n",
    "    n = 0\n",
    "    for k in range(1, MAX_STEPS + 1):\n",
    "        x = f(x)\n",
    "        x_array.append(x)\n",
    "        n += 1\n",
    "        if numpy.abs(f(x)) < tolerance:\n",
    "            break\n",
    "        \n",
    "    if k == MAX_STEPS:\n",
    "        warnings.warn('Maximum number of steps exceeded')\n",
    "\n",
    "    return x, n"
   ]
  },
  {
   "cell_type": "code",
   "execution_count": 5,
   "id": "2065bdc5",
   "metadata": {
    "deletable": false,
    "editable": false,
    "nbgrader": {
     "cell_type": "code",
     "checksum": "7c6a9dabcdc25c3505302136ff9cacd8",
     "grade": true,
     "grade_id": "cell-5409919424122382",
     "locked": true,
     "points": 5,
     "schema_version": 3,
     "solution": false
    }
   },
   "outputs": [
    {
     "name": "stdout",
     "output_type": "stream",
     "text": [
      "Fixed-point test failed!\n",
      "Success!\n"
     ]
    }
   ],
   "source": [
    "M = 1.8\n",
    "TOLERANCE = 1e-10\n",
    "f = lambda x: x**2 - M\n",
    "\n",
    "# Note that this test probably will fail\n",
    "try:\n",
    "    M_f, n = fixed_point(2.0, f, TOLERANCE)\n",
    "except OverflowError:\n",
    "    print(\"Fixed-point test failed!\")\n",
    "    print(\"Success!\")\n",
    "else:\n",
    "    if n == -1:\n",
    "        print(\"Fixed-point test failed!\")\n",
    "        print(\"Success!\")\n",
    "    else:\n",
    "        print(M_f, n)\n",
    "        raise ValueError(\"Test should have failed!\")"
   ]
  },
  {
   "cell_type": "markdown",
   "id": "a947e7e9",
   "metadata": {
    "deletable": false,
    "editable": false,
    "nbgrader": {
     "cell_type": "markdown",
     "checksum": "353ae7cd4fcd22d4ce64d7d4e1a55454",
     "grade": false,
     "grade_id": "cell-2533433274902651",
     "locked": true,
     "schema_version": 3,
     "solution": false
    }
   },
   "source": [
    "**(b)** [5] Write a function that uses Newton's method to find the roots of $f(x)$. The analytical derivative of $f'(x)$ is provided."
   ]
  },
  {
   "cell_type": "code",
   "execution_count": 6,
   "id": "d899e98b",
   "metadata": {
    "deletable": false,
    "nbgrader": {
     "cell_type": "code",
     "checksum": "1d104bcd5f94f26eadf3b662f8d4266b",
     "grade": false,
     "grade_id": "cell-340019030337399",
     "locked": false,
     "schema_version": 3,
     "solution": true
    }
   },
   "outputs": [],
   "source": [
    "def newton(x_0, f, f_prime, tolerance):\n",
    "    \"\"\"Find the zeros of the given function f using Newton's method\n",
    "    \n",
    "    :Input:\n",
    "     - *M_0* (float) - Initial iterate\n",
    "     - *f* (function) - The function that will be analyzed\n",
    "     - *f_prime* (function) - The derivative of *f*\n",
    "     - *tolerance* (float) - Stopping tolerance for iteration\n",
    "     \n",
    "    :Output:\n",
    "    If the iteration was successful the return values are:\n",
    "     - *M* (float) - Zero found via the given intial iterate.\n",
    "     - *n* (int) - Number of iterations it took to achieve the specified\n",
    "       tolerance.\n",
    "    otherwise\n",
    "     - *M* (float) - Last iterate found\n",
    "     - *n* (int) - *n = -1*\n",
    "    \"\"\"\n",
    "    \n",
    "    # Parameters\n",
    "    MAX_STEPS = 1000\n",
    "    \n",
    "    # YOUR CODE HERE\n",
    "    #raise NotImplementedError()\n",
    "    x = x_0\n",
    "    x_array = [x_0]\n",
    "    n = 0\n",
    "    for k in range (1, MAX_STEPS + 1):\n",
    "        if numpy.abs(f(x)) > tolerance:\n",
    "            x = x - f(x) / f_prime(x)\n",
    "            x_array.append(x) \n",
    "            n += 1\n",
    "        else:\n",
    "            break\n",
    "    \n",
    "    if k == MAX_STEPS:\n",
    "        warning.warn(\"Maximum Numbers of Steps Exceeded\")\n",
    "    \n",
    "    return x, n"
   ]
  },
  {
   "cell_type": "code",
   "execution_count": 7,
   "id": "0473e69d",
   "metadata": {
    "deletable": false,
    "editable": false,
    "nbgrader": {
     "cell_type": "code",
     "checksum": "f889510896fd98a16d97165e27409a29",
     "grade": true,
     "grade_id": "cell-4034736809953727",
     "locked": true,
     "points": 5,
     "schema_version": 3,
     "solution": false
    }
   },
   "outputs": [
    {
     "name": "stdout",
     "output_type": "stream",
     "text": [
      "1.7320508075688772 4\n",
      "1.7320508075688772 0\n",
      "Success!\n"
     ]
    }
   ],
   "source": [
    "M = 3.0\n",
    "TOLERANCE = 1e-10\n",
    "f = lambda x: x**2 - M\n",
    "f_prime = lambda x: 2.0 * x\n",
    "\n",
    "M_f, n = newton(2.0, f, f_prime, TOLERANCE)\n",
    "numpy.testing.assert_almost_equal(M_f, numpy.sqrt(M))\n",
    "print(M_f, n)\n",
    "\n",
    "M_f, n = newton(numpy.sqrt(M), f, f_prime, TOLERANCE)\n",
    "print(M_f, n)\n",
    "assert(n == 0)\n",
    "\n",
    "print(\"Success!\")"
   ]
  },
  {
   "cell_type": "markdown",
   "id": "3fe25092",
   "metadata": {
    "deletable": false,
    "editable": false,
    "nbgrader": {
     "cell_type": "markdown",
     "checksum": "1d4075577761286556d6082a23f9a416",
     "grade": false,
     "grade_id": "cell-5903696070565065",
     "locked": true,
     "schema_version": 3,
     "solution": false
    }
   },
   "source": [
    "**(c)** [5] Write a function to find the zeros of $f(x)$ using the secant method."
   ]
  },
  {
   "cell_type": "code",
   "execution_count": 8,
   "id": "4d9aee7b",
   "metadata": {
    "deletable": false,
    "nbgrader": {
     "cell_type": "code",
     "checksum": "1f5b3f132f7fe7581fddadbfbe7b47c5",
     "grade": false,
     "grade_id": "cell-5413220925494725",
     "locked": false,
     "schema_version": 3,
     "solution": true
    }
   },
   "outputs": [],
   "source": [
    "def secant(x_0, f, tolerance):\n",
    "    \"\"\"Find the zeros of the given function f using the secant method\n",
    "    \n",
    "    :Input:\n",
    "     - *M_0* (float) - Initial bracket\n",
    "     - *f* (function) - The function that will be analyzed\n",
    "     - *tolerance* (float) - Stopping tolerance for iteration\n",
    "     \n",
    "    :Output:\n",
    "    If the iteration was successful the return values are:\n",
    "     - *M* (float) - Zero found via the given intial iterate.\n",
    "     - *n* (int) - Number of iterations it took to achieve the specified\n",
    "       tolerance.\n",
    "    otherwise\n",
    "     - *M* (float) - Last iterate found\n",
    "     - *n* (int) - *n = -1*\n",
    "    \"\"\"\n",
    "    \n",
    "    # Parameters\n",
    "    MAX_STEPS = 1000\n",
    "    \n",
    "    # YOUR CODE HERE\n",
    "    #raise NotImplementedError()\n",
    "    \n",
    "    x_array = [x_0[0], x_0[1]]\n",
    "    x0 = x_0[0]\n",
    "    x1 = x_0[1]\n",
    "\n",
    "    n = 0\n",
    "    for k in range (1, MAX_STEPS + 1):\n",
    "        \n",
    "        if abs(x1 - numpy.sqrt(M)) <tolerance or abs(x0 - numpy.sqrt(M)) <tolerance:\n",
    "            break\n",
    "\n",
    "        else:\n",
    "            x2 = x1 - f(x1) * (x1 - x0) / (f(x1) - f(x0))\n",
    "            x_array.append(x2)\n",
    "            n += 1\n",
    "        \n",
    "            if numpy.abs(f(x2)) < tolerance:\n",
    "                break\n",
    "        \n",
    "            x0 = x1\n",
    "            x1 = x2\n",
    "    \n",
    "    if k == MAX_STEPS:\n",
    "        warning.warn(\"Maximum Numbers of Steps Exceeded\")\n",
    "    x = x_array[-1]\n",
    "    \n",
    "    return x, n"
   ]
  },
  {
   "cell_type": "code",
   "execution_count": 9,
   "id": "872bee40",
   "metadata": {
    "deletable": false,
    "editable": false,
    "nbgrader": {
     "cell_type": "code",
     "checksum": "6fd58b9af38d2bd71e561490e41687f2",
     "grade": true,
     "grade_id": "cell-7849649171624639",
     "locked": true,
     "points": 5,
     "schema_version": 3,
     "solution": false
    },
    "scrolled": true
   },
   "outputs": [
    {
     "name": "stdout",
     "output_type": "stream",
     "text": [
      "1.732050807565499 7\n",
      "Success!\n"
     ]
    }
   ],
   "source": [
    "M = 3.0\n",
    "TOLERANCE = 1e-10\n",
    "f = lambda x: x**2 - M\n",
    "\n",
    "M_f, n = secant([0.0, 3.0], f, TOLERANCE)\n",
    "numpy.testing.assert_almost_equal(M_f, numpy.sqrt(M))\n",
    "print(M_f, n)\n",
    "\n",
    "M_f, n = secant([1.0, numpy.sqrt(M)], f, TOLERANCE)\n",
    "assert(n == 0)\n",
    "\n",
    "print(\"Success!\")"
   ]
  },
  {
   "cell_type": "markdown",
   "id": "9c1c9e41",
   "metadata": {
    "deletable": false,
    "editable": false,
    "nbgrader": {
     "cell_type": "markdown",
     "checksum": "c1d07a83adf6e3d2d72faef9c3a0d23e",
     "grade": false,
     "grade_id": "cell-2088015365406265",
     "locked": true,
     "schema_version": 3,
     "solution": false
    }
   },
   "source": [
    "**(d)** [5] Using the theory and illustrative plots why the fixed-point method did not work (pick a bracket that demonstrates the problem well).  "
   ]
  },
  {
   "cell_type": "markdown",
   "id": "220b373d",
   "metadata": {
    "deletable": false,
    "nbgrader": {
     "cell_type": "markdown",
     "checksum": "7040c6e11aef21088c2da3c1ea478275",
     "grade": true,
     "grade_id": "cell-1801109106796673",
     "locked": false,
     "points": 2,
     "schema_version": 3,
     "solution": true
    }
   },
   "source": [
    "**Solution:**\n",
    "\n",
    "The fixed point iteration theorem requires that: \n",
    "\n",
    "Assume $g \\in C[a, b]$, if the range of the mapping $y = g(x)$ satisfies $y \\in [a, b] \\quad \\forall \\quad x \\in [a, b]$ then $g$ has a fixed point in $[a, b]$.\n",
    "\n",
    "In this question, $x = 2$ is too far away from the root, which is outside the valid interval."
   ]
  },
  {
   "cell_type": "code",
   "execution_count": 10,
   "id": "72850d89",
   "metadata": {
    "deletable": false,
    "nbgrader": {
     "cell_type": "code",
     "checksum": "d46b4df1a508650ec6c9f4aa6301f207",
     "grade": true,
     "grade_id": "cell-4706924818191700",
     "locked": false,
     "points": 3,
     "schema_version": 3,
     "solution": true
    }
   },
   "outputs": [
    {
     "data": {
      "image/png": "[encoded data removed]",
      "text/plain": [
       "<Figure size 504x360 with 1 Axes>"
      ]
     },
     "metadata": {
      "needs_background": "light"
     },
     "output_type": "display_data"
    }
   ],
   "source": [
    "# Place plotting code here if needed\n",
    "\n",
    "# YOUR CODE HERE\n",
    "#raise NotImplementedError()\n",
    "x = numpy.linspace(0.0, 4.5, 100)\n",
    "\n",
    "# Plot function and intercept\n",
    "fig = plt.figure(figsize=(7,5))\n",
    "axes = fig.add_subplot(1, 1, 1)\n",
    "axes.plot(x, x**2, 'r',label='$g(x)=x^2$')\n",
    "axes.plot(x, numpy.ones(x.shape)* 1.8, 'b',label='$M = 1.8$')\n",
    "axes.set_xlabel(\"$x$\",fontsize=16)\n",
    "axes.legend(loc='best',fontsize=14)\n",
    "axes.set_title('Why fixed point can not work',fontsize=24)\n",
    "\n",
    "# Plot domain and range                                 \n",
    "axes.plot(numpy.ones(x.shape) * 1.25, x, '--k')\n",
    "axes.plot(numpy.ones(x.shape) * 1.5, x, '--k')\n",
    "axes.plot(x, numpy.ones(x.shape) * 1.5, '--k')\n",
    "axes.plot(x, numpy.ones(x.shape) * 2.0, '--k')\n",
    "axes.set_xlim((0.0, 2.5))\n",
    "axes.set_ylim((0.0, 4.5))\n",
    "axes.grid()\n",
    "\n",
    "x = 2.\n",
    "axes.plot(x, x**2, \"kx\")\n",
    "\n",
    "\n",
    "plt.show()"
   ]
  },
  {
   "cell_type": "markdown",
   "id": "55c0b3f6",
   "metadata": {
    "deletable": false,
    "editable": false,
    "nbgrader": {
     "cell_type": "markdown",
     "checksum": "77c3917def98335f20b2603e83bcfe8c",
     "grade": false,
     "grade_id": "cell-5084202108287512",
     "locked": true,
     "schema_version": 3,
     "solution": false
    }
   },
   "source": [
    "## Question 2 - Bessel Function Zeros\n",
    "\n",
    "The zeros of the Bessel functions $J_0(x)$ can be important for a number of applications.  Considering only $x \\geq 0$ \n",
    "we are going to find the first ten zeros of $J_0(x)$ by using a hybrid approach."
   ]
  },
  {
   "cell_type": "markdown",
   "id": "2cf5622b",
   "metadata": {
    "deletable": false,
    "editable": false,
    "nbgrader": {
     "cell_type": "markdown",
     "checksum": "1a4f7e3a7f9f6103f8839b312ae7ab55",
     "grade": false,
     "grade_id": "cell-405164930391742",
     "locked": true,
     "schema_version": 3,
     "solution": false
    }
   },
   "source": [
    "**(a)** [5] Plot the Bessel function $J_0(x)$ and its zeros on the same plot.  Note that the module `scipy.special` contains functions dealing with the Bessel functions (`jn`)."
   ]
  },
  {
   "cell_type": "code",
   "execution_count": 11,
   "id": "40ec537c",
   "metadata": {
    "deletable": false,
    "nbgrader": {
     "cell_type": "code",
     "checksum": "2050dfbcc5721fe152db66948a735376",
     "grade": true,
     "grade_id": "cell-7010928384129911",
     "locked": false,
     "points": 5,
     "schema_version": 3,
     "solution": true
    }
   },
   "outputs": [
    {
     "data": {
      "image/png": "[encoded data removed]",
      "text/plain": [
       "<Figure size 640x480 with 1 Axes>"
      ]
     },
     "metadata": {
      "needs_background": "light"
     },
     "output_type": "display_data"
    }
   ],
   "source": [
    "# YOUR CODE HERE\n",
    "#raise NotImplementedError()\n",
    "\n",
    "import scipy.special as sp\n",
    "plt.matplotlib.rc(\"text\", usetex = True)\n",
    "plt.matplotlib.rc(\"grid\", linestyle = \"dotted\")\n",
    "plt.matplotlib.rc(\"figure\", figsize = (6.4,4.8), dpi =100) # (width,height) inches\n",
    "\n",
    "x = numpy.linspace(0, 32, 500)\n",
    "\n",
    "x_0 = sp.jn_zeros(0, 10)\n",
    "plt.scatter(x_0, sp.jn(0, x_0), color = \"green\")\n",
    "\n",
    "plt.plot(x, sp.jn(0, x), \"blue\")\n",
    "plt.plot(x, numpy.zeros(x.shape),'r--')\n",
    "plt.xlim((0, 32))\n",
    "plt.ylim((-0.5, 1.1))\n",
    "plt.xlabel(\"$x$\", fontsize = 12)\n",
    "plt.ylabel(\"${J}_0(x)$\", fontsize = 12)\n",
    "plt.title(\"Plot of ${J}_0(x)$\", fontsize = 15)\n",
    "plt.grid()\n",
    "\n",
    "plt.show()"
   ]
  },
  {
   "cell_type": "markdown",
   "id": "be3a79aa",
   "metadata": {
    "deletable": false,
    "editable": false,
    "nbgrader": {
     "cell_type": "markdown",
     "checksum": "2fa0ce02645733e89521ce24ac3221ad",
     "grade": false,
     "grade_id": "cell-3972713439004112",
     "locked": true,
     "schema_version": 3,
     "solution": false
    }
   },
   "source": [
    "**(b)** [15] Now write a function `j0_zeros` that takes two tolerances, a bracket size tolerance `bracket_tolerance` and `tolerance` for the final convergence tolerance.  Given an initial bracket, the function should perform secant iterations until the bracket size is less than `bracket_tolerance`.  If this is successful then proceed with Newton's method using the newest value of the bracket until `tolerance` is reached.  Return both the zero found and the number of steps needed in each iteration.  Also write a `doc-string` for the function.\n",
    "\n",
    "Notes:\n",
    " - Newton's method by itself does not work here given the initial brackets provided.\n",
    " - The secant method does work however it is slower than the approach outlined.\n",
    " - Try playing a bit yourself with the tolerances used."
   ]
  },
  {
   "cell_type": "code",
   "execution_count": 12,
   "id": "ba53b408",
   "metadata": {
    "deletable": false,
    "nbgrader": {
     "cell_type": "code",
     "checksum": "e30ffac20d290e5315523ec3b3bd1990",
     "grade": false,
     "grade_id": "cell-7682118260303845",
     "locked": false,
     "schema_version": 3,
     "solution": true
    }
   },
   "outputs": [],
   "source": [
    "import scipy.special\n",
    "\n",
    "# Note that the num_steps being returned should be a list \n",
    "# of the number of steps being used in each method\n",
    "def j0_zeros(x_0, bracket_tolerance, tolerance):\n",
    "    \n",
    "    MAX_STEPS = 1000\n",
    "    n1 = -1          #steps of secant method\n",
    "    n2 = -1          #steps of Newton's method\n",
    "    num_steps = []\n",
    "    x0 = x_0[0]\n",
    "    x1 = x_0[1]\n",
    "    \n",
    "    #Secant method\n",
    "    for steps in range(MAX_STEPS+1):\n",
    "        if abs(x0 - x1) < bracket_tolerance:\n",
    "            n1 = steps        \n",
    "            break\n",
    "        x2 = x1 - sp.jn(0,x1) * (x1 - x0) / (sp.jn(0,x1) - sp.jn(0,x0))\n",
    "        x0 = x1\n",
    "        x1 = x2\n",
    "    \n",
    "    x = x1      #newest value of the bracket\n",
    "    \n",
    "    #Newton's method\n",
    "    for steps in range(MAX_STEPS+1):\n",
    "        if abs(sp.jn(0,x)) < tolerance:\n",
    "            n2 = steps\n",
    "            break\n",
    "        x += -sp.jn(0,x)/(-sp.jn(1,x))    #first derivative of j_0 = -j_1\n",
    "    \n",
    "    num_steps = [n1,n2]\n",
    "    return x, num_steps"
   ]
  },
  {
   "cell_type": "code",
   "execution_count": 13,
   "id": "e9a05bef",
   "metadata": {
    "deletable": false,
    "editable": false,
    "nbgrader": {
     "cell_type": "code",
     "checksum": "20fb02c5c2c91bb1fb327b30aba0def0",
     "grade": true,
     "grade_id": "cell-8745624911626985",
     "locked": true,
     "points": 15,
     "schema_version": 3,
     "solution": false
    }
   },
   "outputs": [
    {
     "name": "stdout",
     "output_type": "stream",
     "text": [
      "2.404825557695773 [2, 3]\n",
      "5.520078110286311 [4, 2]\n",
      "8.65372791291101 [2, 3]\n",
      "11.791534439014281 [3, 2]\n",
      "14.930917708487785 [2, 2]\n",
      "18.071063967910924 [2, 2]\n",
      "21.21163662987926 [3, 2]\n",
      "24.352471530749302 [4, 2]\n",
      "27.493479132040253 [2, 3]\n",
      "30.634606468431976 [3, 2]\n",
      "Success!\n"
     ]
    }
   ],
   "source": [
    "brackets = [[ 2.0,  3.0], [ 4.0,  7.0], [ 7.0, 10.0], [10.0, 12.0], \n",
    "            [13.0, 15.0], [17.0, 19.0], [19.0, 22.0], \n",
    "            [22.0, 26.0], [26.0, 29.0], [29.0, 32.0]]\n",
    "\n",
    "zero = []\n",
    "for bracket in brackets:\n",
    "    x, num_steps = j0_zeros(bracket, 1e-1, 1e-15)\n",
    "    print(x, num_steps)\n",
    "    zero.append(x)\n",
    "numpy.testing.assert_allclose(zero, scipy.special.jn_zeros(0, 10), atol=0.0, rtol=1e-14)\n",
    "print(\"Success!\")"
   ]
  },
  {
   "cell_type": "markdown",
   "id": "3e4c8240",
   "metadata": {
    "deletable": false,
    "editable": false,
    "nbgrader": {
     "cell_type": "markdown",
     "checksum": "ce2d49418fa1c2c18233046b0d27390d",
     "grade": false,
     "grade_id": "cell-1895631505644296",
     "locked": true,
     "schema_version": 3,
     "solution": false
    }
   },
   "source": [
    "## Question 3 - Newton's Method Convergence\n",
    "\n",
    "Recall that Newton's method converges as\n",
    "\n",
    "$$|\\epsilon_{n+1}| = \\frac{|f''(c)|}{2 |f'(x_n)|} |\\epsilon_n|^2$$\n",
    "\n",
    "with $\\epsilon_n = x_n - x^*$ where $x^*$ is the true solution and $c$ is between $x_n$ and $x^*$."
   ]
  },
  {
   "cell_type": "markdown",
   "id": "8cd89fe3",
   "metadata": {
    "deletable": false,
    "editable": false,
    "nbgrader": {
     "cell_type": "markdown",
     "checksum": "3564bd5ebb9f5fd6f0859836348eb869",
     "grade": false,
     "grade_id": "cell-1970749459305849",
     "locked": true,
     "schema_version": 3,
     "solution": false
    }
   },
   "source": [
    "**(a)** [5] Show that the Newton iteration when $f(x) = x^2 - M$ with $M > 0$ is\n",
    "\n",
    "$$x_{n+1} = \\frac{1}{2} \\left (x_n + \\frac{M}{x_n} \\right )$$"
   ]
  },
  {
   "cell_type": "markdown",
   "id": "d402bada",
   "metadata": {
    "deletable": false,
    "nbgrader": {
     "cell_type": "markdown",
     "checksum": "73ae54bbcc15a6e30615e49b9a86bffb",
     "grade": true,
     "grade_id": "cell-5376958157033915",
     "locked": false,
     "points": 5,
     "schema_version": 3,
     "solution": true
    }
   },
   "source": [
    "**Solution:**\n",
    "According to the Newton's Method,\n",
    "$$\\delta_n = -f(x_n)/f'(x_n)$$\n",
    "and\n",
    "\n",
    "$$x_{n+1} = x_k -f(x_n)/f'(x_n)$$\n",
    "\n",
    "We have $f(x) = x^2-M$, and $f''(x_n) = 2x_n$.\n",
    "\n",
    "Therefore, \n",
    "$$x_{n+1} = x_n - \\frac{x_n^2-M}{2X_n} = \\frac{x_n^2+M}{2x_n} = \\frac{1}{2} \\left (x_n + \\frac{M}{x_n} \\right )$$"
   ]
  },
  {
   "cell_type": "markdown",
   "id": "cc00a6c3",
   "metadata": {
    "deletable": false,
    "editable": false,
    "nbgrader": {
     "cell_type": "markdown",
     "checksum": "63a8d0a37b230257c215b4d8f2b5d2eb",
     "grade": false,
     "grade_id": "cell-9901692029020576",
     "locked": true,
     "schema_version": 3,
     "solution": false
    }
   },
   "source": [
    "**(b)** [5] From this update scheme show that \n",
    "\n",
    "$$\\frac{x_{n+1} - \\sqrt{M}}{(x_n - \\sqrt{M})^2} = \\frac{1}{2 x_n}$$"
   ]
  },
  {
   "cell_type": "markdown",
   "id": "20caeaaf",
   "metadata": {
    "deletable": false,
    "nbgrader": {
     "cell_type": "markdown",
     "checksum": "e9eda6c5603509fa19668b6f8a7e1454",
     "grade": true,
     "grade_id": "cell-1681194282750238",
     "locked": false,
     "points": 5,
     "schema_version": 3,
     "solution": true
    }
   },
   "source": [
    "**Solution:**\n",
    "\n",
    "\n",
    "Plug in $x_{n+1} = \\frac{1}{2} \\left (x_n + \\frac{M}{x_n} \\right )$\n",
    "\n",
    "We then derive:\n",
    "$$x_{n+1} = \\frac{\\frac{1}{2}(x_n+\\frac{M}{x_n})-\\sqrt{M}}{x_n^2-2x_n\\cdot \\sqrt{M}+M}\n",
    "= \\frac{\\frac{1}{2}x_n+\\frac{M}{2x_n}-\\sqrt{M}}{x_n^2-2x_n\\cdot \\sqrt{M}+M}\n",
    "= \\frac{\\frac{1}{2}(x_n+\\frac{M}{x_n}-2\\sqrt{M})}{x_n(x_n-2\\sqrt{M}+\\frac{M}{x_n})}\n",
    "$$\n",
    "\n",
    "We are conducting approximation, which means that $Xn^2 \\neq M$, and $x_n+\\frac{M}{2x_n} \\geq 2\\sqrt{M}$\n",
    "\n",
    "Therefore, we can cancel $(x_n+\\frac{M}{x_n}-2\\sqrt{M})$, we get\n",
    "\n",
    "$$x_{n+1} = \\frac{1}{2x_n} $$"
   ]
  },
  {
   "cell_type": "markdown",
   "id": "4c359ca3",
   "metadata": {
    "deletable": false,
    "editable": false,
    "nbgrader": {
     "cell_type": "markdown",
     "checksum": "64de3c08e6917ff9441b8a9abcfa2bfd",
     "grade": false,
     "grade_id": "cell-3789064265524234",
     "locked": true,
     "schema_version": 3,
     "solution": false
    }
   },
   "source": [
    "**(c)** [5] Confirm that the asymptotic error convergence matches the general convergence for Newton's method."
   ]
  },
  {
   "cell_type": "markdown",
   "id": "addf8636",
   "metadata": {
    "deletable": false,
    "nbgrader": {
     "cell_type": "markdown",
     "checksum": "f58b129b0582779f64fab7ff1e00722b",
     "grade": true,
     "grade_id": "cell-3410885017024889",
     "locked": false,
     "points": 5,
     "schema_version": 3,
     "solution": true
    }
   },
   "source": [
    "**Solution:**\n",
    "- Asymptotic error convergence:\n",
    "\n",
    "From the lecture, recall that Newton's method is quadratically convergent where the constant is controlled by the second derivative.\n",
    "\n",
    "In this case, $g(x) = \\frac{1}{2}(x+\\frac{M}{x})$\n",
    "$$g'(x) = \\frac{1}{2} (1-\\frac{M}{x^2}) $$\n",
    "$$g''(x) = \\frac{M}{x^3}$$\n",
    "\n",
    "As $n \\rightarrow \\infty$, $x_n \\rightarrow \\sqrt{M}$, therefore\n",
    "$$g''(x) \\rightarrow \\frac{M}{M^\\frac{3}{2}} = \\frac{1}{\\sqrt{M}}$$\n",
    "\n",
    "- General error convergence:\n",
    "By definition, \n",
    "error convergence is $$ \\lim_{n\\to \\infty} \\frac{x_{n+1} - \\sqrt{M}}{(x_n - \\sqrt{M})^2} = \\lim_{n\\to \\infty} \\frac{1}{2x_n} = \\frac{1}{\\sqrt{M}}$$\n",
    "\n",
    "- Therefore, the asymptotic error convergence matches the general convergence for Newton's method"
   ]
  },
  {
   "cell_type": "markdown",
   "id": "d30a127c",
   "metadata": {
    "deletable": false,
    "editable": false,
    "nbgrader": {
     "cell_type": "markdown",
     "checksum": "67aca1bbaa301c3dad29d53c9e8a45a3",
     "grade": false,
     "grade_id": "cell-2963452578552376",
     "locked": true,
     "schema_version": 3,
     "solution": false
    }
   },
   "source": [
    "## Question 4 - Optimization of a Data Series\n",
    "\n",
    "For the following questions we are given a set of data $(t_0, y_0), (t_1, y_1), \\ldots, (t_N, y_N)$."
   ]
  },
  {
   "cell_type": "markdown",
   "id": "3561f899",
   "metadata": {
    "deletable": false,
    "editable": false,
    "nbgrader": {
     "cell_type": "markdown",
     "checksum": "99865c6907cba00f23c83841e70bab5c",
     "grade": false,
     "grade_id": "cell-9716535939329100",
     "locked": true,
     "schema_version": 3,
     "solution": false
    }
   },
   "source": [
    "**(a)** [10] Write a function that takes in the data series $(t_i, y_i)$ and finds the value at a point $t_\\ast$ by constructing the equation of the line between the two data points that bound $t_\\ast$ and evaluating the resulting function at $t_\\ast$.\n",
    "\n",
    "Hints:\n",
    " - Make sure to handle the case that $t_\\ast = t_i$.\n",
    " - If $t_\\ast < t_0$ or $t_\\ast > t_N$ then return the corresponding value $y_0$ or $y_N$.\n",
    " - If you write your function so that $t_\\ast$ can be an array you can use the plotting code in the cell.  Otherwise just delete it."
   ]
  },
  {
   "cell_type": "code",
   "execution_count": 14,
   "id": "bbfd86e3",
   "metadata": {
    "deletable": false,
    "nbgrader": {
     "cell_type": "code",
     "checksum": "2fdf54d892959ab9ce8602abe5b84a01",
     "grade": false,
     "grade_id": "cell-5955761976853694",
     "locked": false,
     "schema_version": 3,
     "solution": true
    }
   },
   "outputs": [],
   "source": [
    "from scipy.interpolate import lagrange\n",
    "def linear_eval(t, y, t_star):\n",
    "    # YOUR CODE HERE\n",
    "    #raise NotImplementedError()\n",
    "\n",
    "    if t_star < t[0]:\n",
    "        y_star = y[0]\n",
    "    if t_star > t[N]:\n",
    "        y_star = y[N]\n",
    "        \n",
    "    diff_arr = numpy.absolute(t - t_star)\n",
    "    i = diff_arr.argmin()\n",
    "    \n",
    "    if t[i] == t_star:\n",
    "        y_star = y[i]\n",
    "    \"\"\"\n",
    "    else:\n",
    "        f = lagrange(t, y)\n",
    "        y_star = f(t_star)\n",
    "        plt.plot(t,y,\"g\")\n",
    "        plt.plot(t, f(t),\"r\")\n",
    "    \"\"\"\n",
    "    # If I use Lagrange here, this cell can succeed, but the golden search cell will fail, I don't know why.\n",
    "    # I have to write lagrange by hands as below:\n",
    "\n",
    "    if t[i] < t_star:\n",
    "        x0 = t[i]\n",
    "        del_x = t[i+1] - x0\n",
    "        y0 = y[i]\n",
    "        del_y = y[i+1] - y0\n",
    "        y_star = y0 + del_y * (t_star - x0)/del_x\n",
    "    if t[i] > t_star:\n",
    "        x1 = t[i]\n",
    "        del_x = x1 - t[i-1]\n",
    "        y1 = y[i]\n",
    "        del_y = y1-y[i-1]\n",
    "        y_star = y[i-1] + del_y * (t_star - t[i-1])/del_x\n",
    "        \n",
    "    return y_star\n",
    "\n",
    "N = 10\n",
    "t_fine = numpy.linspace(0.0, 2.0 * numpy.pi, 100)\n",
    "t_rand = numpy.random.rand(N + 1) * (2.0 * numpy.pi)\n",
    "t_rand.sort()\n",
    "f = lambda x: numpy.sin(x) * numpy.cos(2.0 * x)\n"
   ]
  },
  {
   "cell_type": "code",
   "execution_count": 15,
   "id": "5aeae002",
   "metadata": {
    "deletable": false,
    "editable": false,
    "nbgrader": {
     "cell_type": "code",
     "checksum": "5322aa62a6f529bdfdea312064590441",
     "grade": true,
     "grade_id": "cell-8787061490582512",
     "locked": true,
     "points": 10,
     "schema_version": 3,
     "solution": false
    }
   },
   "outputs": [
    {
     "name": "stdout",
     "output_type": "stream",
     "text": [
      "Computed solution: 0.42073549240394825\n",
      "True solution: 0.42073549240394825\n",
      "Success!\n"
     ]
    }
   ],
   "source": [
    "# Note that these tests can fail sometimes as it is dependent on random data.\n",
    "N = 100\n",
    "f = lambda x: numpy.sin(x) * numpy.cos(x)\n",
    "t = numpy.linspace(-1, 1, N + 1)\n",
    "t_star = 0.5\n",
    "answer = linear_eval(t, f(t), t_star)\n",
    "if isinstance(answer, list):\n",
    "    answer = answer[0]\n",
    "print(\"Computed solution: %s\" % answer)\n",
    "print(\"True solution: %s\" % f(t_star))\n",
    "numpy.testing.assert_almost_equal(answer, f(t_star), verbose=True, decimal=7)\n",
    "print(\"Success!\")"
   ]
  },
  {
   "cell_type": "markdown",
   "id": "24253fd8",
   "metadata": {
    "deletable": false,
    "editable": false,
    "nbgrader": {
     "cell_type": "markdown",
     "checksum": "764fa183decc247b7b5b22a9ad0218c7",
     "grade": false,
     "grade_id": "cell-9221022888696880",
     "locked": true,
     "schema_version": 3,
     "solution": false
    }
   },
   "source": [
    "**(b)** [10] Using the function you wrote in part (a) write a function that uses Golden search to find the maximum of a series of data.  Again you can use the plotting code available if your `linear_eval` function from part (a) handles arrays.  Note that the initial bracket you are given will determine what maximum you will find."
   ]
  },
  {
   "cell_type": "code",
   "execution_count": 18,
   "id": "a939445b",
   "metadata": {
    "deletable": false,
    "nbgrader": {
     "cell_type": "code",
     "checksum": "38cf3c018b72de9540b216d0c84ced99",
     "grade": false,
     "grade_id": "cell-6971359312048652",
     "locked": false,
     "schema_version": 3,
     "solution": true
    }
   },
   "outputs": [
    {
     "data": {
      "image/png": "[encoded data removed]",
      "text/plain": [
       "<Figure size 640x480 with 1 Axes>"
      ]
     },
     "metadata": {
      "needs_background": "light"
     },
     "output_type": "display_data"
    }
   ],
   "source": [
    "def golden_search(bracket, t, y, max_steps=100, tolerance=1e-4):\n",
    "\n",
    "    phi = (numpy.sqrt(5.0) - 1.0) / 2.0\n",
    "    \n",
    "    # YOUR CODE HERE\n",
    "    #raise NotImplementedError()\n",
    "\n",
    "    x = [ bracket[0], None, None, bracket[1] ]\n",
    "    \n",
    "    delta_x = x[3] - x[0]\n",
    "    x[1] = x[3] - phi * delta_x\n",
    "    x[2] = x[0] + phi * delta_x\n",
    "    \n",
    "    # check for initial bracket\n",
    "\n",
    "    bracket_max = max(linear_eval(t, y, x[0]), linear_eval(t, y, x[3]))\n",
    "    if linear_eval(t, y, x[0]) < bracket_max and linear_eval(t, y, x[3]) < bracket_max:\n",
    "        raise ValueError(\"interval does not appear to include a maximum\")\n",
    "    elif delta_x < tolerance:\n",
    "        raise ValueError(\"interval is already smaller than tolerance\")\n",
    "\n",
    "    x_mid = (x[3] + x[0])/2.\n",
    "    x_array = [ x_mid ]\n",
    "    for k in range(1, max_steps + 1):\n",
    "        y_1 = linear_eval(t, y, x[1])\n",
    "        y_2 = linear_eval(t, y, x[2])\n",
    "    \n",
    "        if y_1 > y_2:\n",
    "            # Pick the left bracket\n",
    "            x_new = [x[0], None, x[1], x[2]]\n",
    "            delta_x = x_new[3] - x_new[0]\n",
    "            x_new[1] = x_new[3] - phi * delta_x\n",
    "        else:\n",
    "            # Pick the right bracket\n",
    "            x_new = [x[1], x[2], None, x[3]]\n",
    "            delta_x = x_new[3] - x_new[0]\n",
    "            x_new[2] = x_new[0] + phi * delta_x\n",
    "        x = x_new\n",
    "        x_array.append((x[3] + x[0])/ 2.)\n",
    "        \n",
    "        if numpy.abs(x[3] - x[0]) < tolerance:\n",
    "            break\n",
    "    \n",
    "    t_star = x_array[-1]\n",
    "    \n",
    "    if k == max_steps:\n",
    "        warnings.warn('Maximum number of steps exceeded')\n",
    "\n",
    "    return t_star\n",
    "\n",
    "N = 50\n",
    "t = numpy.random.rand(N + 1) * (2.0 * numpy.pi)\n",
    "t.sort()\n",
    "y = numpy.sin(t) * numpy.cos(2.0 * t)\n",
    "t_star = golden_search([4.0, 5.0], t, y)\n",
    "t_true = 3.0 *numpy.pi / 2.0\n",
    "\n",
    "fig = plt.figure()\n",
    "axes = fig.add_subplot(1, 1, 1)\n",
    "\n",
    "axes.plot(t, y, 'x', label=\"data\")\n",
    "t_fine = numpy.linspace(0.0, 2.0 * numpy.pi, 100)\n",
    "axes.plot(t_fine, numpy.sin(t_fine) * numpy.cos(2.0 * t_fine), 'k', label=\"$f(x)$\")\n",
    "axes.plot(t_star, linear_eval(t, y, t_star), 'go')\n",
    "axes.plot(t_true, numpy.sin(t_true) * numpy.cos(2.0 * t_true), 'ko', label=\"True\")\n",
    "#axes.set_xlim((3.0, 6.0))\n",
    "#axes.set_ylim((-0.5, 1.1))\n",
    "plt.show()\n",
    "\n",
    "#sometimes success, sometimes fail"
   ]
  },
  {
   "cell_type": "code",
   "execution_count": 19,
   "id": "fdb96fd9",
   "metadata": {
    "deletable": false,
    "editable": false,
    "nbgrader": {
     "cell_type": "code",
     "checksum": "2afc844ca06d25419df08323eaa17c55",
     "grade": true,
     "grade_id": "cell-4542008334156387",
     "locked": true,
     "points": 10,
     "schema_version": 3,
     "solution": false
    }
   },
   "outputs": [
    {
     "name": "stdout",
     "output_type": "stream",
     "text": [
      "Error: 0.025367663068378565, 0.009228317650336378\n",
      "Success!\n"
     ]
    }
   ],
   "source": [
    "N = 100\n",
    "t = numpy.random.rand(N + 1) * (2.0 * numpy.pi)\n",
    "t.sort()\n",
    "y = numpy.sin(t) * numpy.cos(2.0 * t)\n",
    "t_star = golden_search([2.0, 3.0], t, y)\n",
    "t_true = 7.0 * numpy.pi / 8.0\n",
    "abs_error = numpy.abs(t_star - t_true)\n",
    "rel_error = numpy.abs(t_star - t_true) / numpy.abs(t_true)\n",
    "print(\"Error: %s, %s\" % (abs_error, rel_error))\n",
    "numpy.testing.assert_allclose(abs_error, 0.0, rtol=1e-1, atol=1e-1)\n",
    "print(\"Success!\")"
   ]
  },
  {
   "cell_type": "markdown",
   "id": "d1503330",
   "metadata": {
    "deletable": false,
    "editable": false,
    "nbgrader": {
     "cell_type": "markdown",
     "checksum": "126bf7aa44d2a86a0bfc84ee186961c4",
     "grade": false,
     "grade_id": "cell-3415405761860037",
     "locked": true,
     "schema_version": 3,
     "solution": false
    }
   },
   "source": [
    "**(c)** [5] Below is sample code that plots the number of sample points $N$ vs. the relative error.  Note because we are sampling at random points that we do each $N$ 6 times and average the relative error to reduce noise.  Additionally a line is drawn representing what would be linear (1st order) convergence.\n",
    "\n",
    "Modify this code and try it out on other problems.  Do you continue to see linear convergence?  What about if you change how we sample points?  Make sure that you change your initial interval and range of values of $t$ inside the loop."
   ]
  },
  {
   "cell_type": "code",
   "execution_count": 20,
   "id": "e1b866ed",
   "metadata": {
    "deletable": false,
    "nbgrader": {
     "cell_type": "code",
     "checksum": "c7e4ec1527c50fd8b956d5dc10208176",
     "grade": true,
     "grade_id": "cell-90b62a8115081783",
     "locked": false,
     "points": 2,
     "schema_version": 3,
     "solution": true,
     "task": false
    }
   },
   "outputs": [
    {
     "data": {
      "image/png": "[encoded data removed]",
      "text/plain": [
       "<Figure size 1600x600 with 2 Axes>"
      ]
     },
     "metadata": {
      "needs_background": "light"
     },
     "output_type": "display_data"
    }
   ],
   "source": [
    "# YOUR CODE HERE\n",
    "#raise NotImplementedError()\n",
    "\n",
    "f = lambda t: numpy.sin(t) * numpy.cos(2.0 * t)\n",
    "N_range = numpy.array([2**n for n in range(4, 10)], dtype=int)\n",
    "rel_error = numpy.zeros(len(N_range))\n",
    "t_true = 3.0 * numpy.pi / 2.0\n",
    "\n",
    "for (i, N) in enumerate(N_range):\n",
    "    for j in range(6):\n",
    "        t = numpy.random.rand(N + 1) * (2.0 * numpy.pi)\n",
    "        t.sort()\n",
    "        y = f(t)\n",
    "        t_star = golden_search([4.0, 5.0], t, y)\n",
    "        rel_error[i] += numpy.abs(t_star - t_true) / numpy.abs(t_true)\n",
    "    rel_error[i] /= 6\n",
    "\n",
    "order_C = lambda N, error, order: numpy.exp(numpy.log(error) - order * numpy.log(N))\n",
    "\n",
    "\n",
    "fig = plt.figure(figsize = (16, 6))\n",
    "axes = fig.add_subplot(1, 2, 1)\n",
    "\n",
    "axes.loglog(N_range, rel_error, 'ko', label=\"Ave. Error\")\n",
    "axes.loglog(N_range, order_C(N_range[0], rel_error[0], -1.0) * N_range**(-1.0), 'r', label=\"1st order\")\n",
    "axes.loglog(N_range, order_C(N_range[0], rel_error[0], -2.0) * N_range**(-2.0), 'b', label=\"2nd Order\")\n",
    "axes.set_xlabel(\"N\")\n",
    "axes.set_ylabel(\"Relative Error\")\n",
    "axes.legend()\n",
    "\n",
    "f = lambda t: -t**2 + 2*t -1\n",
    "N_range = numpy.array([2**n for n in range(2, 12)], dtype=int)\n",
    "rel_error = numpy.zeros(len(N_range))\n",
    "t_true = 1\n",
    "\n",
    "order_C_new = lambda N, error, order: numpy.exp(numpy.log(error) - order * numpy.log(N))\n",
    "\n",
    "for (i, N) in enumerate(N_range):\n",
    "    for j in range(6):\n",
    "        t = numpy.random.rand(N + 1) * 3 * numpy.pi\n",
    "        t.sort()\n",
    "        y = f(t)\n",
    "        t_star = golden_search([0.0, 3.0], t, y)\n",
    "        rel_error[i] += numpy.abs(t_star - t_true) / numpy.abs(t_true)\n",
    "    rel_error[i] /= 6\n",
    "\n",
    "axes = fig.add_subplot(1, 2, 2)\n",
    "axes.loglog(N_range, rel_error, 'ko', label=\"Ave. Error\")\n",
    "axes.loglog(N_range, order_C_new(N_range[0], rel_error[0], -1.0) * N_range**(-1.0), 'r', label=\"1st order\")\n",
    "axes.loglog(N_range, order_C_new(N_range[0], rel_error[0], -2.0) * N_range**(-2.0), 'b', label=\"2nd Order\")\n",
    "axes.set_xlabel(\"N\")\n",
    "axes.set_ylabel(\"Relative Error\")\n",
    "axes.legend()\n",
    "\n",
    "plt.show()"
   ]
  },
  {
   "cell_type": "markdown",
   "id": "1ee50121",
   "metadata": {
    "deletable": false,
    "nbgrader": {
     "cell_type": "markdown",
     "checksum": "fefab34bd08c9918549ed479050f03df",
     "grade": true,
     "grade_id": "cell-1212131569444476",
     "locked": false,
     "points": 3,
     "schema_version": 3,
     "solution": true
    }
   },
   "source": [
    "**Conclusion:**\n",
    "The relative error will always converge linearly, no matter how mant points and where is the initial interval.\n",
    "\n",
    "**Explanation:**\n",
    "\n",
    "We have computed in class that $$x = \\frac{\\sqrt{5} - 1}{2} = \\varphi = 0.6180339887498949$$\n",
    "\n",
    "which means that if the golden search strategy is followed right from the beginning, in each iterative step the bracketing interval will shrink to $\\varphi \\approx 61.8\\% $ of its previous size. Therefore, this method converges linearly, and the rate of convergence is approximately 0.618."
   ]
  },
  {
   "cell_type": "markdown",
   "id": "8d2ad0fe",
   "metadata": {
    "deletable": false,
    "editable": false,
    "nbgrader": {
     "cell_type": "markdown",
     "checksum": "5a87d72763510c284ca09cfd8a302540",
     "grade": false,
     "grade_id": "cell-2596381852207731",
     "locked": true,
     "schema_version": 3,
     "solution": false
    }
   },
   "source": [
    "## Question 9 - Inverse Quadratic Interpolation\n",
    "\n",
    "Let us see if we can extend the idea of the secant method to a higher order version.  The idea then is to take 3 values of the function such that $(x_0, f(x_0))$, $(x_1, f(x_1))$, and $(x_2, f(x_2))$ and fit an inverse quadratic function through these points (note that this requires that $f(x_i) \\neq f(x_j) \\forall i \\neq j$).  The inverse function can be written as\n",
    "$$\n",
    "    g(y) = x_2 + \\frac{(y - f(x_1)) (y - f(x_2))(x_0 - x_2)}{(f(x_0) - f(x_1))(f(x_0) - f(x_2))} + \\frac{(y - f(x_0)) (y - f(x_2))(x_1 - x_2)}{(f(x_1) - f(x_0))(f(x_1) - f(x_2))}\n",
    "$$\n",
    "Inverse quadratic interpolation is one of the core components of many root solvers in libraries such as `numpy`.\n",
    "\n",
    "Using this new function answer the following questions."
   ]
  },
  {
   "cell_type": "markdown",
   "id": "2cde647a",
   "metadata": {
    "deletable": false,
    "editable": false,
    "nbgrader": {
     "cell_type": "markdown",
     "checksum": "a9c25c7cd4f80574b092d4ab90af003f",
     "grade": false,
     "grade_id": "cell-3591658918366849",
     "locked": true,
     "schema_version": 3,
     "solution": false
    }
   },
   "source": [
    "**(a)** [5] Find the x-intercept of the function $g(y)$."
   ]
  },
  {
   "cell_type": "markdown",
   "id": "ecac884b",
   "metadata": {
    "deletable": false,
    "nbgrader": {
     "cell_type": "markdown",
     "checksum": "6cc77c45517ab6219d3fc13542c38e8a",
     "grade": true,
     "grade_id": "cell-693591336400361",
     "locked": false,
     "points": 5,
     "schema_version": 3,
     "solution": true
    }
   },
   "source": [
    "**Solutions:**\n",
    "$$\n",
    "    g(0) = x_3 = x_2 + \\frac{ f(x_1) f(x_2)(x_0 - x_2)}{(f(x_0) - f(x_1))(f(x_0) - f(x_2))} + \\frac{f(x_0) f(x_2)(x_1 - x_2)}{(f(x_1) - f(x_0))(f(x_1) - f(x_2))}\n",
    "$$\n",
    "\n",
    "\n",
    "Our objective: detach $x_3 = ax_2 + bx_1 + cx_0$\n",
    "\n",
    "To solve for $g(y)$ which is where the line intersects the x-axies ($y=0$),\n",
    "\n",
    "$$g^{-1}(y) = \\frac{(y-f(x_1))(y-f(x_2))}{(f(x_0)-f(x_1))(f(x_0)-f(x_2))}x_0 + \n",
    "\\frac{(y-f(x_0))(y-f(x_2))}{(f(x_1)-f(x_0))(f(x_1)-f(x_2))}x_1 + \n",
    "\\frac{(y-f(x_0))(y-f(x_1))}{(f(x_2)-f(x_0))(f(x_2)-f(x_1))}x_2\n",
    "$$\n",
    "\n",
    "Therefore, let $y = 0$, we have\n",
    "\n",
    "$$x_3 = \\frac{f(x_1)f(x_2)}{(f(x_0)-f(x_1))(f(x_0)-f(x_2))}x_0\n",
    " + \\frac{f(x_0)f(x_2)}{(f(x_1)-f(x_0))(f(x_1)-f(x_2))}x_1\n",
    " + \\frac{f(x_0)f(x_1)}{(f(x_2)-f(x_0))(f(x_2)-f(x_1))}x_2\n",
    "$$"
   ]
  },
  {
   "cell_type": "markdown",
   "id": "39feaf11",
   "metadata": {
    "deletable": false,
    "editable": false,
    "nbgrader": {
     "cell_type": "markdown",
     "checksum": "138016a73acd6783ddadb893dc5b39fa",
     "grade": false,
     "grade_id": "cell-1774845494924988",
     "locked": true,
     "schema_version": 3,
     "solution": false
    }
   },
   "source": [
    "**(b)** [5] Write down the resulting iteration so that it has the form\n",
    "$$\n",
    "    x_{n+1} = x_n + \\phi(x_n, x_{n-1}, x_{n-2})\n",
    "$$\n",
    "where $\\phi(x_n, x_{n-1}, x_{n-2})$ can also contain evaluations of the original function $f(x)$."
   ]
  },
  {
   "cell_type": "markdown",
   "id": "40da9f0e",
   "metadata": {
    "deletable": false,
    "nbgrader": {
     "cell_type": "markdown",
     "checksum": "8780df7c2db1ba3bac00b72173fb8533",
     "grade": true,
     "grade_id": "cell-6984397730423716",
     "locked": false,
     "points": 5,
     "schema_version": 3,
     "solution": true
    }
   },
   "source": [
    "$$\n",
    "    x_{n+1} = x_{n} + \\frac{ f(x_{n-1}) f(x_{n})(x_{n-2} - x_n)}{(f(x_{n-2}) - f(x_{n-1}))(f(x_{n-2}) - f(x_n))} + \\frac{f(x_{n-2}) f(x_n)(x_{n-1} - x_n)}{(f(x_{n-1}) - f(x_{n-2}))(f(x_{n-1}) - f(x_n))}\n",
    "$$"
   ]
  },
  {
   "cell_type": "markdown",
   "id": "ca9e9540",
   "metadata": {
    "deletable": false,
    "editable": false,
    "nbgrader": {
     "cell_type": "markdown",
     "checksum": "e26a7a7830d0e3e4e5f1cfbc0f85bc89",
     "grade": false,
     "grade_id": "cell-48298625886664",
     "locked": true,
     "schema_version": 3,
     "solution": false
    }
   },
   "source": [
    "**(c)** [10] Write a function that implements the inverse quadratic interpolation root finding method which takes in a function $f$ and an initial triplet for an initial guess $(x_0, x_1, x_2)$.  Make sure that it handles the case when the maximum number of steps is taken."
   ]
  },
  {
   "cell_type": "code",
   "execution_count": 120,
   "id": "4aaf1a85",
   "metadata": {
    "deletable": false,
    "nbgrader": {
     "cell_type": "code",
     "checksum": "eb83d0fb2195858989d4ca7c55cd73f8",
     "grade": false,
     "grade_id": "cell-6073937733507223",
     "locked": false,
     "schema_version": 3,
     "solution": true
    }
   },
   "outputs": [],
   "source": [
    "def inv_quad_root(f, x, tolerance=1e-4, max_steps=100):\n",
    "    \"\"\"Find a root of f(x) using inverse quadratic interpolation\n",
    "    \n",
    "    :Input:\n",
    "     - *f* (func) Function to find the root of.\n",
    "     - *x* (list) A triplet of values to be used to start the method.  Note\n",
    "       that the triplet starts with the x_0 value and ends with the x_2 value\n",
    "       in terms of the iteration scheme.\n",
    "     - *tolerance* (float) Tolerance used as a stopping criteria with \n",
    "       |f(x_n)| < tolerance.\n",
    "     - *max_steps* (int) Maximum number of steps allowed.  Raise an exception\n",
    "       if max_steps are reached.\n",
    "    :Output:\n",
    "     - (float) Converged root.\n",
    "    \"\"\"\n",
    "    # YOUR CODE HERE\n",
    "    #raise NotImplementedError()\n",
    "    \n",
    "    x0 = x[0]\n",
    "    x1 = x[1]\n",
    "    x2 = x[2]\n",
    "    \n",
    "    steps_taken = 0\n",
    "    while steps_taken < max_steps+1 and abs(x1-x0) > tolerance:\n",
    "        fx0 = f(x0)\n",
    "        fx1 = f(x1)\n",
    "        fx2 = f(x2)\n",
    "        L0 = (x0 * fx1 * fx2) / ((fx0 - fx1) * (fx0 - fx2))\n",
    "        L1 = (x1 * fx0 * fx2) / ((fx1 - fx0) * (fx1 - fx2))\n",
    "        L2 = (x2 * fx1 * fx0) / ((fx2 - fx0) * (fx2 - fx1))\n",
    "        new = L0 + L1 + L2\n",
    "        x0, x1, x2 = new, x0, x1\n",
    "        steps_taken += 1\n",
    "    x[2]= x1\n",
    "    \n",
    "    if steps_taken == max_steps:\n",
    "        raise ValueError(\"Maximum Numbers of Steps Exceeded\")\n",
    "    \n",
    "    return x[2]"
   ]
  },
  {
   "cell_type": "code",
   "execution_count": 121,
   "id": "8ce94783",
   "metadata": {
    "deletable": false,
    "editable": false,
    "nbgrader": {
     "cell_type": "code",
     "checksum": "dca3376b6ef84606347e660c6870b0aa",
     "grade": true,
     "grade_id": "cell-9399253999786286",
     "locked": true,
     "points": 10,
     "schema_version": 3,
     "solution": false
    }
   },
   "outputs": [
    {
     "name": "stdout",
     "output_type": "stream",
     "text": [
      "Found root = 0.08985599639568571\n",
      "Success!\n"
     ]
    }
   ],
   "source": [
    "P = 1500.0\n",
    "m = 12\n",
    "n = 20.0\n",
    "A = 1e6\n",
    "f = lambda r, A=A, m=m, P=P, n=n: A - m * P / r * ((1.0 + r / m)**(m * n) - 1.0)\n",
    "root = inv_quad_root(f, [0.06, 0.07, 0.08], tolerance=1e-6, max_steps=10)\n",
    "print(\"Found root = %s\" % root)\n",
    "numpy.testing.assert_allclose(root, 0.08985602483470391, atol=1e-5)\n",
    "print(\"Success!\")"
   ]
  },
  {
   "cell_type": "code",
   "execution_count": null,
   "id": "6789493f",
   "metadata": {},
   "outputs": [],
   "source": []
  }
 ],
 "metadata": {
  "kernelspec": {
   "display_name": "Python 3",
   "language": "python",
   "name": "python3"
  },
  "language_info": {
   "codemirror_mode": {
    "name": "ipython",
    "version": 3
   },
   "file_extension": ".py",
   "mimetype": "text/x-python",
   "name": "python",
   "nbconvert_exporter": "python",
   "pygments_lexer": "ipython3",
   "version": "3.8.8"
  }
 },
 "nbformat": 4,
 "nbformat_minor": 5
}
