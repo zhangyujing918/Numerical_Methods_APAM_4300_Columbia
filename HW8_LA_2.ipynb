{
 "cells": [
  {
   "cell_type": "markdown",
   "id": "81e57867",
   "metadata": {},
   "source": [
    "Before you turn this problem in, make sure everything runs as expected. First, restart the kernel (in the menubar, select Kernel $\\rightarrow$ Restart) and then run all cells (in the menubar, select Cell $\\rightarrow$ Run All).\n",
    "\n",
    "Make sure you fill in any place that says YOUR CODE HERE or \"YOUR ANSWER HERE\", as well as your name and collaborators below:"
   ]
  },
  {
   "cell_type": "code",
   "execution_count": 1,
   "id": "b4dbeeec",
   "metadata": {},
   "outputs": [],
   "source": [
    "%matplotlib inline\n",
    "%precision 16\n",
    "from __future__ import print_function\n",
    "import numpy\n",
    "import matplotlib.pyplot as plt"
   ]
  },
  {
   "cell_type": "code",
   "execution_count": 2,
   "id": "b05f3e41",
   "metadata": {},
   "outputs": [],
   "source": [
    "Name = \"Yujing Zhang\"\n",
    "Collaborator = \"Consult with TAs\""
   ]
  },
  {
   "cell_type": "markdown",
   "id": "84ad7160",
   "metadata": {
    "deletable": false,
    "editable": false,
    "nbgrader": {
     "cell_type": "markdown",
     "checksum": "d35c6625014fbb846018270b27228a09",
     "grade": false,
     "grade_id": "cell-4300650499785885",
     "locked": true,
     "schema_version": 3,
     "solution": false
    }
   },
   "source": [
    "Before you turn this problem in, make sure everything runs as expected. First, restart the kernel (in the menubar, select Kernel $\\rightarrow$ Restart) and then run all cells (in the menubar, select Cell $\\rightarrow$ Run All).\n",
    "\n",
    "Make sure you fill in any place that says YOUR CODE HERE or \"YOUR ANSWER HERE\", as well as your name and collaborators below:"
   ]
  },
  {
   "cell_type": "markdown",
   "id": "3476a6ea",
   "metadata": {
    "deletable": false,
    "editable": false,
    "nbgrader": {
     "cell_type": "markdown",
     "checksum": "7244622507896c6af08b600df24c227d",
     "grade": false,
     "grade_id": "cell-9890560519145918",
     "locked": true,
     "schema_version": 3,
     "solution": false
    }
   },
   "source": [
    "# HW 8:  Linear Algebra Part 2"
   ]
  },
  {
   "cell_type": "markdown",
   "id": "febb4aa9",
   "metadata": {
    "deletable": false,
    "editable": false,
    "nbgrader": {
     "cell_type": "markdown",
     "checksum": "a3ba23f23192271f152881f6165d41b7",
     "grade": false,
     "grade_id": "cell-1367913990434646",
     "locked": true,
     "schema_version": 3,
     "solution": false
    }
   },
   "source": [
    "## Question 1\n",
    "\n",
    "We know that interpolation using equispaced points is not ideal but we can also show that it is ill-conditioned.  To illustrate this let $x_1, \\ldots, x_n$ and $y_1, \\ldots, y_m$ by $n$ and $m$ equispaced points from $-1$ to $1$ repectively."
   ]
  },
  {
   "cell_type": "markdown",
   "id": "0cfaf92c",
   "metadata": {
    "deletable": false,
    "editable": false,
    "nbgrader": {
     "cell_type": "markdown",
     "checksum": "cb3f03273f432ce984ed9f2de4d9f3f0",
     "grade": false,
     "grade_id": "cell-5262243890051762",
     "locked": true,
     "schema_version": 3,
     "solution": false
    }
   },
   "source": [
    "**(a)** [10] Derive a formula for the $m \\times n$ matrix $A$ that maps an $n$-vector of data at $\\{x_j\\}$ to an $m$-vector of sampled values $\\{\\mathcal{P}(y_j)\\}$, where $\\mathcal{P}$ is the degree $n-1$ polynomial interpolant of the data."
   ]
  },
  {
   "cell_type": "markdown",
   "id": "3828f6b1",
   "metadata": {
    "deletable": false,
    "nbgrader": {
     "cell_type": "markdown",
     "checksum": "c7e49fbb53a94f40f6e6f666bdeb15b9",
     "grade": true,
     "grade_id": "cell-5990321097225371",
     "locked": false,
     "points": 10,
     "schema_version": 3,
     "solution": true
    }
   },
   "source": [
    "**Our Goal:**\n",
    "$$\\{x_i\\}\\stackrel{A}{\\longrightarrow}\\{\\mathcal{P}(y_j)\\}$$\n",
    "\n",
    "**Step 1: Express $\\{x_j\\}$ and $\\{\\mathcal{P}(y_j)\\}$**\n",
    "\n",
    "Since $\\mathcal{P}$ is the degree $n-1$ polynomial interpolant of the data. We have:\n",
    "\n",
    "$$f(x_j) = \n",
    "\\begin{bmatrix}\n",
    "    f(x_1) \\\\\n",
    "    f(x_2) \\\\\n",
    "    \\vdots \\\\\n",
    "    f(x_n)\n",
    "\\end{bmatrix}\n",
    "= \n",
    "\\begin{bmatrix}\n",
    "    1 & x_1 & x_1^2 & \\cdots & x_1^{n-1} \\\\\n",
    "    1 & x_2 & x_2^2 & \\cdots & x_2^{n-1} \\\\\n",
    "    \\vdots & \\vdots & \\vdots & & \\vdots \\\\\n",
    "    1 & x_n & x_n^2 & \\cdots & x_n^{n-1}\n",
    "\\end{bmatrix} \\cdot \\mathcal{p} = \n",
    "V_x\\cdot \\mathcal{p}$$, \n",
    "\n",
    "where $\\mathcal{p}$ is a $n$-vector, and\n",
    "\n",
    "$$\\{\\mathcal{P}(y_j)\\} = \n",
    "\\begin{bmatrix}\n",
    "    1 & y_1 & y_1^2 & \\cdots & y_1^{m-1} \\\\\n",
    "    1 & y_2 & y_2^2 & \\cdots & y_2^{m-1} \\\\\n",
    "    \\vdots & \\vdots & \\vdots & & \\vdots \\\\\n",
    "    1 & y_m & y_m^2 & \\cdots & y_m^{m-1}\n",
    "\\end{bmatrix} \\cdot \\mathcal{P} = \n",
    "V_y\\cdot \\mathcal{P}$$\n",
    "\n",
    "Now, we have\n",
    "$$\\{x_i\\}\\stackrel{A}{\\longrightarrow}\\{\\mathcal{P}(y_j)\\}$$\n",
    "$$ V_x\\cdot \\mathcal{p} \\stackrel{A}{\\longrightarrow} V_y\\cdot \\mathcal{P}$$\n",
    "\n",
    "**Step 2: The relationship between $\\mathcal{p}$ and $\\mathcal{P}$**\n",
    "\n",
    "Since $x_1, \\ldots, x_n$ and $y_1, \\ldots, y_m$ are equispaced points from $-1$ to $1$, although they have different spaces, the interpolant of them of exactly the same, no matter the degree. Therefore, \n",
    "\n",
    "$$ \\mathcal{p} = \\mathcal{P}$$\n",
    "\n",
    "**Step 3: Derive A**\n",
    "\n",
    "$$\n",
    "\\mathop{A} \\cdot \\mathop{V_x}\n",
    "=\n",
    "\\mathop{V_y}\n",
    "$$\n",
    "\n",
    "We know the Vandermonde matrix is invertible. Therefore,\n",
    "$$\\mathop{A} = \\mathop{V_y}\\cdot  \\mathop{V_x^{-1}}$$"
   ]
  },
  {
   "cell_type": "markdown",
   "id": "df30cbf3",
   "metadata": {
    "deletable": false,
    "editable": false,
    "nbgrader": {
     "cell_type": "markdown",
     "checksum": "f875b6a90379de08b64ae48b094b030d",
     "grade": false,
     "grade_id": "cell-7661416945339489",
     "locked": true,
     "schema_version": 3,
     "solution": false
    }
   },
   "source": [
    "**(b)** [5]) Write a program to calculate $A$ and plot $||A||_\\infty$ on a semilog scale for $n=1, 2, \\ldots, 30$, $m=2n-1$.  In the continuous limit $m \\rightarrow \\infty$, the numbers $||A||_\\infty$ are known as the Lebesgue constants for equispaced interpolation, which are asymptotic to $2^n / (e(n-1) \\log n)$ as $n \\rightarrow \\infty$."
   ]
  },
  {
   "cell_type": "code",
   "execution_count": 3,
   "id": "37abbe2a",
   "metadata": {
    "deletable": false,
    "nbgrader": {
     "cell_type": "code",
     "checksum": "00c37c798697ec9ea6860cd633423c89",
     "grade": true,
     "grade_id": "cell-8743053752448174",
     "locked": false,
     "points": 5,
     "schema_version": 3,
     "solution": true
    }
   },
   "outputs": [
    {
     "data": {
      "image/png": "[encoded data removed]",
      "text/plain": [
       "<Figure size 504x360 with 1 Axes>"
      ]
     },
     "metadata": {
      "needs_background": "light"
     },
     "output_type": "display_data"
    }
   ],
   "source": [
    "# YOUR CODE HERE\n",
    "# raise NotImplementedError()\n",
    "nlist = []\n",
    "for i in range(1, 31):\n",
    "    nlist.extend([i])\n",
    "\n",
    "norm = []\n",
    "asp = []\n",
    "for n in range(1, 31):\n",
    "    m = 2*n - 1\n",
    "    x = numpy.linspace(-1, 1, n)\n",
    "    y = numpy.linspace(-1, 1, m)\n",
    "    Vx = numpy.ones((n, n))\n",
    "    Vy = numpy.ones((m, n))\n",
    "    for i in range(n):\n",
    "        Vx[:, i] = x ** i\n",
    "        Vy[:, i] = y ** i\n",
    "    A = numpy.dot(Vy, numpy.linalg.inv(Vx))\n",
    "    normA = numpy.linalg.norm(A, ord = numpy.inf)\n",
    "    norm.extend([normA])\n",
    "    if n == 1:\n",
    "        asp.extend([1])\n",
    "    else:\n",
    "        asp.extend([2**n / (numpy.exp(1) * (n-1) * numpy.log(n))])\n",
    "\n",
    "figure = plt.figure(figsize = (7, 5))\n",
    "plt.xlabel(\"$n$\", fontsize = 12)\n",
    "plt.ylabel(\"$||A||_\\infty$\", fontsize = 12)\n",
    "plt.title(\"Infinity Norm of A vs n\", fontsize = 15)\n",
    "plt.semilogy(nlist, norm, \"r\", nlist, asp, \"b\")\n",
    "plt.legend([\"$||A||_\\infty$\", \"$2^n/(e(n-1)logn)$\"])\n",
    "plt.show()"
   ]
  },
  {
   "cell_type": "markdown",
   "id": "42d2f8fa",
   "metadata": {
    "deletable": false,
    "editable": false,
    "nbgrader": {
     "cell_type": "markdown",
     "checksum": "5080c22188b9741b79cbffa82875a70f",
     "grade": false,
     "grade_id": "cell-4762438551096464",
     "locked": true,
     "schema_version": 3,
     "solution": false
    }
   },
   "source": [
    "**(c)** [10] Derive a general way to compute the $\\infty$-norm condition number $\\kappa$ of the problem of interpolating the function $f(x) = 1$.  Plot the result for $n=1,2,\\ldots,30$ and $m=2n-1$.  Hint:  Use the expression we found involving the Jacobian."
   ]
  },
  {
   "cell_type": "markdown",
   "id": "1760204b",
   "metadata": {
    "deletable": false,
    "nbgrader": {
     "cell_type": "markdown",
     "checksum": "c5075d8382ae190ab10fed623b890ca2",
     "grade": true,
     "grade_id": "cell-2240156659521813",
     "locked": false,
     "points": 7,
     "schema_version": 3,
     "solution": true
    }
   },
   "source": [
    "By definition,\n",
    "\n",
    "$$\n",
    "    \\kappa_\\infty = \\frac{||J(x)||_\\infty}{||f(x)||_\\infty ~/ ~||x||_\\infty}\n",
    "$$\n",
    "\n",
    "Moreover, we know\n",
    "$$f(x) = Ax= 1\\quad \\quad J(x) = f'(x) = A$$\n",
    "\n",
    "Then, we compute the infinity norms.\n",
    "\n",
    "1. For $||J(x)||$, \n",
    "$$||J(x)||_\\infty = ||A||_\\infty$$\n",
    "\n",
    "2. For $||f(x)||$,\n",
    "$$||f(x)||_\\infty = 1$$\n",
    "\n",
    "3. For $||x||$, since $x\\in [-1, 1]$\n",
    "$$||x||_\\infty = 1$$\n",
    "\n",
    "Therefore, \n",
    "$$\\kappa_\\infty = ||A||_\\infty$$\n",
    "which is exactly the same as question 2."
   ]
  },
  {
   "cell_type": "code",
   "execution_count": 4,
   "id": "ac63af24",
   "metadata": {
    "deletable": false,
    "nbgrader": {
     "cell_type": "code",
     "checksum": "1ff4358b354d82ed2efc1ddc9a68bc61",
     "grade": true,
     "grade_id": "cell-1916492016011003",
     "locked": false,
     "points": 3,
     "schema_version": 3,
     "solution": true
    }
   },
   "outputs": [
    {
     "data": {
      "image/png": "[encoded data removed]",
      "text/plain": [
       "<Figure size 504x360 with 1 Axes>"
      ]
     },
     "metadata": {
      "needs_background": "light"
     },
     "output_type": "display_data"
    }
   ],
   "source": [
    "# YOUR CODE HERE\n",
    "# raise NotImplementedError()\n",
    "nlist = []\n",
    "for i in range(1, 31):\n",
    "    nlist.extend([i])\n",
    "\n",
    "norm = []\n",
    "asp = []\n",
    "for n in range(1, 31):\n",
    "    m = 2*n - 1\n",
    "    x = numpy.linspace(-1, 1, n)\n",
    "    y = numpy.linspace(-1, 1, m)\n",
    "    Vx = numpy.ones((n, n))\n",
    "    Vy = numpy.ones((m, n))\n",
    "    for i in range(n):\n",
    "        Vx[:, i] = x ** i\n",
    "        Vy[:, i] = y ** i\n",
    "    A = numpy.dot(Vy, numpy.linalg.inv(Vx))\n",
    "    normA = numpy.linalg.norm(A, ord = numpy.inf)\n",
    "    norm.extend([normA])\n",
    "    if n == 1:\n",
    "        asp.extend([1])\n",
    "    else:\n",
    "        asp.extend([2**n / (numpy.exp(1) * (n-1) * numpy.log(n))])\n",
    "\n",
    "figure = plt.figure(figsize = (7, 5))\n",
    "plt.xlabel(\"$n$\", fontsize = 12)\n",
    "plt.ylabel(\"$\\infty$ norm condition number K\", fontsize = 12)\n",
    "plt.title(\"Infinity Norm Condition Number K vs n\", fontsize = 15)\n",
    "plt.semilogy(nlist, norm, \"r\")\n",
    "plt.show()"
   ]
  },
  {
   "cell_type": "markdown",
   "id": "3b7a7b3b",
   "metadata": {
    "deletable": false,
    "editable": false,
    "nbgrader": {
     "cell_type": "markdown",
     "checksum": "1d91c54c53459dc691e1b93f99556f6b",
     "grade": false,
     "grade_id": "cell-4391815592086616",
     "locked": true,
     "schema_version": 3,
     "solution": false
    }
   },
   "source": [
    "## Question 2 - LU Factorization\n",
    "\n",
    "Gaussian elimination is usually one of the first operations students learn in linear algebra but we seemed to have skipped it in lecture!  Let us fix that here in the homework.  Make sure to read the lecture on Gaussian elimination when doing this question."
   ]
  },
  {
   "cell_type": "markdown",
   "id": "8c1f7f95",
   "metadata": {
    "deletable": false,
    "editable": false,
    "nbgrader": {
     "cell_type": "markdown",
     "checksum": "2ff23417ed175fe360fd2001560e24a7",
     "grade": false,
     "grade_id": "cell-4624805096432302",
     "locked": true,
     "schema_version": 3,
     "solution": false
    }
   },
   "source": [
    "**(a)** [10] By hand compute the $LU$ factorization of the matrix\n",
    "$$\n",
    "    A = \\begin{bmatrix}\n",
    "        4 & 8 & 1 \\\\\n",
    "        8 & 20 & 4 \\\\\n",
    "        16 & 36 & 7\n",
    "    \\end{bmatrix}.\n",
    "$$\n",
    "Make sure to compute all the way to the matrix $L$, not the components of the inverse.  You do not have to worry about pivoting."
   ]
  },
  {
   "cell_type": "markdown",
   "id": "a9f87137",
   "metadata": {
    "deletable": false,
    "nbgrader": {
     "cell_type": "markdown",
     "checksum": "ad40ac7876d1da2e7e05c9640e5024e4",
     "grade": true,
     "grade_id": "cell-3409237533613078",
     "locked": false,
     "points": 5,
     "schema_version": 3,
     "solution": true
    }
   },
   "source": [
    "**Solutions:**\n",
    "\n",
    "To avoid using pivoting, we use elementary transformation of matrices:\n",
    "\n",
    "Goal: $A = LU$\n",
    "\n",
    "$$\n",
    "    A = \\begin{bmatrix}\n",
    "        4 & 8 & 1 \\\\\n",
    "        8 & 20 & 4 \\\\\n",
    "        16 & 36 & 7\n",
    "    \\end{bmatrix}.\n",
    "    =\n",
    "    \\begin{bmatrix}\n",
    "        1 & 0 & 0 \\\\\n",
    "        0 & 1 & 0 \\\\\n",
    "        0 & 0 & 1\n",
    "    \\end{bmatrix} \\cdot\n",
    "    \\begin{bmatrix}\n",
    "        4 & 8 & 1 \\\\\n",
    "        8 & 20 & 4 \\\\\n",
    "        16 & 36 & 7\n",
    "    \\end{bmatrix}.\n",
    "$$\n",
    "\n",
    "Let $U_{21} = 0$, we set $R_2 - 2R_1$. Accordingly, we change the value of $A_{22}$ and $A_{23}$ to satisfy $A = LU$\n",
    "\n",
    "$$\n",
    "    A = \n",
    "    \\begin{bmatrix}\n",
    "        1 & 0 & 0 \\\\\n",
    "        2 & 1 & 0 \\\\\n",
    "        0 & 0 & 1\n",
    "    \\end{bmatrix} \\cdot\n",
    "    \\begin{bmatrix}\n",
    "        4 & 8 & 1 \\\\\n",
    "        0 & 4 & 2 \\\\\n",
    "        16 & 36 & 7\n",
    "    \\end{bmatrix}.\n",
    "$$\n",
    "\n",
    "Let $U_{31} = 0$, we set $R_3 - 4R_1$, Accordingly, we change the value of $A_{32}$ and $A_{33}$ to satisfy $A = LU$\n",
    "\n",
    "$$\n",
    "    A = \n",
    "    \\begin{bmatrix}\n",
    "        1 & 0 & 0 \\\\\n",
    "        2 & 1 & 0 \\\\\n",
    "        4 & 0 & 1\n",
    "    \\end{bmatrix} \\cdot\n",
    "    \\begin{bmatrix}\n",
    "        4 & 8 & 1 \\\\\n",
    "        0 & 4 & 2 \\\\\n",
    "        0 & 4 & 3\n",
    "    \\end{bmatrix}.\n",
    "$$\n",
    "\n",
    "Let $U_{32} = 0$, we set $R_3 - R_2$, Accordingly, we change the value of $A_{33}$ to satisfy $A = LU$\n",
    "\n",
    "$$\n",
    "    A = \n",
    "    \\begin{bmatrix}\n",
    "        1 & 0 & 0 \\\\\n",
    "        2 & 1 & 0 \\\\\n",
    "        4 & 1 & 1\n",
    "    \\end{bmatrix} \\cdot\n",
    "    \\begin{bmatrix}\n",
    "        4 & 8 & 1 \\\\\n",
    "        0 & 4 & 2 \\\\\n",
    "        0 & 0 & 1\n",
    "    \\end{bmatrix}.\n",
    "$$\n",
    "\n",
    "Therefore, we have\n",
    "\n",
    "$$\n",
    "    L = \n",
    "    \\begin{bmatrix}\n",
    "        1 & 0 & 0 \\\\\n",
    "        2 & 1 & 0 \\\\\n",
    "        4 & 1 & 1\n",
    "    \\end{bmatrix},\n",
    "    U = \n",
    "    \\begin{bmatrix}\n",
    "        4 & 8 & 1 \\\\\n",
    "        0 & 4 & 2 \\\\\n",
    "        0 & 0 & 1\n",
    "    \\end{bmatrix}.\n",
    "$$"
   ]
  },
  {
   "cell_type": "markdown",
   "id": "f5b4f61d",
   "metadata": {
    "deletable": false,
    "editable": false,
    "nbgrader": {
     "cell_type": "markdown",
     "checksum": "68a708a0766774ae99539342a861b5e4",
     "grade": false,
     "grade_id": "cell-8575190023526182",
     "locked": true,
     "schema_version": 3,
     "solution": false
    }
   },
   "source": [
    "**(b)** [10] Write a function that computes the $LU$ factorization of a given matrix $A \\in \\mathbb R^{n \\times n}$ without using `numpy` or `scipy` packages.  Make sure to also return the pivoting matrix, i.e. compute the matrices $P$, $L$, and $U$ where\n",
    "$$\n",
    "    P A = L U.\n",
    "$$\n",
    "Note that the provided function `swap_rows` may be useful although you do not have to use it.  You may also want to use the example in the notes to test your basic algorithm with (i.e. `A = numpy.array([[2, 1, 1, 0], [4, 3, 3, 1], [8, 7, 9, 5], [6, 7, 9, 8]], dtype=float)` noting that the algorithm will complain without the casting to `float`)."
   ]
  },
  {
   "cell_type": "code",
   "execution_count": 5,
   "id": "68106524",
   "metadata": {
    "deletable": false,
    "nbgrader": {
     "cell_type": "code",
     "checksum": "b625e9fc9a9088ab645b250b412e40ef",
     "grade": false,
     "grade_id": "cell-3416177524508008",
     "locked": false,
     "schema_version": 3,
     "solution": true
    }
   },
   "outputs": [],
   "source": [
    "def swap_rows(i, j, A, column_indices=None):\n",
    "    r\"\"\"\n",
    "    Swap the ith and jth rows of the matrix A in place\n",
    "    \n",
    "    Optional argument column_indices is a tuple that controls \n",
    "    the columns being swapped.  Defaults to the entire row.\n",
    "    \"\"\"\n",
    "    if column_indices is None:\n",
    "        column_indices = (0, A.shape[0])\n",
    "    \n",
    "    pivot_row = A[i, column_indices[0]:column_indices[1]].copy()\n",
    "    A[i, column_indices[0]:column_indices[1]] = A[j, column_indices[0]:column_indices[1]]\n",
    "    A[j, column_indices[0]:column_indices[1]] = pivot_row\n",
    "    \n",
    "    return A[j, column_indices[0]:column_indices[1]]\n",
    "\n",
    "def LU_factorization(A):\n",
    "    # YOUR CODE HERE\n",
    "    # raise NotImplementedError()\n",
    "    \"\"\"\n",
    "    U = A\n",
    "    L = I\n",
    "    P = I\n",
    "    for k = 1 to m - 1\n",
    "        Select i >= k to maximize |u_{i,k}|\n",
    "        U[k, k:m] <==> U[i, k:m]\n",
    "        L[k, 1:k-1] <==> L[i, 1:k-1]\n",
    "        P[k, :] <==> P[i, :]\n",
    "        for j = k + 1 to m\n",
    "            L[j, k] = U[j, k] / U[k, k]\n",
    "            U[j, k:m] = U[j, k:m] - L[j, k] * U[k, k:m]\n",
    "    \"\"\"\n",
    "    m = len(A)\n",
    "    U = A.copy()\n",
    "    L = numpy.identity(len(A))\n",
    "    P = numpy.identity(len(A))\n",
    "    \n",
    "    for k in range(0, m):\n",
    "        i = numpy.argmax(numpy.abs(U[k:m, k]))\n",
    "        i += k\n",
    "        swap_rows(i, k, U,[k, m])\n",
    "        swap_rows(i, k, L,[0, k])\n",
    "        swap_rows(i, k, P)\n",
    "        for j in range(k + 1, m):\n",
    "            L[j, k] = U[j, k] / U[k, k]\n",
    "            U[j, k:m] = U[j, k:m] - L[j, k] * U[k, k:m]              # U is updated for each time\n",
    "    \n",
    "    return P, L, U"
   ]
  },
  {
   "cell_type": "code",
   "execution_count": 6,
   "id": "35f89600",
   "metadata": {
    "deletable": false,
    "editable": false,
    "nbgrader": {
     "cell_type": "code",
     "checksum": "14b57bfa1deee8a6c0e6c5514a5fdadb",
     "grade": true,
     "grade_id": "cell-9410005352958010",
     "locked": true,
     "points": 10,
     "schema_version": 3,
     "solution": false
    }
   },
   "outputs": [
    {
     "name": "stdout",
     "output_type": "stream",
     "text": [
      "Success!\n"
     ]
    }
   ],
   "source": [
    "import scipy.linalg\n",
    "# A = numpy.array([[2, 1, 1, 0], [4, 3, 3, 1], [8, 7, 9, 5], [6, 7, 9, 8]], dtype=float)\n",
    "A = numpy.random.uniform(low=1.0, high=10.0, size=(25, 25))\n",
    "P, L, U = LU_factorization(A)\n",
    "P_s, L_s, U_s = scipy.linalg.lu(A)\n",
    "numpy.testing.assert_allclose(P, numpy.linalg.inv(P_s))\n",
    "numpy.testing.assert_allclose(L, L_s)\n",
    "numpy.testing.assert_allclose(U, U_s, atol=1e-8)\n",
    "print(\"Success!\")"
   ]
  },
  {
   "cell_type": "markdown",
   "id": "18c2c6cc",
   "metadata": {
    "deletable": false,
    "editable": false,
    "nbgrader": {
     "cell_type": "markdown",
     "checksum": "8482bb4fe26eb5f0c27446ffbcc9f0b0",
     "grade": false,
     "grade_id": "cell-6331285623355538",
     "locked": true,
     "schema_version": 3,
     "solution": false
    }
   },
   "source": [
    "**(c)** [10] For this question write a function that solves the system $A x = b$ given an $A$ and $b$ using your $LU$ factorization function and the pivot matrix.  Again do not use any of the functions from `numpy` or `scipy` other than to check your solution."
   ]
  },
  {
   "cell_type": "code",
   "execution_count": 7,
   "id": "7a17048e",
   "metadata": {
    "deletable": false,
    "nbgrader": {
     "cell_type": "code",
     "checksum": "44e941df853d799ed4341c7f51138f55",
     "grade": false,
     "grade_id": "cell-9695927972933496",
     "locked": false,
     "schema_version": 3,
     "solution": true
    }
   },
   "outputs": [],
   "source": [
    "def solve(A, b):\n",
    "    # YOUR CODE HERE\n",
    "    # raise NotImplementedError()\n",
    "    \"\"\"\n",
    "    PA = LU\n",
    "    Ly = Pb, forward\n",
    "    Ux = y, backward\n",
    "    \"\"\"\n",
    "    P, L, U = LU_factorization(A)\n",
    "    x = numpy.zeros(len(U))\n",
    "    y = numpy.zeros(len(L))\n",
    "    Pb = numpy.dot(P, b)\n",
    "    m = len(A)\n",
    "    \n",
    "    for i in range(0, m):\n",
    "        Ly = 0\n",
    "        for j in range(0, i):\n",
    "            Ly += L[i,j] * y[j]\n",
    "        y[i] = Pb[i] - Ly\n",
    "    \n",
    "    for i in range(1, m + 1):\n",
    "        Ux = 0\n",
    "        for j in range(1, i):\n",
    "            Ux += U[m - i, m - j] * x[m - j]          \n",
    "        x[m - i] = (y[m - i] - Ux) / U[m - i, m - i]\n",
    "    \n",
    "    return x"
   ]
  },
  {
   "cell_type": "code",
   "execution_count": 8,
   "id": "ba3d61d0",
   "metadata": {
    "deletable": false,
    "editable": false,
    "nbgrader": {
     "cell_type": "code",
     "checksum": "1b3e93539cffda4b4e9d47fee4353eb3",
     "grade": true,
     "grade_id": "cell-9290228235952792",
     "locked": true,
     "points": 10,
     "schema_version": 3,
     "solution": false
    }
   },
   "outputs": [
    {
     "name": "stdout",
     "output_type": "stream",
     "text": [
      "Success!\n"
     ]
    }
   ],
   "source": [
    "m = 10\n",
    "A = numpy.random.uniform(size=(m, m))\n",
    "b = numpy.random.uniform(size=(m))\n",
    "x = solve(A, b)\n",
    "x_n = numpy.linalg.solve(A, b)\n",
    "numpy.testing.assert_allclose(x, x_n)\n",
    "print(\"Success!\")"
   ]
  },
  {
   "cell_type": "markdown",
   "id": "cb4a6391",
   "metadata": {
    "deletable": false,
    "editable": false,
    "nbgrader": {
     "cell_type": "markdown",
     "checksum": "e67a9a9500c0e3a9750039fb30c76172",
     "grade": false,
     "grade_id": "cell-481593993242207",
     "locked": true,
     "schema_version": 3,
     "solution": false
    }
   },
   "source": [
    "## Question 3\n",
    "\n",
    "Consider the system of equations $Ax = b$ defined by\n",
    "$$A = \\begin{bmatrix}\n",
    "        0.780 & 0.563 \\\\\n",
    "        0.913 & 0.659 \n",
    "    \\end{bmatrix}\n",
    "    \\quad \\text{and} \\quad \n",
    "    b = \\begin{bmatrix}\n",
    "        0.217 \\\\\n",
    "        0.254 \n",
    "    \\end{bmatrix}.\n",
    "$$\n",
    "The true solution of this system is $$x^T = [1, -1]$$.  Consider for the following questions the approximate solutions\n",
    "$$\n",
    "    x^T_1 = [0.999, -1.001] \\quad \\text{and} \\quad x^T_2 = [0.341, -0.087]\n",
    "$$\n",
    "and define the residual $r(y)$ as\n",
    "$$\n",
    "    r(y) = b - A y.\n",
    "$$"
   ]
  },
  {
   "cell_type": "markdown",
   "id": "9025c765",
   "metadata": {
    "deletable": false,
    "editable": false,
    "nbgrader": {
     "cell_type": "markdown",
     "checksum": "059be8bfac0547bee6d1e4e03d122f55",
     "grade": false,
     "grade_id": "cell-890606747676466",
     "locked": true,
     "schema_version": 3,
     "solution": false
    }
   },
   "source": [
    "**(a)** [10] Compute the residuals (you may use `numpy`) $||r(x_1)||$ and $||r(x_2)||$ for the two approximate solutions using a couple of different norms.  Does the more accurate solution have a smaller residual?  Does it matter which norm you use?"
   ]
  },
  {
   "cell_type": "code",
   "execution_count": 9,
   "id": "55d46330",
   "metadata": {
    "deletable": false,
    "nbgrader": {
     "cell_type": "code",
     "checksum": "ba25cea086694fe96ca70bc434b808a3",
     "grade": true,
     "grade_id": "cell-4148931275843056",
     "locked": false,
     "points": 10,
     "schema_version": 3,
     "solution": true
    }
   },
   "outputs": [
    {
     "name": "stdout",
     "output_type": "stream",
     "text": [
      "The residual for x1 is:\n",
      "[[0.0013429999999999]\n",
      " [0.001572          ]]\n",
      "\n",
      "The residual for x2 is:\n",
      "[[9.99999999945489e-07]\n",
      " [0.00000000000000e+00]]\n",
      "\n",
      "1-Norm for x1 is: 0.0029149999999999177\n",
      "1-Norm for x2 is: 9.99999999945489e-07\n",
      "\n",
      "2-Norm for x1 is: 0.002067566927574483\n",
      "2-Norm for x2 is: 9.99999999945489e-07\n",
      "\n",
      "-1-Norm for x1 is: 0.0029149999999999177\n",
      "-1-Norm for x2 is: 9.99999999945489e-07\n",
      "\n",
      "-2-Norm for x1 is: 0.002067566927574483\n",
      "-2-Norm for x2 is: 9.99999999945489e-07\n",
      "\n",
      "Infinity-Norm for x1 is: 0.0015720000000000178\n",
      "Infinity-Norm for x2 is: 9.99999999945489e-07\n"
     ]
    }
   ],
   "source": [
    "# YOUR CODE HERE\n",
    "# raise NotImplementedError()\n",
    "A = numpy.array([[0.780, 0.563], [0.913, 0.659]])\n",
    "b = numpy.array([[0.217], [0.254]])\n",
    "x1 = numpy.array([[0.999],[-1.001]])\n",
    "x2 = numpy.array([[0.341],[-0.087]])\n",
    "x = numpy.array([[1], [-1]])\n",
    "\n",
    "r1 = b - numpy.dot(A, x1)\n",
    "r2 = b - numpy.dot(A, x2)\n",
    "\n",
    "print(\"The residual for x1 is:\\n{}\".format(r1))\n",
    "print()\n",
    "print(\"The residual for x2 is:\\n{}\".format(r2))\n",
    "print()\n",
    "\n",
    "norm_r1_ord1 = numpy.linalg.norm(r1, ord = 1)\n",
    "norm_r1_ord2 = numpy.linalg.norm(r1, ord = 2)\n",
    "norm_r1_ordn1 = numpy.linalg.norm(r1, ord = -1)\n",
    "norm_r1_ordn2 = numpy.linalg.norm(r1, ord = -2)\n",
    "norm_r1_ordinfty = numpy.linalg.norm(r1, ord = numpy.inf)\n",
    "\n",
    "norm_r2_ord1 = numpy.linalg.norm(r2, ord = 1)\n",
    "norm_r2_ord2 = numpy.linalg.norm(r2, ord = 2)\n",
    "norm_r2_ordn1 = numpy.linalg.norm(r2, ord = -1)\n",
    "norm_r2_ordn2 = numpy.linalg.norm(r2, ord = -2)\n",
    "norm_r2_ordinfty = numpy.linalg.norm(r2, ord = numpy.inf)\n",
    "\n",
    "\n",
    "print(\"1-Norm for x1 is: {}\". format(norm_r1_ord1))\n",
    "print(\"1-Norm for x2 is: {}\". format(norm_r2_ord1))\n",
    "print()\n",
    "print(\"2-Norm for x1 is: {}\". format(norm_r1_ord2))\n",
    "print(\"2-Norm for x2 is: {}\". format(norm_r2_ord2))\n",
    "print()\n",
    "print(\"-1-Norm for x1 is: {}\". format(norm_r1_ordn1))\n",
    "print(\"-1-Norm for x2 is: {}\". format(norm_r2_ordn1))\n",
    "print()\n",
    "print(\"-2-Norm for x1 is: {}\". format(norm_r1_ordn2))\n",
    "print(\"-2-Norm for x2 is: {}\". format(norm_r2_ordn2))\n",
    "print()\n",
    "print(\"Infinity-Norm for x1 is: {}\". format(norm_r1_ordinfty))\n",
    "print(\"Infinity-Norm for x2 is: {}\". format(norm_r2_ordinfty))"
   ]
  },
  {
   "cell_type": "markdown",
   "id": "b2461c81",
   "metadata": {
    "deletable": false,
    "nbgrader": {
     "cell_type": "markdown",
     "checksum": "8bde75b6257de59d3f4d328ca2e205a3",
     "grade": true,
     "grade_id": "cell-369737136797174",
     "locked": false,
     "points": 0,
     "schema_version": 3,
     "solution": true
    }
   },
   "source": [
    "**Solutions:**\n",
    "1. Although $x_1$ looks like more close to true solution, by calculating the residuals, we know that $x_2$ is a better approxiamation.\n",
    "2. The **more accurate** solution is, the **smaller residual**, which doesn't matter the order of norms we choose."
   ]
  },
  {
   "cell_type": "markdown",
   "id": "8095a77a",
   "metadata": {
    "deletable": false,
    "editable": false,
    "nbgrader": {
     "cell_type": "markdown",
     "checksum": "b5fb2f6dde6326184666f70ce8d7dc92",
     "grade": false,
     "grade_id": "cell-4807436545966871",
     "locked": true,
     "schema_version": 3,
     "solution": false
    }
   },
   "source": [
    "**(b)** [10] Compute $||A||$, $||A^{-1}||$ and the condition number $\\kappa(A)$ of the matrix using the $L_2$ and $L_\\infty$ norms.  Again you can use `numpy`."
   ]
  },
  {
   "cell_type": "code",
   "execution_count": 10,
   "id": "a35d7c54",
   "metadata": {
    "deletable": false,
    "nbgrader": {
     "cell_type": "code",
     "checksum": "02619631db1363e3745333ad365e2045",
     "grade": true,
     "grade_id": "cell-2984656588126720",
     "locked": false,
     "points": 10,
     "schema_version": 3,
     "solution": true
    }
   },
   "outputs": [
    {
     "name": "stdout",
     "output_type": "stream",
     "text": [
      "2-Norm for A is: 1.4809520586432041\n",
      "Infinity-Norm for A is: 1.572\n",
      "\n",
      "2-Norm for A_inv is: 1480952.0584615201\n",
      "Infinity-Norm for A_inv is: 1692999.9997923018\n",
      "\n",
      "2-Condition Numver for A is: 2193218.999730479\n",
      "Infinity-Condition Numver for A is: 2661395.9996734983\n"
     ]
    }
   ],
   "source": [
    "# YOUR CODE HERE\n",
    "# raise NotImplementedError()\n",
    "\n",
    "A_inv = numpy.linalg.inv(A)\n",
    "\n",
    "norm_A_ord2 = numpy.linalg.norm(A, ord = 2)\n",
    "norm_A_ordinfty = numpy.linalg.norm(A, ord = numpy.inf)\n",
    "norm_A_inv_ord2 = numpy.linalg.norm(A_inv, ord = 2)\n",
    "norm_A_inv_ordinfty = numpy.linalg.norm(A_inv, ord = numpy.inf)\n",
    "\n",
    "K2 = norm_A_ord2 * norm_A_inv_ord2\n",
    "Kinf = norm_A_ordinfty * norm_A_inv_ordinfty\n",
    "\n",
    "print(\"2-Norm for A is: {}\". format(norm_A_ord2))\n",
    "print(\"Infinity-Norm for A is: {}\". format(norm_A_ordinfty))\n",
    "print()\n",
    "print(\"2-Norm for A_inv is: {}\". format(norm_A_inv_ord2))\n",
    "print(\"Infinity-Norm for A_inv is: {}\". format(norm_A_inv_ordinfty))\n",
    "print()\n",
    "print(\"2-Condition Numver for A is: {}\". format(K2))\n",
    "print(\"Infinity-Condition Numver for A is: {}\". format(Kinf))"
   ]
  },
  {
   "cell_type": "markdown",
   "id": "590c8031",
   "metadata": {
    "deletable": false,
    "editable": false,
    "nbgrader": {
     "cell_type": "markdown",
     "checksum": "bbaf3f142dd9ac7180bd709b89e2ebc7",
     "grade": false,
     "grade_id": "cell-3323809285287131",
     "locked": true,
     "schema_version": 3,
     "solution": false
    }
   },
   "source": [
    "**(c)** [15] Explain the behavior from part (a) using the results of part (b) discussing how condition numbers play a role in the problem above.  Hint:  Think about the problem where only the vector $x$ is perturbed by some small amount $\\delta x$"
   ]
  },
  {
   "cell_type": "markdown",
   "id": "b37e6013",
   "metadata": {
    "deletable": false,
    "nbgrader": {
     "cell_type": "markdown",
     "checksum": "fc79c68133e82e81e21979830d1efb42",
     "grade": true,
     "grade_id": "cell-7651467702406266",
     "locked": false,
     "points": 15,
     "schema_version": 3,
     "solution": true
    }
   },
   "source": [
    "**Let's do this question in 4 steps:**\n",
    "\n",
    "**Step 1: The definition of $e$ and the expression of $r$**\n",
    "\n",
    "Define\n",
    "$$e = x - \\hat{x}$$\n",
    "\n",
    "Therefore, \n",
    "$$r = b - Ax = b - A(x-e) = Ae$$\n",
    "\n",
    "**Step 2: The expression of $K$**\n",
    "\n",
    "By definition,\n",
    "\n",
    "$$K = \\sup_{\\delta x} \\left( \\frac{\\frac{||\\delta r||_2}{||r||_2}}{\\frac{||\\delta x||_2}{||x||_2}} \\right)$$\n",
    "\n",
    "where\n",
    "$$\\delta_r = r(x + \\delta_x) + r(x) = [b - A(x+ \\delta_x)] - (b - Ax) = -A\\delta_x$$\n",
    "\n",
    "Then,\n",
    "$$K = \\sup_{\\delta x} \\frac{||A\\delta x ||_2\\cdot ||x||_2}{||Ae||_2\\cdot ||\\delta x||_2}$$\n",
    "\n",
    "Since $$||A \\delta x||_2 \\leq ||A||_2 \\cdot ||e||_2$$\n",
    "\n",
    "$$K \\geq \\sup_{\\delta x} \\frac{||A|| \\cdot ||\\delta x||_2\\cdot ||x||_2}{||Ae||_2\\cdot ||\\delta x||_2}=\n",
    "\\sup_{\\delta x} \\frac{||A|| \\cdot ||x||_2}{||Ae||_2} \\geq \\frac{||x||_2}{||e||_2}\n",
    "$$\n",
    "\n",
    "So, the lower bound of $K$ is $\\frac{||x||_2}{||e||_2}$.\n",
    "\n",
    "**Step 3: Compute the 2-norm of e and condition number of x for $x_1$ and $x_2$**"
   ]
  },
  {
   "cell_type": "code",
   "execution_count": 11,
   "id": "0d0d56e9",
   "metadata": {},
   "outputs": [
    {
     "name": "stdout",
     "output_type": "stream",
     "text": [
      "The Norm of x is: 1.4142135623730951\n",
      "\n",
      "The Norm of e1 is: 0.0014142135623730178\n",
      "The Norm of e2 is: 1.1259884546477374\n"
     ]
    }
   ],
   "source": [
    "# compute \n",
    "A = numpy.array([[0.780, 0.563], [0.913, 0.659]])\n",
    "b = numpy.array([[0.217], [0.254]])\n",
    "x1 = numpy.array([[0.999],[-1.001]])\n",
    "x2 = numpy.array([[0.341],[-0.087]])\n",
    "x = numpy.array([[1], [-1]])\n",
    "\n",
    "r1 = b - numpy.dot(A, x1)\n",
    "r2 = b - numpy.dot(A, x2)\n",
    "\n",
    "e1 = x - x1\n",
    "e2 = x - x2\n",
    "\n",
    "print(\"The Norm of x is: {}\".format(numpy.linalg.norm(x, ord = 2)))\n",
    "print()\n",
    "print(\"The Norm of e1 is: {}\".format(numpy.linalg.norm(e1, ord = 2)))\n",
    "print(\"The Norm of e2 is: {}\".format(numpy.linalg.norm(e2, ord = 2)))"
   ]
  },
  {
   "cell_type": "markdown",
   "id": "eae1fc36",
   "metadata": {},
   "source": [
    "**Step 4: Explanation**\n",
    "\n",
    "Since the norm of x is fixed, \n",
    "$$2-norm_x = 1.4142135623730951$$\n",
    "And the norm of $e_1$ is much smaller than $e_2$.\n",
    "\n",
    "According the our calculation,\n",
    "The condition number of $x_1$ is much larger than $x_2$, so $x_1$ is harder to compute. Therefore, the residuals of $x_1$ is bigger.\n",
    "\n",
    "The above conclusion can be verified by the following codes:"
   ]
  },
  {
   "cell_type": "code",
   "execution_count": 12,
   "id": "1a835c82",
   "metadata": {},
   "outputs": [
    {
     "name": "stdout",
     "output_type": "stream",
     "text": [
      "The Condition Number of x1 is:1000.0000000000547\n",
      "The Condition Number of x2 is:1.2559751892087812\n"
     ]
    }
   ],
   "source": [
    "# compute \n",
    "A = numpy.array([[0.780, 0.563], [0.913, 0.659]])\n",
    "b = numpy.array([[0.217], [0.254]])\n",
    "x1 = numpy.array([[0.999],[-1.001]])\n",
    "x2 = numpy.array([[0.341],[-0.087]])\n",
    "x = numpy.array([[1], [-1]])\n",
    "\n",
    "r1 = b - numpy.dot(A, x1)\n",
    "r2 = b - numpy.dot(A, x2)\n",
    "\n",
    "e1 = x - x1\n",
    "e2 = x - x2\n",
    "\n",
    "print(\"The Condition Number of x1 is:{}\".format(numpy.linalg.norm(x, 2) / numpy.linalg.norm(e1, ord = 2)))\n",
    "print(\"The Condition Number of x2 is:{}\".format(numpy.linalg.norm(x, 2) / numpy.linalg.norm(e2, ord = 2)))"
   ]
  },
  {
   "cell_type": "code",
   "execution_count": null,
   "id": "7a18945c",
   "metadata": {},
   "outputs": [],
   "source": []
  }
 ],
 "metadata": {
  "kernelspec": {
   "display_name": "Python 3",
   "language": "python",
   "name": "python3"
  },
  "language_info": {
   "codemirror_mode": {
    "name": "ipython",
    "version": 3
   },
   "file_extension": ".py",
   "mimetype": "text/x-python",
   "name": "python",
   "nbconvert_exporter": "python",
   "pygments_lexer": "ipython3",
   "version": "3.8.8"
  },
  "latex_envs": {
   "bibliofile": "biblio.bib",
   "cite_by": "apalike",
   "current_citInitial": 1,
   "eqLabelWithNumbers": true,
   "eqNumInitial": 0
  }
 },
 "nbformat": 4,
 "nbformat_minor": 5
}
