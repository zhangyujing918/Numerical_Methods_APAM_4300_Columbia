{
 "cells": [
  {
   "cell_type": "markdown",
   "id": "b1654a68",
   "metadata": {},
   "source": [
    "Before you turn this problem in, make sure everything runs as expected. First, restart the kernel (in the menubar, select Kernel $\\rightarrow$ Restart) and then run all cells (in the menubar, select Cell $\\rightarrow$ Run All).\n",
    "\n",
    "Make sure you fill in any place that says YOUR CODE HERE or \"YOUR ANSWER HERE\", as well as your name and collaborators below:"
   ]
  },
  {
   "cell_type": "code",
   "execution_count": 1,
   "id": "efe54163",
   "metadata": {},
   "outputs": [],
   "source": [
    "%matplotlib inline\n",
    "%precision 16\n",
    "import numpy\n",
    "import matplotlib.pyplot as plt"
   ]
  },
  {
   "cell_type": "code",
   "execution_count": 2,
   "id": "70916730",
   "metadata": {},
   "outputs": [],
   "source": [
    "Name = \"Yujing Zhang\"\n",
    "Collaborator = \" \"\n",
    "Uni = \"yz4471\""
   ]
  },
  {
   "cell_type": "markdown",
   "id": "46090777",
   "metadata": {
    "deletable": false,
    "editable": false,
    "nbgrader": {
     "cell_type": "markdown",
     "checksum": "501a1c819b64d93a63daffcf5dd3d042",
     "grade": false,
     "grade_id": "cell-3336298175051145",
     "locked": true,
     "schema_version": 3,
     "solution": false
    }
   },
   "source": [
    "Before you turn this problem in, make sure everything runs as expected. First, restart the kernel (in the menubar, select Kernel $\\rightarrow$ Restart) and then run all cells (in the menubar, select Cell $\\rightarrow$ Run All).\n",
    "\n",
    "Make sure you fill in any place that says YOUR CODE HERE or \"YOUR ANSWER HERE\", as well as your name and collaborators below:"
   ]
  },
  {
   "cell_type": "markdown",
   "id": "fbf71457",
   "metadata": {
    "deletable": false,
    "editable": false,
    "nbgrader": {
     "cell_type": "markdown",
     "checksum": "fcf3b2b91a8f7b24d4600bfa299d76bf",
     "grade": false,
     "grade_id": "cell-8922434501433849",
     "locked": true,
     "schema_version": 3,
     "solution": false
    }
   },
   "source": [
    "# HW 5:  Numerical Differentiation and Quadrature"
   ]
  },
  {
   "cell_type": "markdown",
   "id": "417c93c4",
   "metadata": {
    "deletable": false,
    "editable": false,
    "nbgrader": {
     "cell_type": "markdown",
     "checksum": "0cb80782496bbb377e600c508305acf4",
     "grade": false,
     "grade_id": "cell-3dd132bf19336aa2",
     "locked": true,
     "schema_version": 3,
     "solution": false
    }
   },
   "source": [
    "## Question 1 - Fundamental Theorem of Calculus"
   ]
  },
  {
   "cell_type": "markdown",
   "id": "68f39cc8",
   "metadata": {
    "deletable": false,
    "editable": false,
    "nbgrader": {
     "cell_type": "markdown",
     "checksum": "213c66327c6e028d34375e660f60d191",
     "grade": false,
     "grade_id": "cell-4786948169516101",
     "locked": true,
     "schema_version": 3,
     "solution": false
    }
   },
   "source": [
    "**(a)** [10] Write a function that computes the integral of the derivative \n",
    "\n",
    "$$I[f] = \\int^x_0 f'(s) ds$$\n",
    "\n",
    "and returns the error from the expected calculation.  Use a second order accurate centered difference scheme and then a left-hand rule to compute the absolute error.  In this case the left-hand quadrature is\n",
    "\n",
    "$$Q[f] = f(x_i) \\Delta x$$\n",
    "\n",
    "The function should take in $x$ values and the function $f(x)$ and return a vector of the **errors** for each value $x$ given."
   ]
  },
  {
   "cell_type": "code",
   "execution_count": 3,
   "id": "f8bd75df",
   "metadata": {
    "deletable": false,
    "nbgrader": {
     "cell_type": "code",
     "checksum": "b1a168b01a26cea27781fe894d5391a9",
     "grade": false,
     "grade_id": "cell-491150310177092",
     "locked": false,
     "schema_version": 3,
     "solution": true
    }
   },
   "outputs": [],
   "source": [
    "def int_diff_error(x, f):\n",
    "    # YOUR CODE HERE\n",
    "    #raise NotImplementedError()\n",
    "    \n",
    "    #difference\n",
    "    # Use uniform discretization\n",
    "    delta_x = x[1] - x[0]\n",
    "    # Compute derivative\n",
    "    f_prime_hat = numpy.empty(x.shape)\n",
    "    f_prime_hat[1:-1] = (f(x[2:]) - f(x[:-2])) / (2. * delta_x)\n",
    "    \n",
    "    #integrate\n",
    "    error = []\n",
    "    for i in range(0, len(x)): \n",
    "        I_hat = f(x[0])\n",
    "        for j in range (0, i+1):\n",
    "            I_hat += f_prime_hat[j] * delta_x\n",
    "        error_indi = abs(I_hat - f(x[i]))\n",
    "        error.extend([error_indi])\n",
    "    \n",
    "    return error"
   ]
  },
  {
   "cell_type": "code",
   "execution_count": 4,
   "id": "08f1efcf",
   "metadata": {
    "deletable": false,
    "editable": false,
    "nbgrader": {
     "cell_type": "code",
     "checksum": "6d72bbf9029cbdf2ffdfce574e5d799b",
     "grade": true,
     "grade_id": "cell-5849927575491632",
     "locked": true,
     "points": 10,
     "schema_version": 3,
     "solution": false
    }
   },
   "outputs": [
    {
     "name": "stdout",
     "output_type": "stream",
     "text": [
      "0.006306416145657301\n",
      "Successful FTC evaluation.\n"
     ]
    }
   ],
   "source": [
    "f = lambda x: 1.0 / (1.0 + 100.0 * x**2)\n",
    "x = numpy.linspace(0.0, 1.0, 500)\n",
    "print(numpy.max(int_diff_error(x, f)))\n",
    "numpy.testing.assert_allclose(int_diff_error(x, f), numpy.zeros(500), atol=1e-2)\n",
    "print(\"Successful FTC evaluation.\")"
   ]
  },
  {
   "cell_type": "markdown",
   "id": "b266cb09",
   "metadata": {
    "deletable": false,
    "editable": false,
    "nbgrader": {
     "cell_type": "markdown",
     "checksum": "f87a04a23dfceda35de3e2ea5d1eb3f4",
     "grade": false,
     "grade_id": "cell-398741922450368",
     "locked": true,
     "schema_version": 3,
     "solution": false
    }
   },
   "source": [
    "**(b)** [10] Compute the same as above except reverse the order of the operations, i.e.\n",
    "\n",
    "$$D[f] = \\frac{\\text{d}}{\\text{d}x} \\int^x_0 f(s) ds$$\n"
   ]
  },
  {
   "cell_type": "code",
   "execution_count": 5,
   "id": "eb810243",
   "metadata": {
    "deletable": false,
    "nbgrader": {
     "cell_type": "code",
     "checksum": "f404f7d6673d1bd3ae49398655146b98",
     "grade": false,
     "grade_id": "cell-2858462487069013",
     "locked": false,
     "schema_version": 3,
     "solution": true
    }
   },
   "outputs": [],
   "source": [
    "def diff_int_error(x, f):\n",
    "    # YOUR CODE HERE\n",
    "    #raise NotImplementedError()\n",
    "    \n",
    "    # Use uniform discretization\n",
    "    delta_x = x[1] - x[0]\n",
    "    \n",
    "    #integrate\n",
    "    inte_f = []\n",
    "    for i in range(0, len(x)): \n",
    "        I_hat = f(x[0])\n",
    "        for j in range (0, i):\n",
    "            I_hat += f(x[j]) * delta_x\n",
    "        inte_f.extend([I_hat])\n",
    "    \n",
    "    #differentiate\n",
    "    error2 = [0, ]\n",
    "    for i in range(1, len(x) - 1):\n",
    "        diff = (inte_f[i+1] - inte_f[i-1]) / (2 * delta_x)\n",
    "        error_indi = abs(diff - f(x[i]))\n",
    "        error2.extend([error_indi])\n",
    "    \n",
    "    #deal with the last value out of list\n",
    "    #a = numpy.empty([1,1])\n",
    "    #error2.append(a[0,0]) \n",
    "    \n",
    "    error2.extend([abs((inte_f[-1] - inte_f[-2]) / (2 * delta_x) - f(x[-1]))])\n",
    "    \n",
    "    return error2"
   ]
  },
  {
   "cell_type": "code",
   "execution_count": 6,
   "id": "b36f4670",
   "metadata": {
    "deletable": false,
    "editable": false,
    "nbgrader": {
     "cell_type": "code",
     "checksum": "b640afe1e89308c99ff448f7d088ea77",
     "grade": true,
     "grade_id": "cell-9269759256102392",
     "locked": true,
     "points": 10,
     "schema_version": 3,
     "solution": false
    }
   },
   "outputs": [
    {
     "name": "stdout",
     "output_type": "stream",
     "text": [
      "0.006507137941250463\n",
      "Successful FTC evaluation.\n"
     ]
    }
   ],
   "source": [
    "f = lambda x: 1.0 / (1.0 + 100.0 * x**2)\n",
    "x = numpy.linspace(0.0, 1.0, 500)\n",
    "print(numpy.max(diff_int_error(x, f)))\n",
    "numpy.testing.assert_allclose(diff_int_error(x, f), numpy.zeros(500), atol=1e-2)\n",
    "print(\"Successful FTC evaluation.\")"
   ]
  },
  {
   "cell_type": "markdown",
   "id": "bdb23d5a",
   "metadata": {
    "deletable": false,
    "editable": false,
    "nbgrader": {
     "cell_type": "markdown",
     "checksum": "d5a6be351add52398f2ca8c0bd30b3ac",
     "grade": false,
     "grade_id": "cell-4823234321128257",
     "locked": true,
     "schema_version": 3,
     "solution": false
    }
   },
   "source": [
    "**(c)** [5] Plot the convergence rate for the number of partitions `N = [10,100,200,300,400,500]` on a `loglog` plot by computing the norm over the error given for each $N$ by using the `numpy.linalg.norm` command with `ord=numpy.infty` vs. the $\\Delta x$ used.  Theorize about what you observe regarding the order of convergence."
   ]
  },
  {
   "cell_type": "markdown",
   "id": "d684bebe",
   "metadata": {
    "deletable": false,
    "nbgrader": {
     "cell_type": "markdown",
     "checksum": "a85fe7f59c2387591e4923af032a9f9f",
     "grade": true,
     "grade_id": "cell-3078294713448626",
     "locked": false,
     "points": 1,
     "schema_version": 3,
     "solution": true
    }
   },
   "source": [
    "- As we set `ord=numpy.infty`, the error of the function is approxiamately first order convergence, and the error of first order derivatives is of second order convergence.\n",
    "- As $N$ increases, the function converges to true value."
   ]
  },
  {
   "cell_type": "code",
   "execution_count": 7,
   "id": "6f1a481c",
   "metadata": {
    "deletable": false,
    "nbgrader": {
     "cell_type": "code",
     "checksum": "3a70a655c05f0733252b89434fcf4627",
     "grade": true,
     "grade_id": "cell-3749304040102472",
     "locked": false,
     "points": 4,
     "schema_version": 3,
     "solution": true
    }
   },
   "outputs": [
    {
     "data": {
      "image/png": "[encoded data removed]",
      "text/plain": [
       "<Figure size 1280x400 with 2 Axes>"
      ]
     },
     "metadata": {
      "needs_background": "light"
     },
     "output_type": "display_data"
    }
   ],
   "source": [
    "# YOUR CODE HERE\n",
    "#raise NotImplementedError()\n",
    "f = lambda x: 1.0 / (1.0 + 100.0 * x**2)\n",
    "f_prime = lambda x: -200 * x / ((1.0 + 100.0 * x**2) ** 2)\n",
    "\n",
    "# Compute the error as a function of delta_x\n",
    "N_range = numpy.array([10,100,200,300,400,500])\n",
    "delta_x = numpy.empty(N_range.shape)\n",
    "error = numpy.empty((N_range.shape[0], 2))\n",
    "for (i, N) in enumerate(N_range):\n",
    "    x_hat = numpy.linspace(0, 1, N+1)\n",
    "    delta_x[i] = x_hat[1] - x_hat[0]\n",
    "\n",
    "    f_prime_hat = numpy.empty(x_hat.shape)\n",
    "    f_prime_hat[:-1] = (f(x_hat[1:]) - f(x_hat[:-1])) / (delta_x[i])\n",
    "    f_prime_hat[-1] = (f(x_hat[-1]) - f(x_hat[-2])) / delta_x[i]\n",
    "    \n",
    "    error[i, 0] = numpy.linalg.norm(numpy.abs(f_prime(x_hat) - f_prime_hat), ord=numpy.infty)\n",
    "    error[i, 1] = numpy.linalg.norm(numpy.abs(f_prime(x_hat + 0.5 * delta_x[i]) - f_prime_hat), ord=numpy.infty)\n",
    "    #error[i, 2] = numpy.linalg.norm(numpy.abs(f_prime(x_hat) - f_prime_hat), ord=1)\n",
    "    #error[i, 3] = numpy.linalg.norm(numpy.abs(f_prime(x_hat) - f_prime_hat), ord=2)\n",
    "    \n",
    "error = numpy.array(error)\n",
    "delta_x = numpy.array(delta_x)\n",
    "    \n",
    "fig = plt.figure(figsize = (16, 5), dpi = 80)\n",
    "\n",
    "error_type = ['$L^\\infty$', 'offset $L^\\infty$', '$L^1$', '$L^2$']\n",
    "for i in range(error.shape[1]):\n",
    "    axes = fig.add_subplot(1, 2, i + 1)\n",
    "    axes.loglog(delta_x, error[:, i], 'ko', label=\"Error\")\n",
    "\n",
    "    order_C = lambda delta_x, error, order: numpy.exp(numpy.log(error) - order * numpy.log(delta_x))\n",
    "    axes.loglog(delta_x, order_C(delta_x[0], error[0, i], 1.0) * delta_x**1.0, 'r--', label=\"1st Order\")\n",
    "    axes.loglog(delta_x, order_C(delta_x[0], error[0, i], 2.0) * delta_x**2.0, 'b--', label=\"2nd Order\")\n",
    "    axes.legend(loc=4)\n",
    "    axes.set_title(\"Convergence of 1st Order Differences - %s\" % error_type[i], fontsize = 12)\n",
    "    axes.set_xlabel(\"$\\Delta x$\", fontsize = 12)\n",
    "    axes.set_ylabel(\"$|f'(x) - \\hat{f}'(x)|$\", fontsize = 12)\n",
    "\n",
    "plt.show()"
   ]
  },
  {
   "cell_type": "markdown",
   "id": "ee9a7088",
   "metadata": {
    "deletable": false,
    "editable": false,
    "nbgrader": {
     "cell_type": "markdown",
     "checksum": "8585667a0ae57d0e5435ec44eaec137c",
     "grade": false,
     "grade_id": "cell-7913098871853593",
     "locked": true,
     "schema_version": 3,
     "solution": false
    }
   },
   "source": [
    "## Question 2 - Quadrature\n",
    "\n",
    "Consider the scaled Fresnel integrals\n",
    "\n",
    "$$I_c = \\int^1_0 \\frac{\\cos x}{\\sqrt{x}} dx~~~~\\text{and}~~~~I_s = \\int^1_0 \\frac{\\sin x}{\\sqrt{x}} dx$$\n",
    "\n",
    "which have values\n",
    "\n",
    "$$I_c = \\sqrt{2 \\pi} \\cdot C\\left(\\sqrt{\\frac{2}{\\pi}}\\right) \\approx 1.8090484758005438$$\n",
    "\n",
    "$$I_s = \\sqrt{2 \\pi} \\cdot S\\left(\\sqrt{\\frac{2}{\\pi}}\\right) \\approx 0.62053660344676231$$\n",
    "\n",
    "where the functions $C(x)$ and $S(x)$ can be evaluated by `scipy.special.fresnel`."
   ]
  },
  {
   "cell_type": "markdown",
   "id": "a1fe4a02",
   "metadata": {
    "deletable": false,
    "editable": false,
    "nbgrader": {
     "cell_type": "markdown",
     "checksum": "222f7d5236736b8a0776cb02ca1df5b4",
     "grade": false,
     "grade_id": "cell-8ebcf647bbb397eb",
     "locked": true,
     "schema_version": 3,
     "solution": false
    }
   },
   "source": [
    "**(a)** [2] Where do you imagine the problematic points of the integrals will be?"
   ]
  },
  {
   "cell_type": "markdown",
   "id": "5816539b",
   "metadata": {
    "deletable": false,
    "nbgrader": {
     "cell_type": "markdown",
     "checksum": "43f6c40a1d1510407671a7fd52b23b89",
     "grade": true,
     "grade_id": "cell-52b455a70eeda752",
     "locked": false,
     "points": 2,
     "schema_version": 3,
     "solution": true
    }
   },
   "source": [
    "**Solution:**\n",
    "\n",
    "$x = 0$ is problematic. \n",
    "\n",
    "When $x = 0$ and we compute the Riemann Sums $$\\int^b_a f(x) dx = \\lim_{N\\rightarrow \\infty} \\sum^{N-1}_{i=0} f(x_i^*) (x_{i+1} - x_i)$$\n",
    "\n",
    "$f(x_i^*) = \\frac{\\cos x}{\\sqrt{x}} \\rightarrow \\infty$, causing significant error."
   ]
  },
  {
   "cell_type": "markdown",
   "id": "6ce93ce8",
   "metadata": {
    "deletable": false,
    "editable": false,
    "nbgrader": {
     "cell_type": "markdown",
     "checksum": "e91477ff64d2281616f1f4fb941aa844",
     "grade": false,
     "grade_id": "cell-1280863455188854",
     "locked": true,
     "schema_version": 3,
     "solution": false
    }
   },
   "source": [
    "**(b)** [10] Write a function that computes both integrals using the  trapezoidal rule with N partitions of equal length \"ignoring\" the singularity at $x=0$ by setting integrands to 0."
   ]
  },
  {
   "cell_type": "code",
   "execution_count": 8,
   "id": "55673bbe",
   "metadata": {
    "deletable": false,
    "nbgrader": {
     "cell_type": "code",
     "checksum": "921348b4de8f2db107b9480d6d9e7072",
     "grade": false,
     "grade_id": "cell-5673490144983784",
     "locked": false,
     "schema_version": 3,
     "solution": true
    }
   },
   "outputs": [],
   "source": [
    "def trap_1(N):\n",
    "    # YOUR CODE HERE\n",
    "    #raise NotImplementedError()\n",
    "\n",
    "    x = numpy.linspace(0.0, 1.0, N*1 + 1)\n",
    "    delta_x = x[1] - x[0]\n",
    "    \n",
    "    \n",
    "    Ic = 0\n",
    "    Is = 0\n",
    "    for j in range(1, N*1): \n",
    "        Ic += (numpy.cos(x[j]) / numpy.sqrt(x[j]) + numpy.cos(x[j+1]) / numpy.sqrt(x[j+1])) * delta_x / 2\n",
    "        Is += (numpy.sin(x[j]) / numpy.sqrt(x[j]) + numpy.sin(x[j+1]) / numpy.sqrt(x[j+1])) * delta_x / 2\n",
    "\n",
    "    Ic += numpy.cos(x[1]) / numpy.sqrt(x[1]) * delta_x / 2\n",
    "    Is += numpy.sin(x[1]) / numpy.sqrt(x[1]) * delta_x / 2\n",
    "    \n",
    "    \n",
    "    return Is, Ic"
   ]
  },
  {
   "cell_type": "code",
   "execution_count": 9,
   "id": "25edcab7",
   "metadata": {
    "deletable": false,
    "editable": false,
    "nbgrader": {
     "cell_type": "code",
     "checksum": "2f5be43f80bfd1925375d176c460e044",
     "grade": true,
     "grade_id": "cell-4769111180699037",
     "locked": true,
     "points": 10,
     "schema_version": 3,
     "solution": false
    }
   },
   "outputs": [
    {
     "name": "stdout",
     "output_type": "stream",
     "text": [
      "Error: 7.324979502920659e-05\n",
      "Computed the integrals correctly using the trapezoidal rule only.\n"
     ]
    }
   ],
   "source": [
    "import scipy.special\n",
    "Is, Ic = scipy.special.fresnel(numpy.sqrt(2.0 / numpy.pi))\n",
    "Is *= numpy.sqrt(2.0 * numpy.pi)\n",
    "Ic *= numpy.sqrt(2.0 * numpy.pi)\n",
    "Is_hat, Ic_hat = trap_1(200)\n",
    "error = numpy.abs(Is_hat - Is)\n",
    "print(\"Error: %s\" % error)\n",
    "numpy.testing.assert_allclose(error, 0.0, atol=1e-4)\n",
    "print(\"Computed the integrals correctly using the trapezoidal rule only.\")"
   ]
  },
  {
   "cell_type": "markdown",
   "id": "a7eac157",
   "metadata": {
    "deletable": false,
    "editable": false,
    "nbgrader": {
     "cell_type": "markdown",
     "checksum": "52c28c7b0c5b19816662713d3fa7af41",
     "grade": false,
     "grade_id": "cell-4978686228436492",
     "locked": true,
     "schema_version": 3,
     "solution": false
    }
   },
   "source": [
    "**(c)** [10] A weighted Newton-Cotes quadrature rule is a modification of our version of Newton-Cotes quadrature except that we also multiply by a weighting function.  This can be useful in situations such as the one we have found ourselves in.  Consider the integral\n",
    "$$\n",
    "    \\int^{x_{i+1}}_{x_i} \\frac{f(x)}{\\sqrt{x}} dx\n",
    "$$\n",
    "where here the weighting function is $x^{-1/2}$.  Say we wanted to approximate this integral by approximating $f(x)$ as a linear polynomial interpolant.  Find the resulting quadrature rule for approximating the weighted integral."
   ]
  },
  {
   "cell_type": "markdown",
   "id": "883a5ee3",
   "metadata": {
    "deletable": false,
    "nbgrader": {
     "cell_type": "markdown",
     "checksum": "df6b70e9c2472708ae4ab7c0ec488e90",
     "grade": true,
     "grade_id": "cell-497868628436492",
     "locked": false,
     "points": 0,
     "schema_version": 3,
     "solution": true
    }
   },
   "source": [
    "**Solutions:**\n",
    "\n",
    "- We know that the Lagrange interpolation polynomial of order $n$ is\n",
    "$$P_{n}(x)=\\sum_{k=0}^{n} \\ell_i(x)f\\left(x_{k}\\right)$$\n",
    "\n",
    "which hopefully will be close to our function $f(x)$, so we have:\n",
    "$$f(x) \\sim P(x) \\sum_{i=1}^{K} f\\left(x_{i}\\right) \\ell_{i}(x)$$\n",
    "\n",
    "where $$x_{i}=a+\\frac{i-1}{K-1}(b-a)$$ and $$\\ell_{i}(x)=\\prod_{j \\neq i} \\frac{x-x_{j}}{x_{i}-x_{j}}$$.\n",
    "\n",
    "- Substituting $P(x)$ for $f(x)$ in the integral, \n",
    "$$\\int_{a}^{b} f(x) x^{-\\frac{1}{2}} dx \\approx \\int_{a}^{b} P(x) x^{-\\frac{1}{2}} d x=\\sum_{i=1}^{K} w_{i} f\\left(x_{i}\\right)$$\n",
    "\n",
    "with $w_i$ being\n",
    "$$w_{i} = \\int_{a}^{b} \\ell_{i}(x) x^{-\\frac{1}{2}} dx$$"
   ]
  },
  {
   "cell_type": "markdown",
   "id": "83e4813f",
   "metadata": {
    "deletable": false,
    "editable": false,
    "nbgrader": {
     "cell_type": "markdown",
     "checksum": "61965e714ca91f2b79d176fa039b9a82",
     "grade": false,
     "grade_id": "cell-cf6b9a94eb0b6a5f",
     "locked": true,
     "schema_version": 3,
     "solution": false
    }
   },
   "source": [
    "**(d)** Use part (c) and evaluate only the first partition $[0, \\Delta x]$ using that quadrature and use trapezoid rule for the rest of the partitions."
   ]
  },
  {
   "cell_type": "code",
   "execution_count": 10,
   "id": "f7495911",
   "metadata": {
    "deletable": false,
    "nbgrader": {
     "cell_type": "code",
     "checksum": "dad716e1fca86631fdd8fd9df34de6af",
     "grade": false,
     "grade_id": "cell-3325603703235502",
     "locked": false,
     "schema_version": 3,
     "solution": true
    }
   },
   "outputs": [],
   "source": [
    "def trap_wnc(N):\n",
    "    # YOUR CODE HERE\n",
    "    #raise NotImplementedError()\n",
    "    \n",
    "    x = numpy.linspace(0.0, 1.0, N + 1)\n",
    "    delta_x = x[1] - x[0]\n",
    "    \n",
    "    Ici = 0\n",
    "    Isi = 0\n",
    "    \n",
    "    # from 0 to delta_x\n",
    "    #li\n",
    "    points = []\n",
    "    x0 = 0\n",
    "    for i in range (N+1):\n",
    "        x0 = 0 + i/(N+1)\n",
    "        points.append(x0)\n",
    "    \n",
    "    Emu = 1\n",
    "    for i in range (N+1):\n",
    "        for j in range(N+1):\n",
    "            if i != j:\n",
    "                L = lambda y: (y - points[j])/(points[i] - points[j])\n",
    "                Lvalue = L(x)\n",
    "    Emu = Emu * Lvalue\n",
    "    \n",
    "    Ici += (0 + delta_x) / 2 * Emu * delta_x**(-1/2) * numpy.cos(delta_x) / 2\n",
    "    Isi += (0 + delta_x) / 2 * Emu * delta_x**(-1/2) * numpy.sin(delta_x) / 2\n",
    "\n",
    "    \n",
    "    for j in range(1, N): \n",
    "        Ici += (numpy.cos(x[j]) / numpy.sqrt(x[j]) + numpy.cos(x[j+1]) / numpy.sqrt(x[j+1])) * delta_x /2\n",
    "        Isi += (numpy.sin(x[j]) / numpy.sqrt(x[j]) + numpy.sin(x[j+1]) / numpy.sqrt(x[j+1])) * delta_x /2\n",
    "    \n",
    "    Is = max(Isi)\n",
    "    Ic = max(Ici)\n",
    "    \n",
    "    return Is, Ic"
   ]
  },
  {
   "cell_type": "code",
   "execution_count": 11,
   "id": "c2ff1054",
   "metadata": {
    "deletable": false,
    "editable": false,
    "nbgrader": {
     "cell_type": "code",
     "checksum": "b17a01c91fbf750f5531305b29842a98",
     "grade": true,
     "grade_id": "cell-226151874510702",
     "locked": true,
     "points": 10,
     "schema_version": 3,
     "solution": false
    }
   },
   "outputs": [
    {
     "name": "stdout",
     "output_type": "stream",
     "text": [
      "Error: 7.324979502931761e-05\n",
      "Computed the integrals correctly using the trapezoidal and Newton-Cotes rules.\n"
     ]
    }
   ],
   "source": [
    "import scipy.special\n",
    "Is, Ic = scipy.special.fresnel(numpy.sqrt(2.0 / numpy.pi))\n",
    "Is *= numpy.sqrt(2.0 * numpy.pi)\n",
    "Ic *= numpy.sqrt(2.0 * numpy.pi)\n",
    "Is_hat, Ic_hat = trap_wnc(200)\n",
    "error = numpy.abs(Is_hat - Is)\n",
    "print(\"Error: %s\" % error)\n",
    "numpy.testing.assert_allclose(error, 0.0, atol=1e-4)\n",
    "print(\"Computed the integrals correctly using the trapezoidal and Newton-Cotes rules.\")"
   ]
  },
  {
   "cell_type": "markdown",
   "id": "04244321",
   "metadata": {
    "deletable": false,
    "editable": false,
    "nbgrader": {
     "cell_type": "markdown",
     "checksum": "05036761682cd126ee464690fcf8a6b3",
     "grade": false,
     "grade_id": "cell-8870847314167314",
     "locked": true,
     "schema_version": 3,
     "solution": false
    }
   },
   "source": [
    "**(e)** [5] Do a change of variables $x = t^2$ and evaluate each integral using the trapezoidal rule for the entire domain."
   ]
  },
  {
   "cell_type": "code",
   "execution_count": 12,
   "id": "61bde066",
   "metadata": {
    "deletable": false,
    "nbgrader": {
     "cell_type": "code",
     "checksum": "137f55ec0119ab1ea534fa717eb0f673",
     "grade": false,
     "grade_id": "cell-7736129930158757",
     "locked": false,
     "schema_version": 3,
     "solution": true
    }
   },
   "outputs": [],
   "source": [
    "def trap_transformed(N):\n",
    "    # YOUR CODE HERE1\n",
    "    #raise NotImplementedError()\n",
    "    \n",
    "    x = numpy.linspace(0.0, 1.0, N + 1)\n",
    "    delta_x = x[1] - x[0]\n",
    "    \n",
    "    Ic = 0\n",
    "    Is = 0\n",
    "    for j in range(1, N): \n",
    "        Ic += (numpy.cos(x[j]**2) / x[j] * 2 * x[j] + numpy.cos(x[j+1]**2) / x[j+1] * 2 * x[j+1]) * delta_x /2\n",
    "        Is += (numpy.sin(x[j]**2) / x[j] * 2 * x[j] + numpy.sin(x[j+1]**2) / x[j+1] * 2 * x[j+1]) * delta_x /2\n",
    "\n",
    "    #Ic += numpy.cos(1) * 2 * delta_x /2\n",
    "    #Is += numpy.sin(1) * 2 * delta_x /2\n",
    "    #Ic += (numpy.cos(x[1]**2) / x[1] * 2 * x[1] + numpy.cos(x[-1]**2) / x[-1] * 2 * x[-1]) * delta_x /2\n",
    "    #Is += (numpy.sin(x[1]**2) / x[1] * 2 * x[1] + numpy.sin(x[-1]**2) / x[-1] * 2 * x[-1]) * delta_x /2\n",
    "    \n",
    "    return Is, Ic"
   ]
  },
  {
   "cell_type": "code",
   "execution_count": 13,
   "id": "aacbfd68",
   "metadata": {
    "deletable": false,
    "editable": false,
    "nbgrader": {
     "cell_type": "code",
     "checksum": "a6fc2b55b128c08eb7456d37ca5ce2f8",
     "grade": true,
     "grade_id": "cell-3154020715657228",
     "locked": true,
     "points": 5,
     "schema_version": 3,
     "solution": false
    }
   },
   "outputs": [
    {
     "name": "stdout",
     "output_type": "stream",
     "text": [
      "Error: 4.377544250533383e-06\n",
      "Computed the integrals correctly using the trapezoidal rule.\n"
     ]
    }
   ],
   "source": [
    "import scipy.special\n",
    "Is, Ic = scipy.special.fresnel(numpy.sqrt(2.0 / numpy.pi))\n",
    "Is *= numpy.sqrt(2.0 * numpy.pi)\n",
    "Ic *= numpy.sqrt(2.0 * numpy.pi)\n",
    "Is_hat, Ic_hat = trap_transformed(200)\n",
    "error = numpy.abs(Is_hat - Is)\n",
    "print(\"Error: %s\" % error)\n",
    "numpy.testing.assert_allclose(error, 0.0, atol=1e-5)\n",
    "print(\"Computed the integrals correctly using the trapezoidal rule.\")"
   ]
  },
  {
   "cell_type": "markdown",
   "id": "4f36502f",
   "metadata": {
    "deletable": false,
    "editable": false,
    "nbgrader": {
     "cell_type": "markdown",
     "checksum": "0bda5ba7744648084f5b2d902c0fa0d7",
     "grade": false,
     "grade_id": "cell-6494212708282626",
     "locked": true,
     "schema_version": 3,
     "solution": false
    }
   },
   "source": [
    "**(f)** [5] Do the same as in part (e) again using the transformation $x=t^2$ but use 3-point Gauss-Legendre quadrature for the approximation to the integral."
   ]
  },
  {
   "cell_type": "code",
   "execution_count": 14,
   "id": "5a7c5a49",
   "metadata": {
    "deletable": false,
    "nbgrader": {
     "cell_type": "code",
     "checksum": "32ec8c214868f6a534bc62a4ec084de5",
     "grade": false,
     "grade_id": "cell-5621529377713954",
     "locked": false,
     "schema_version": 3,
     "solution": true
    }
   },
   "outputs": [],
   "source": [
    "def gauss_legendre_3(N):\n",
    "    f = lambda x: 2*numpy.sin(x**2)\n",
    "    g = lambda x: 2*numpy.cos(x**2)\n",
    "\n",
    "    x_hat = numpy.linspace(0.0, 1.0, N+1)\n",
    "    delta_x = x_hat[1] - x_hat[0]\n",
    "    \n",
    "    xi_map = lambda a,b,xi : (b - a) / 2.0 * xi + (a + b) / 2.0\n",
    "    xi_0 = 0\n",
    "    xi_1 =  numpy.sqrt(3.0 / 5.0)\n",
    "    xi_2 =  -numpy.sqrt(3.0 / 5.0)\n",
    "    \n",
    "    I_hat_s = (8*f(xi_map(x_hat[0], x_hat[1], xi_0))/9 + 5*f(xi_map(x_hat[0], x_hat[1], xi_1))/9 + 5*f(xi_map(x_hat[0], x_hat[1], xi_2))/9) * delta_x / 2.0\n",
    "    I_hat_c = (8*g(xi_map(x_hat[0], x_hat[1], xi_0))/9 + 5*g(xi_map(x_hat[0], x_hat[1], xi_1))/9 + 5*g(xi_map(x_hat[0], x_hat[1], xi_2))/9) * delta_x / 2.0\n",
    "    for i in range(1, N):\n",
    "        I_hat_c += (8*g(xi_map(x_hat[i], x_hat[i+1], xi_0))/9 + 5*g(xi_map(x_hat[i], x_hat[i+1], xi_1))/9 + 5*g(xi_map(x_hat[i], x_hat[i+1], xi_2))/9) * delta_x / 2.0\n",
    "        I_hat_s += (8*f(xi_map(x_hat[i], x_hat[i+1], xi_0))/9 + 5*f(xi_map(x_hat[i], x_hat[i+1], xi_1))/9 + 5*f(xi_map(x_hat[i], x_hat[i+1], xi_2))/9) * delta_x / 2.0\n",
    "            \n",
    "    Is = I_hat_s\n",
    "    Ic = I_hat_c\n",
    "    \n",
    "    return Is, Ic"
   ]
  },
  {
   "cell_type": "code",
   "execution_count": 15,
   "id": "000c2f2e",
   "metadata": {
    "deletable": false,
    "editable": false,
    "nbgrader": {
     "cell_type": "code",
     "checksum": "04ac21769af6ce2affbccd4aeb8bcbaa",
     "grade": true,
     "grade_id": "cell-1113773998085106",
     "locked": true,
     "points": 5,
     "schema_version": 3,
     "solution": false
    }
   },
   "outputs": [
    {
     "name": "stdout",
     "output_type": "stream",
     "text": [
      "Error: 8.570633092119806e-11\n",
      "Computed the integrals correctly using the trapezoidal and Newton-Cotes rules.\n"
     ]
    }
   ],
   "source": [
    "import scipy.special\n",
    "Is, Ic = scipy.special.fresnel(numpy.sqrt(2.0 / numpy.pi))\n",
    "Is *= numpy.sqrt(2.0 * numpy.pi)\n",
    "Ic *= numpy.sqrt(2.0 * numpy.pi)\n",
    "Is_hat, Ic_hat = gauss_legendre_3(10)\n",
    "error = numpy.abs(Is_hat - Is)\n",
    "print(\"Error: %s\" % error)\n",
    "numpy.testing.assert_allclose(error, 0.0, atol=1e-10)\n",
    "print(\"Computed the integrals correctly using the trapezoidal and Newton-Cotes rules.\")"
   ]
  },
  {
   "cell_type": "markdown",
   "id": "7ad74470",
   "metadata": {
    "deletable": false,
    "editable": false,
    "nbgrader": {
     "cell_type": "markdown",
     "checksum": "b64ac0e3f74e31b99309b6f314f3e037",
     "grade": false,
     "grade_id": "cell-6575269031232667",
     "locked": true,
     "schema_version": 3,
     "solution": false
    }
   },
   "source": [
    "**(g)** [5] Check the order of accuracy for each of the methods above and plot these on a `loglog` plot with appropriate reference lines to indicate the order of each."
   ]
  },
  {
   "cell_type": "code",
   "execution_count": 16,
   "id": "eb135ac0",
   "metadata": {
    "deletable": false,
    "nbgrader": {
     "cell_type": "code",
     "checksum": "4f917f94562abcab094e913a8c5f50ec",
     "grade": true,
     "grade_id": "cell-395406051759804",
     "locked": false,
     "points": 5,
     "schema_version": 3,
     "solution": true
    }
   },
   "outputs": [
    {
     "data": {
      "image/png": "[encoded data removed]",
      "text/plain": [
       "<Figure size 640x400 with 1 Axes>"
      ]
     },
     "metadata": {
      "needs_background": "light"
     },
     "output_type": "display_data"
    }
   ],
   "source": [
    "# YOUR CODE HERE\n",
    "#raise NotImplementedError()\n",
    "num_partitions = range(50, 1000, 50)\n",
    "delta_x = numpy.empty(len(num_partitions))\n",
    "error_trans_s = numpy.empty(len(num_partitions))\n",
    "error_gauss_s = numpy.empty(len(num_partitions))\n",
    "error_trans_c = numpy.empty(len(num_partitions))\n",
    "error_gauss_c = numpy.empty(len(num_partitions))\n",
    "error_weighted_s = numpy.empty(len(num_partitions))\n",
    "error_weighted_c = numpy.empty(len(num_partitions))\n",
    "\n",
    "for (j, N) in enumerate(num_partitions):\n",
    "    x_hat = numpy.linspace(0.0, 1.0, N + 1)\n",
    "    delta_x[j] = x_hat[1] - x_hat[0]\n",
    "    \n",
    "    Is, Ic = scipy.special.fresnel(numpy.sqrt(2.0 / numpy.pi))\n",
    "    Is *= numpy.sqrt(2.0 * numpy.pi)\n",
    "    Ic *= numpy.sqrt(2.0 * numpy.pi)\n",
    "    Is_hat_trans, Ic_hat_trans = trap_transformed(N)\n",
    "    Is_hat_gauss, Ic_hat_gauss = gauss_legendre_3(N)\n",
    "    Is_hat_weighted, Ic_hat_weighted = trap_wnc(N)\n",
    "\n",
    "    # Compute transformed method\n",
    "    error_trans_s[j] = numpy.abs(Is_hat_trans - Is)\n",
    "    error_trans_c[j] = numpy.abs(Ic_hat_trans - Ic)\n",
    "    \n",
    "    # Compute gauss method\n",
    "    error_gauss_s[j] = numpy.abs(Is_hat_gauss - Is)\n",
    "    error_gauss_c[j] = numpy.abs(Ic_hat_gauss - Ic)\n",
    "    \n",
    "    # Compute weighted method\n",
    "    error_weighted_s[j] = numpy.abs(Is_hat_weighted - Is)\n",
    "    error_weighted_c[j] = numpy.abs(Ic_hat_weighted - Ic)\n",
    "\n",
    "fig = plt.figure(figsize = (8, 5), dpi = 80)\n",
    "axes = fig.add_subplot(1, 1, 1)\n",
    "\n",
    "order_C = lambda delta_x, error, order: numpy.exp(numpy.log(error + 1e-13) - order * numpy.log(delta_x))\n",
    "axes.loglog(delta_x, error_trans_s, 'ro', label=\"Trap_Is\")\n",
    "axes.loglog(delta_x, error_trans_c, 'o',color = \"green\", label=\"Trap_Ic\")\n",
    "axes.loglog(delta_x, error_gauss_s, 'o', color = \"pink\" ,label=\"Gauss_Is\")\n",
    "axes.loglog(delta_x, error_gauss_c, 'o',color = \"cyan\", label=\"Gauss_Ic\")\n",
    "axes.loglog(delta_x, error_weighted_s, 'o',color = \"skyblue\", label=\"Weighted_Is\")\n",
    "axes.loglog(delta_x, error_weighted_c, 'ko', label=\"Weighted_Ic\")\n",
    "\n",
    "\n",
    "axes.loglog(delta_x, order_C(delta_x[0], error_trans_s[0], 2.0) * delta_x**2.0, 'b--', label=\"2nd_Trap_Is\")\n",
    "axes.loglog(delta_x, order_C(delta_x[0], error_trans_c[0], 1.0) * delta_x**1.0, 'y--', label=\"1st_Trap_Ic\")\n",
    "axes.loglog(delta_x, order_C(delta_x[0], error_gauss_s[0], 2.0) * delta_x**2.0, 'g--', label=\"2nd_Gauss_Is\")\n",
    "axes.loglog(delta_x, order_C(delta_x[0], error_gauss_c[0], 1.0) * delta_x**2.0, '--', color = \"orange\", label=\"1nd_Gauss_Ic\")\n",
    "axes.loglog(delta_x, order_C(delta_x[0], error_weighted_s[0], 2.0) * delta_x**2.0, '--', color = \"purple\", label=\"2nd_Weighted_Is\")\n",
    "axes.loglog(delta_x, order_C(delta_x[0], error_weighted_c[0], 1.0) * delta_x**1.0, 'r--', label=\"1st_Weighted_Ic\")\n",
    "\n",
    "axes.legend(loc=4, fontsize = 10)\n",
    "\n",
    "plt.show()"
   ]
  },
  {
   "cell_type": "markdown",
   "id": "922143d5",
   "metadata": {
    "deletable": false,
    "editable": false,
    "nbgrader": {
     "cell_type": "markdown",
     "checksum": "055c6e348ffcd39546e0d17583e502d8",
     "grade": false,
     "grade_id": "cell-1553923981662412",
     "locked": true,
     "schema_version": 3,
     "solution": false
    }
   },
   "source": [
    "**(h)** [3] Comment on the results of this question and the vast differences in convergence rates even between the two integrations (why is $I_c$ less accurate than $I_s$)."
   ]
  },
  {
   "cell_type": "markdown",
   "id": "7b496954",
   "metadata": {
    "deletable": false,
    "nbgrader": {
     "cell_type": "markdown",
     "checksum": "329ffa12d392d78f0bd4c33a4c942e42",
     "grade": true,
     "grade_id": "cell-7860584774817940",
     "locked": false,
     "points": 3,
     "schema_version": 3,
     "solution": true
    }
   },
   "source": [
    "- For Trap Method and Weighted Method, $Is$ is of second order convergence and $Ic$ is of first order convergence.\n",
    "- For Gauss Method, it's not first or second order convergence. And $Is$ and $Ic$ are between the first and second order convergence."
   ]
  },
  {
   "cell_type": "markdown",
   "id": "69497b52",
   "metadata": {
    "deletable": false,
    "editable": false,
    "nbgrader": {
     "cell_type": "markdown",
     "checksum": "79f633727305ca87d03db986b7d050d5",
     "grade": false,
     "grade_id": "cell-3224734890563854",
     "locked": true,
     "schema_version": 3,
     "solution": false
    }
   },
   "source": [
    "## Question 3\n",
    "\n",
    "We can often reformulate finite difference approximations as matrix-vector products.  For the following assume that the data considered are equi-spaced points $(x_i, y_i)$, i.e. $\\Delta x$ is uniform."
   ]
  },
  {
   "cell_type": "markdown",
   "id": "09c768c7",
   "metadata": {
    "deletable": false,
    "editable": false,
    "nbgrader": {
     "cell_type": "markdown",
     "checksum": "9ec108b356e66a3e16ee9b41e0ccac53",
     "grade": false,
     "grade_id": "cell-5c735e9080300d72",
     "locked": true,
     "schema_version": 3,
     "solution": false
    }
   },
   "source": [
    "**(a)** [10] Derive the forward and backward second order finite difference approximations to the second derivative using the method of your choice."
   ]
  },
  {
   "cell_type": "markdown",
   "id": "83e8fbc1",
   "metadata": {
    "deletable": false,
    "nbgrader": {
     "cell_type": "markdown",
     "checksum": "57199decbaf43c32a17f1c759881727a",
     "grade": true,
     "grade_id": "cell-88d2d6f7dba4237d",
     "locked": false,
     "points": 10,
     "schema_version": 3,
     "solution": true
    }
   },
   "source": [
    "**Solutions:**\n",
    "\n",
    "Aim: given 3 equispaced points $x_{2}, x_{1}, x_0$ to calculate the consistent 2nd order, 1st derivative operator evaluated at each point. Similarly, we use 4 points $x_3, x_{2}, x_{1}, x_0$ to calculate 2nd order, 2nd derivative. Remark: We can also use $x_{n+2}, x_{n+1}, x_n$, but here, let's simplify the notation.\n",
    "\n",
    "Method: Using Taylor series to derive.\n",
    "\n",
    "\n",
    "- Forward:\n",
    "\n",
    "$$f(x_1) = f(x_0) + f'(x_0)\\Delta x + \\frac{f''(x_0)}{2!}\\Delta x^2 + \\frac{f'''(R_1)}{3!} \\Delta x^3$$\n",
    "$$f(x_2) = f(x_0) + f'(x_0)2\\Delta x + \\frac{f''(x_0)}{2!}(2\\Delta x)^2 + \\frac{f'''(R_1)}{3!} (2\\Delta x)^3$$\n",
    "\n",
    "Shift derivative to left hand side and simplify, we get\n",
    "$$ f'(x_0) = \\frac{-3f(x_0) + 4f(x_1) - f(x_2)}{2 \\Delta x}$$\n",
    "\n",
    "$$ f''(x_0) = \\frac{2f(x_0) - 5f(x_1) + 4f(x_2) - f(x_3)}{\\Delta x^3}$$\n",
    "\n",
    "- Backward:\n",
    "\n",
    "$$f(x_0) = f(x_1) - f'(x_1)\\Delta x + \\frac{f''(x_1)}{2!}\\Delta x^2 - \\frac{f'''(R_1)}{3!} \\Delta x^3$$\n",
    "$$f(x_0) = f(x_2) - f'(x_2)2\\Delta x + \\frac{f''(x_2)}{2!}(2\\Delta x)^2 - \\frac{f'''(R_1)}{3!} (2\\Delta x)^3$$\n",
    "\n",
    "Shift derivative to left hand side and simplify, we get\n",
    "$$ f'(x_2) = \\frac{3f(x_2) - 4f(x_1) + f(x_0)}{2 \\Delta x}$$\n",
    "\n",
    "$$ f''(x_3) = \\frac{2f(x_3) - 5f(x_2) + 4f(x_1) - f(x_0)}{\\Delta x^3}$$"
   ]
  },
  {
   "cell_type": "markdown",
   "id": "3aafec4b",
   "metadata": {
    "deletable": false,
    "editable": false,
    "nbgrader": {
     "cell_type": "markdown",
     "checksum": "93a21c535b283619d231255341d37ad2",
     "grade": false,
     "grade_id": "cell-7885120873385504",
     "locked": true,
     "schema_version": 3,
     "solution": false
    }
   },
   "source": [
    "**(b)** [10] Using a second order centered finite difference approximation to the second derivative and the appropriate second order forward and backward difference schemes at the edges of the domain find the matrix $D$ such that multiplying a vector of $y$ values would lead to a second order approximation of the derivative for the given data.  In other words for $y_i = f(x_i)$\n",
    "$$\n",
    "    f''(x) \\approx D y.\n",
    "$$"
   ]
  },
  {
   "cell_type": "markdown",
   "id": "0377fb55",
   "metadata": {
    "deletable": false,
    "nbgrader": {
     "cell_type": "markdown",
     "checksum": "67a3ffd50bc7cfb020a04991ff5467d7",
     "grade": true,
     "grade_id": "cell-2125755949784286",
     "locked": false,
     "points": 10,
     "schema_version": 3,
     "solution": true
    }
   },
   "source": [
    "**Solutions:**\n",
    "\n",
    "- Step 1: Derive Centered Case\n",
    "\n",
    "Using the similar method, we can the centered second order finite difference approximations to the second derivative:\n",
    "\n",
    "$$f''(x_1) = \\frac{f(x_2) - 2f(x_1) + f(x_0)}{\\Delta x^2}$$\n",
    "\n",
    "$$f''(x_2) = \\frac{f(x_3) - 2f(x_2) + f(x_1)}{\\Delta x^2}$$\n",
    "\n",
    "- Step 2: Derive the matrix\n",
    "\n",
    "According to question (a) and (b), we have:\n",
    "$$\n",
    "\\frac{1}{\\Delta x^2}\n",
    "\\cdot\n",
    "\\begin{bmatrix}\n",
    "    \\frac{2}{\\Delta x} & \\frac{-5}{\\Delta x} & \\frac{4}{\\Delta x} & \\frac{-1}{\\Delta x} & \\cdots & 0 & 0\\\\\n",
    "    1 & -2 & 1 & 0 & \\cdots & 0  & 0\\\\\n",
    "    0 & 1 & -2 & 1 & \\cdots & 0  & 0\\\\\n",
    "    \\cdots & \\cdots & \\cdots & \\cdots & \\cdots & \\cdots & \\cdots\\\\\n",
    "    0 & 0 & \\cdots & 0 & 1 & -2 & 1\\\\\n",
    "    0 & 0& \\cdots& \\frac{-1}{\\Delta x} & \\frac{4}{\\Delta x} & \\frac{-5}{\\Delta x} & \\frac{2}{\\Delta x}\n",
    "\\end{bmatrix} \n",
    "\\cdot\n",
    "\\begin{bmatrix}\n",
    "    f(x_0) \\\\\n",
    "    f(x_1) \\\\\n",
    "    \\vdots \\\\\n",
    "    \\vdots \\\\\n",
    "    \\vdots \\\\\n",
    "    f(x_n) \n",
    "\\end{bmatrix} \n",
    "=\\begin{bmatrix}\n",
    "    f''(x_0) \\\\\n",
    "    f''(x_1) \\\\\n",
    "    \\vdots \\\\\n",
    "    \\vdots \\\\\n",
    "    \\vdots \\\\\n",
    "    f''(x_n) \n",
    "\\end{bmatrix} \n",
    "$$\n",
    "\n"
   ]
  },
  {
   "cell_type": "markdown",
   "id": "81929c51",
   "metadata": {
    "deletable": false,
    "editable": false,
    "nbgrader": {
     "cell_type": "markdown",
     "checksum": "11d83390ba12aae06db91362c35dccbc",
     "grade": false,
     "grade_id": "cell-8815784455777695",
     "locked": true,
     "schema_version": 3,
     "solution": false
    }
   },
   "source": [
    "**(c)** [10] Write a function that takes in the number of data points $N$ and returns the matrix $D$.  Here assume we are on the interval $[-1, 1]$.  Note that inside your function \n",
    "$$\n",
    "    \\Delta x = \\frac{2}{N - 1}\n",
    "$$\n",
    "to match the `linspace` command.\n",
    "\n",
    "Beyond being convenient (once you construct the matrix you can apply it to any set of data) this operation is much faster than using loops.  *Hint:* The command `numpy.diag` may be extremely helpful."
   ]
  },
  {
   "cell_type": "code",
   "execution_count": 17,
   "id": "439f1e67",
   "metadata": {
    "deletable": false,
    "nbgrader": {
     "cell_type": "code",
     "checksum": "08cef2157f573181b72e409343a13c87",
     "grade": false,
     "grade_id": "cell-5516025382221234",
     "locked": false,
     "schema_version": 3,
     "solution": true
    }
   },
   "outputs": [],
   "source": [
    "def diff_matrix(N):\n",
    "    # YOUR CODE HERE\n",
    "    #raise NotImplementedError()\n",
    "    \n",
    "    D = numpy.zeros((N, N))\n",
    "    row, col = numpy.diag_indices_from(D)\n",
    "    D[row, col] = -2\n",
    "    \n",
    "    D_plus = D[0:N - 1, 1:N]\n",
    "    row, col = numpy.diag_indices_from(D_plus)\n",
    "    D_plus[row, col] = 1\n",
    "    D[0:N-1, 1:N] = D_plus\n",
    "    \n",
    "    D_minors = D[1:N, 0:N - 1]\n",
    "    row2, col2 = numpy.diag_indices_from(D_minors)\n",
    "    D_minors[row2, col2] = 1\n",
    "    D[1:N, 0:N - 1] = D_minors\n",
    "    \n",
    "    delta_x = 2 / (N - 1)\n",
    "    \n",
    "    D[0, 0] = 2\n",
    "    D[0, 1] = -5\n",
    "    D[0, 2] = 4\n",
    "    D[0, 3] = -1\n",
    "    \n",
    "    D[N-1, N-4] = -1\n",
    "    D[N-1, N-3] = 4\n",
    "    D[N-1, N-2] = -5\n",
    "    D[N-1, N-1] = 2\n",
    "    \n",
    "    D = D / delta_x**2\n",
    "    \n",
    "    return D"
   ]
  },
  {
   "cell_type": "code",
   "execution_count": 18,
   "id": "6ca9a43c",
   "metadata": {
    "deletable": false,
    "editable": false,
    "nbgrader": {
     "cell_type": "code",
     "checksum": "0cd8e56a3e5745bcf3fff5e30cff6fb4",
     "grade": true,
     "grade_id": "cell-7511846809958937",
     "locked": true,
     "points": 10,
     "schema_version": 3,
     "solution": false
    }
   },
   "outputs": [
    {
     "name": "stdout",
     "output_type": "stream",
     "text": [
      "Success!\n"
     ]
    }
   ],
   "source": [
    "N = 200\n",
    "x = numpy.linspace(-1, 1, N)\n",
    "y = numpy.sin(x) * numpy.cos(x)\n",
    "numpy.testing.assert_allclose(numpy.dot(diff_matrix(N), y), -4.0 * numpy.sin(x) * numpy.cos(x), rtol=1e-2)\n",
    "print(\"Success!\")"
   ]
  },
  {
   "cell_type": "markdown",
   "id": "bfdd82ca",
   "metadata": {
    "deletable": false,
    "editable": false,
    "nbgrader": {
     "cell_type": "markdown",
     "checksum": "86e0dec917e91613054276eaca16dc9b",
     "grade": false,
     "grade_id": "cell-1283048126092389",
     "locked": true,
     "schema_version": 3,
     "solution": false
    }
   },
   "source": [
    "**(c)** [5] Suppose instead that we did not know the vector $f(x_i) = y_i$ but instead knew the value of second derivative at these points.  If we wanted to find the vector $y$ what kind of problem would we have to solve?  What is the continuous analog of this problem and what additional information would we need?"
   ]
  },
  {
   "cell_type": "markdown",
   "id": "af41da3c",
   "metadata": {
    "deletable": false,
    "nbgrader": {
     "cell_type": "markdown",
     "checksum": "4b523be5a5ee66ce478e9f9c59feaf56",
     "grade": true,
     "grade_id": "cell-3816704844311840",
     "locked": false,
     "points": 5,
     "schema_version": 3,
     "solution": true
    }
   },
   "source": [
    "**Solution:**\n",
    "1. We should solve the linear algebra problem:\n",
    "$$f(x) = D^{-1} f''(x)$$\n",
    "for $y \\approx f(x)$.\n",
    "\n",
    "2. Additional information:\n",
    "We need maxtrix $D$ is invertible, which highly depends on the number of points and the approximation method (centered, forward, backward) you choose."
   ]
  },
  {
   "cell_type": "code",
   "execution_count": null,
   "id": "8be42aab",
   "metadata": {},
   "outputs": [],
   "source": []
  }
 ],
 "metadata": {
  "kernelspec": {
   "display_name": "Python 3",
   "language": "python",
   "name": "python3"
  },
  "language_info": {
   "codemirror_mode": {
    "name": "ipython",
    "version": 3
   },
   "file_extension": ".py",
   "mimetype": "text/x-python",
   "name": "python",
   "nbconvert_exporter": "python",
   "pygments_lexer": "ipython3",
   "version": "3.8.8"
  }
 },
 "nbformat": 4,
 "nbformat_minor": 5
}
