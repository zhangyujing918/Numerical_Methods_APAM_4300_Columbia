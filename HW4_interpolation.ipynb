{
 "cells": [
  {
   "cell_type": "markdown",
   "metadata": {},
   "source": [
    "Before you turn this problem in, make sure everything runs as expected. First, restart the kernel (in the menubar, select Kernel $\\rightarrow$ Restart) and then run all cells (in the menubar, select Cell $\\rightarrow$ Run All).\n",
    "\n",
    "Make sure you fill in any place that says YOUR CODE HERE or \"YOUR ANSWER HERE\", as well as your name and collaborators below:"
   ]
  },
  {
   "cell_type": "code",
   "execution_count": 24,
   "metadata": {},
   "outputs": [],
   "source": [
    "%matplotlib inline\n",
    "import numpy\n",
    "import matplotlib.pyplot as plt"
   ]
  },
  {
   "cell_type": "code",
   "execution_count": 25,
   "metadata": {},
   "outputs": [],
   "source": [
    "Name = \"Yujing Zhang\"\n",
    "Collaborator = \"\"\n",
    "Uni = \"yz4471\""
   ]
  },
  {
   "cell_type": "markdown",
   "metadata": {
    "deletable": false,
    "editable": false,
    "nbgrader": {
     "cell_type": "markdown",
     "checksum": "05a90bc96a8a096843e665eea1de53c4",
     "grade": false,
     "grade_id": "cell-5502088417300118",
     "locked": true,
     "schema_version": 3,
     "solution": false
    }
   },
   "source": [
    "# HW 4:  Interpolation"
   ]
  },
  {
   "cell_type": "markdown",
   "metadata": {
    "deletable": false,
    "editable": false,
    "nbgrader": {
     "cell_type": "markdown",
     "checksum": "ef13a73e03d84a2e83f492465d334d05",
     "grade": false,
     "grade_id": "cell-6806070912155660",
     "locked": true,
     "schema_version": 3,
     "solution": false
    }
   },
   "source": [
    "## Question 1\n",
    "\n",
    "[10] The $n$th Chebyshev polynomial is characterized (up to a constant) by the identity\n",
    "\n",
    "$$T_n(\\cos \\theta) = \\cos (n \\theta)$$\n",
    "\n",
    "Use this identity to show that the Chebyshev polynomials are orthogonal on $x\\in[-1,1]$ with respect to the weight\n",
    "\n",
    "$$w(x) = \\frac{1}{\\sqrt{1 - x^2}}$$\n",
    "\n",
    "To do this you must prove that\n",
    "\n",
    "$$\\int^1_{-1} w(x) T_n(x) T_m(x) dx = \\left \\{ \\begin{aligned} \n",
    "a & ~ & m = n \\\\ \n",
    "0 & ~ & m \\neq n \n",
    "\\end{aligned} \\right .$$\n",
    "\n",
    "where $a$ is a finite constant (also find this coefficient).  Note that you may have multiple non-zero coefficients $a$.  Make sure to cover all these cases and list the conditions that you will find these values."
   ]
  },
  {
   "cell_type": "markdown",
   "metadata": {
    "deletable": false,
    "nbgrader": {
     "cell_type": "markdown",
     "checksum": "8d2f4d1eaa3c4e62333153ce8ca3a636",
     "grade": true,
     "grade_id": "cell-8354694405440956",
     "locked": false,
     "points": 10,
     "schema_version": 3,
     "solution": true
    }
   },
   "source": [
    "**Solution**:\n",
    "\n",
    "- **Derive the domain & range**\n",
    "\n",
    "Let $x = cos\\theta$, since $x\\in[-1,1]$, and $arccos(-1) = \\pi, arccos(1) = 0$, we have:\n",
    "\n",
    "$$ dx = -sin(\\theta) d\\theta, \\theta \\in [\\pi, 0]$$\n",
    "\n",
    "- **Case 1: $n = m \\neq 0$**\n",
    "\n",
    "\n",
    "\n",
    "$$\n",
    "T_n(x) = cos(n\\theta),   T_m(x) = cos(m\\theta), w(x) = \\frac{1}{\\sqrt{1-cos^2(\\theta)}} = \\frac{1}{sin\\theta}$$\n",
    "Since $\\theta \\in [\\pi, 0], sin(\\theta) > 0$, So the integral is:\n",
    "\n",
    "\n",
    "\n",
    "$$\\int^1_{-1} w(x) T_n(x) T_m(x) dx = \\int^0_{\\pi} \\frac{1}{sin\\theta} \\cdot cos(m\\theta) \\cdot cos(n\\theta) \\cdot (-sin\\theta) d\\theta$$\n",
    "\n",
    "$$ = \\int^\\pi_{0} cos(m\\theta)cos(n\\theta) d\\theta$$\n",
    "\n",
    "$$ = \\frac{1}{2} \\int^\\pi_{0} cos[(m-n)\\theta] d\\theta + \\frac{1}{2} \\int^\\pi_{0}cos[(m+n)\\theta] d\\theta$$\n",
    "Let's call the above equation as (*)\n",
    "\n",
    "Since $m = n \\neq 0$\n",
    "\n",
    "$$ = \\frac{1}{2} \\int^\\pi_{0} (1+cos(2n\\theta))d\\theta$$\n",
    "\n",
    "$$ = \\frac{1}{2}(\\pi +\\frac{sin(2\\pi\\theta)}{2n}) = \\frac{2n\\pi+sin(2n\\pi)}{4n}$$\n",
    "for any integer n, because $sin(2n\\pi) = 0$\n",
    "\n",
    "$$(*) = \\frac{\\pi}{2}$$\n",
    "\n",
    "- **Case 2: $m = n = 0$**\n",
    "$$(*) = \\frac{1}{2} \\cdot 2 \\int^\\pi_0 1 d\\theta = \\pi$$\n",
    "\n",
    "- **Case 3: $m \\neq n$**\n",
    "\n",
    "$$(*) = \\frac{1}{2(m-n)}sin[(m-n)\\pi] + \\frac{1}{2(m+n}sin[(m+n)\\pi]$$\n",
    "\n",
    "$$ = \\frac{(m+n)(sin(m\\pi)cos(n\\pi)-cos(m\\pi)sin(n\\pi)) + (m-n)(sin(m\\pi)cos(n\\pi)+cos(m\\pi)sin(n\\pi))}{2(m^2-n^2)}$$\n",
    "\n",
    "$$ = \\frac{m\\cdot sin(m\\pi)\\cdot cos{(n\\pi)} - n\\cdot cos{(m\\pi)} \\cdot sin(n\\pi)}{m^2-n^2}$$\n",
    "\n",
    "Since $sin(m\\pi)$ and $sin(n\\pi)$ are in the numerator, ${\\forall} n, m \\in interger$, \n",
    "$$(*) = 0$$\n",
    "\n",
    "- **In summary**\n",
    "\n",
    "$$\\int^1_{-1} w(x) T_n(x) T_m(x) dx = \\left \\{ \\begin{aligned} \n",
    "\\frac{\\pi}{2} & ~ & m = n \\neq 0\\\\ \n",
    "\\pi & ~ & m = n = 0\\\\\n",
    "0 & ~ & m \\neq n \\\\\n",
    "\\end{aligned} \\right .$$"
   ]
  },
  {
   "cell_type": "markdown",
   "metadata": {
    "deletable": false,
    "editable": false,
    "nbgrader": {
     "cell_type": "markdown",
     "checksum": "9a9a7f391273ce9b258485119ab56d36",
     "grade": false,
     "grade_id": "cell-7819290100903685",
     "locked": true,
     "schema_version": 3,
     "solution": false
    }
   },
   "source": [
    "## Question 2\n",
    "\n",
    "We discussed in class that equally spaced points are not optimal and in fact the Lagrange interpolants can vary considerably from 1 near the ends.  For these questions consider the interval $x\\in[-1, 1]$."
   ]
  },
  {
   "cell_type": "markdown",
   "metadata": {
    "deletable": false,
    "editable": false,
    "nbgrader": {
     "cell_type": "markdown",
     "checksum": "0225abd937243068e3888770aaed31bd",
     "grade": false,
     "grade_id": "cell-1974680948166026",
     "locked": true,
     "schema_version": 3,
     "solution": false
    }
   },
   "source": [
    "**(a)** [10] For $N = 4$ find the position and value of the maximum value on $[-1,1]$ of $|\\ell_k(x)|$ analytically for $\\ell_2(x)$ using equi-spaced points (extra credit for finding them for all analytically)."
   ]
  },
  {
   "cell_type": "markdown",
   "metadata": {
    "deletable": false,
    "nbgrader": {
     "cell_type": "markdown",
     "checksum": "a5409198244fd43fdea050a72c99c441",
     "grade": true,
     "grade_id": "cell-1609100275099664",
     "locked": false,
     "points": 10,
     "schema_version": 3,
     "solution": true
    }
   },
   "source": [
    "**Solution:**\n",
    "- **For $\\ell_2(x)$:**\n",
    "\n",
    "Since points are equally spaced, we have\n",
    "$$x_0 = -1, x_1 = -0.5, x_2 = 0, x_3 = 0.5, x_4 = 1$$\n",
    "\n",
    "According to the formula of Lagrange basis, \n",
    "$$\\ell_i(x) = \\prod^{N}_{j=0, j \\neq i} \\frac{x - x_j}{x_i - x_j}$$\n",
    "\n",
    "$$\\ell_2(x) = \\frac{x - x_0}{x_2 - x_0} \\frac{x - x_1}{x_2 - x_1} \\frac{x - x_3}{x_2 - x_3} \\frac{x - x_4}{x_2 - x_4}$$\n",
    "\n",
    "$$ = \\frac{x + 1}{0 + 1} \\frac{x + 0.5}{0 + 0.5} \\frac{x - 0.5}{0 - 0.5} \\frac{x - 1}{0 - 1}$$\n",
    "\n",
    "$$ = 4x^4 - 5x^2 +1 $$\n",
    "\n",
    "To get the maximum value, \n",
    "\n",
    "$$\\ell'_2(x) = 16x^3 - 10x = 0, x\\in [-1,1]$$\n",
    "\n",
    "So,  it reaches a maximum of $1$ when $x = 0$\n",
    "\n",
    "- **To find all, Using the similar method**\n",
    "$$\\ell_1(x) = -\\frac{8}{3} (x^4 - 0.5x^3 - x^2 +0.5x), \\ell'_1(x) = -\\frac{8}{3}(4x^3 - 1.5x^2 - 2x +0.5)$$\n",
    "When $$x_{max}\\approx-0.663, \\ell_1(x)_{max} = 1.152$$\n",
    "\n",
    "$$\\ell_3(x) = -\\frac{8}{3} (x^4 + 0.5x^3 - x^2 - 0.5x), \\ell'_3(x) = -\\frac{8}{3}(4x^3 + 1.5x^2 - 2x - 0.5)$$\n",
    "When $$x_{max}\\approx0.663, \\ell_1(x)_{max} = 1.152$$\n",
    "\n",
    "$$\\ell_4(x) = \\frac{2}{3} (x^4 + x^3 - 0.25x^2 - 0.25x), \\ell'_4(x) = \\frac{2}{3}(4x^3 + 3x^2 - 0.5x - 0.25)$$\n",
    "When $$x_{max} = 1, \\ell_1(x)_{max} = 1$$"
   ]
  },
  {
   "cell_type": "markdown",
   "metadata": {
    "deletable": false,
    "editable": false,
    "nbgrader": {
     "cell_type": "markdown",
     "checksum": "1cd90c315c5355518953932a284b7675",
     "grade": false,
     "grade_id": "cell-108742731508443",
     "locked": true,
     "schema_version": 3,
     "solution": false
    }
   },
   "source": [
    "**(b)** [10] Estimate $\\max |\\ell_k(x)|$ for $N > 2$ by writing a function that returns the maximum absolute value of all Lagrange basis functions for $N$ evenly spaced points.  Note that $N$ is the polynomial order, not the number of points.  Use\n",
    "```python\n",
    "x = numpy.linspace(-1, 1, 100)\n",
    "```\n",
    "to evaluate the polynomial.  Also it may be helpful to plot the basis and the maximum found to check your answer:\n",
    "```python\n",
    "fig = plt.figure()\n",
    "axes = fig.add_subplot(1, 1, 1)\n",
    "axes.plot(x, lagrange_basis)\n",
    "axes.plot(x_max, lagrange_basis_max, 'ko')\n",
    "```"
   ]
  },
  {
   "cell_type": "code",
   "execution_count": 26,
   "metadata": {
    "deletable": false,
    "nbgrader": {
     "cell_type": "code",
     "checksum": "883e97a0b1b92e5301143cafc8747ce8",
     "grade": false,
     "grade_id": "cell-1846687567556877",
     "locked": false,
     "schema_version": 3,
     "solution": true
    }
   },
   "outputs": [],
   "source": [
    "def max_equal_basis(N):\n",
    "    r\"\"\"Compute the maximum amplitude of the Lagrange\n",
    "    polynomial basis of degree *N*\n",
    "    \n",
    "    \"\"\"\n",
    "    x = numpy.linspace(-1, 1, 100)\n",
    "    # YOUR CODE HERE\n",
    "\n",
    "    # get points between [-1, 1]\n",
    "    points = []\n",
    "    x0 = -1\n",
    "    for i in range (N+1):\n",
    "        x0 = -1 + i*2/(N)\n",
    "        points.append(x0)\n",
    "    \n",
    "    #compute ln\n",
    "    maxlist = []\n",
    "    for i in range (N+1):\n",
    "        Emu = numpy.ones_like(x)\n",
    "        for j in range(N+1):\n",
    "            if i != j:\n",
    "                L = lambda y: (y- points[j])/(points[i] - points[j])\n",
    "                Lvalue = L(x)\n",
    "                Emu = Emu*Lvalue\n",
    "        maxi = max(abs(Emu))\n",
    "        maxlist.append(maxi)\n",
    "    return max(maxlist)"
   ]
  },
  {
   "cell_type": "code",
   "execution_count": 27,
   "metadata": {
    "deletable": false,
    "editable": false,
    "nbgrader": {
     "cell_type": "code",
     "checksum": "5297b1a663db6739291d9b220e0f2068",
     "grade": true,
     "grade_id": "cell-4790850008223281",
     "locked": true,
     "points": 10,
     "schema_version": 3,
     "solution": false
    }
   },
   "outputs": [
    {
     "name": "stdout",
     "output_type": "stream",
     "text": [
      "Success!\n"
     ]
    }
   ],
   "source": [
    "N = [2, 4, 6, 8, 10, 12, 20, 30, 40]\n",
    "max_value = numpy.empty(len(N))\n",
    "for (i, n) in enumerate(N):\n",
    "    max_value[i] = max_equal_basis(n)\n",
    "numpy.testing.assert_allclose(max_value, [1.00000000e+00, 1.15204532e+00, 1.36216139e+00, \n",
    "                                          2.54889859e+00, 6.50684027e+00, 1.80407350e+01, \n",
    "                                          1.79785431e+03, 8.77912809e+05, 4.27506380e+08])\n",
    "\n",
    "print(\"Success!\")"
   ]
  },
  {
   "cell_type": "markdown",
   "metadata": {
    "deletable": false,
    "editable": false,
    "nbgrader": {
     "cell_type": "markdown",
     "checksum": "7f42157667b4cd448b19fe57c102df9b",
     "grade": false,
     "grade_id": "cell-4319376963517508",
     "locked": true,
     "schema_version": 3,
     "solution": false
    }
   },
   "source": [
    "**(c)** [5] Repeat part **b** but with Chebyshev points.  Note that these are Lagrangian basis functions using Chebyshev points (or nodes) rather than the Chebyshev polynomial basis.  Again use the plotting code above if you need to debug."
   ]
  },
  {
   "cell_type": "code",
   "execution_count": 28,
   "metadata": {
    "deletable": false,
    "nbgrader": {
     "cell_type": "code",
     "checksum": "977042cecd36427e1284c95a5e93d762",
     "grade": false,
     "grade_id": "cell-7014398607882874",
     "locked": false,
     "schema_version": 3,
     "solution": true
    }
   },
   "outputs": [],
   "source": [
    "def max_chebyshev_basis(N):\n",
    "    \"\"\"Using Chebyshev nodes and the corresponding Lagrangian basis\n",
    "    compute the maximum amplitude of the basis function of degree *N*.\n",
    "    \"\"\"\n",
    "    x = numpy.linspace(-1, 1, 100)\n",
    "    # YOUR CODE HERE\n",
    "    #raise NotImplementedError()\n",
    "    \n",
    "    num = numpy.arange(1, N+2, 1)\n",
    "    x_nodes = numpy.cos(((2*num-1)*numpy.pi)/(2*(N+1)))\n",
    "    \n",
    "    maxlist = []\n",
    "    for i in range(N+1):\n",
    "        Emu = numpy.ones_like(x+1)\n",
    "        for j in range(N):\n",
    "            if i != j:\n",
    "                L = lambda y: (y- x_nodes[j])/(x_nodes[i] - x_nodes[j])\n",
    "                Lvalue = L(x)\n",
    "                Emu = Emu * Lvalue\n",
    "        maxi = max(abs(Emu))\n",
    "        maxlist.append(maxi)\n",
    "    \n",
    "    return maxlist[-1]\n",
    "\n",
    "#I have two methods for this question, this one is written by me, it's a little bit weird\n",
    "#Below is written by my friends:"
   ]
  },
  {
   "cell_type": "code",
   "execution_count": 29,
   "metadata": {
    "deletable": false,
    "editable": false,
    "nbgrader": {
     "cell_type": "code",
     "checksum": "15ffd63c8ff63e73eddff1559ce9c507",
     "grade": true,
     "grade_id": "cell-4966796702486256",
     "locked": true,
     "points": 5,
     "schema_version": 3,
     "solution": false
    }
   },
   "outputs": [
    {
     "name": "stdout",
     "output_type": "stream",
     "text": [
      "Success!\n"
     ]
    }
   ],
   "source": [
    "N = [2, 4, 6, 8, 10, 12, 20, 30, 40]\n",
    "max_value = numpy.empty(len(N))\n",
    "for (i, n) in enumerate(N):\n",
    "    max_value[i] = max_chebyshev_basis(n)\n",
    "\n",
    "numpy.testing.assert_allclose(max_value, [1.24401694, 1.2627503, 1.26789221, 1.27000581, \n",
    "                                          1.27107518, 1.27169006, 1.27264584, 1.27296711,\n",
    "                                          1.2730838])\n",
    "\n",
    "print(\"Success!\")"
   ]
  },
  {
   "cell_type": "code",
   "execution_count": 30,
   "metadata": {},
   "outputs": [],
   "source": [
    "def max_chebyshev_basis(N):\n",
    "    \"\"\"Using Chebyshev nodes and the corresponding Lagrangian basis\n",
    "    compute the maximum amplitude of the basis function of degree *N*.\n",
    "    \"\"\"\n",
    "    x = numpy.linspace(-1, 1, 100)\n",
    "    # YOUR CODE HERE\n",
    "    maxes = []\n",
    "    num = numpy.arange(1, N+2, 1)\n",
    "    nodes = numpy.cos(((2*num-1)*numpy.pi)/(2*N+2))\n",
    "    pts = set(nodes)\n",
    "    for i in nodes:\n",
    "        evaluate = numpy.ones(len(x))\n",
    "        rest = pts.difference({i})\n",
    "        for j in rest:\n",
    "            l_i = lambda y: (y - j) / (i - j)\n",
    "            vals = l_i(x)\n",
    "            evaluate = evaluate * vals\n",
    "        max_li = max(numpy.abs(evaluate))\n",
    "        maxes.append(max_li)        \n",
    "    return max(maxes)"
   ]
  },
  {
   "cell_type": "markdown",
   "metadata": {
    "deletable": false,
    "editable": false,
    "nbgrader": {
     "cell_type": "markdown",
     "checksum": "7068d4dc9465c15e46dd59f5b0b30274",
     "grade": false,
     "grade_id": "cell-2867612339147590",
     "locked": true,
     "schema_version": 3,
     "solution": false
    }
   },
   "source": [
    "**(d)** [5] Plot a comparison of the results (on the same plot) from part **b** and **c** using the same values of N.  Make sure to use a `semilogy` plot so that the values are vieable (at least for one of the series)."
   ]
  },
  {
   "cell_type": "code",
   "execution_count": 31,
   "metadata": {
    "deletable": false,
    "nbgrader": {
     "cell_type": "code",
     "checksum": "093d9cf0591f8e5847b9bae28e94c68d",
     "grade": true,
     "grade_id": "cell-7707828088791371",
     "locked": false,
     "points": 5,
     "schema_version": 3,
     "solution": true
    }
   },
   "outputs": [
    {
     "data": {
      "image/png": "[encoded data removed]",
      "text/plain": [
       "<Figure size 576x360 with 1 Axes>"
      ]
     },
     "metadata": {
      "needs_background": "light"
     },
     "output_type": "display_data"
    }
   ],
   "source": [
    "# YOUR CODE HERE\n",
    "#raise NotImplementedError()\n",
    "N = [2, 4, 6, 8, 10, 12, 20, 30, 40]\n",
    "max_value1 = numpy.empty(len(N))\n",
    "for (i, n) in enumerate(N):\n",
    "    max_value1[i] = max_equal_basis(n)\n",
    "\n",
    "max_value2 = numpy.empty(len(N))\n",
    "for (i, n) in enumerate(N):\n",
    "    max_value2[i] = max_chebyshev_basis(n)\n",
    "\n",
    "\n",
    "fig = plt.figure(figsize = (8, 5))\n",
    "plt.xlabel(\"$N$\")\n",
    "plt.ylabel(\"Maximum Absolute Value of All Lagrange Basis\")\n",
    "plt.title(\"Maximum Absolute Value of All Lagrange Basis vs $N$\")\n",
    "plt.semilogy(N, max_value1, \"b\", N, max_value2, \"r\")\n",
    "plt.legend([\"Equal Basis\", \"Chebychev Basis\"], loc = 0)\n",
    "plt.grid(alpha = 0.4)\n",
    "plt.show()"
   ]
  },
  {
   "cell_type": "markdown",
   "metadata": {
    "deletable": false,
    "editable": false,
    "nbgrader": {
     "cell_type": "markdown",
     "checksum": "6211acc2968389f2b9c915eb25a986ed",
     "grade": false,
     "grade_id": "cell-e4a09beea3442364",
     "locked": true,
     "schema_version": 3,
     "solution": false,
     "task": false
    }
   },
   "source": [
    "## Question 3\n",
    "\n",
    "Consider the Lebesgue function\n",
    "$$\n",
    "\\lambda_N(x)  = \\sum_{i=0}^N\\big{|}\\ell_i(x)\\big{|}\n",
    "$$\n",
    "where $\\ell_i(x)$ are Lagrange basis functions for a given set of $x_i$.  The maximum of the Lebesgue function is called $\\Lambda_n$ the Lebesgue constant and have a clear connection to Lagrangian interpolation as they provide a first estimate for the interpolation error.  Unfortunately, $\\Lambda_N$ is not uniformly bounded regardless of the nodes used as one can show that \n",
    "$$\n",
    "    \\Lambda_N > \\mathcal{O}(\\log N) ~~~\\text{as}~~~ N \\rightarrow \\infty\n",
    "$$\n",
    "\n",
    "Note, $\\Lambda_n$ is the infinite-norm of the linear operator mapping data to interpolant on the given grid and interval."
   ]
  },
  {
   "cell_type": "markdown",
   "metadata": {
    "deletable": false,
    "editable": false,
    "nbgrader": {
     "cell_type": "markdown",
     "checksum": "1d3fe3385eb6de35e12c1b3dbba5ae5b",
     "grade": false,
     "grade_id": "cell-776abdcd953b3800",
     "locked": true,
     "schema_version": 3,
     "solution": false,
     "task": false
    }
   },
   "source": [
    "**(a)** [5] What do you expect the Lebesgue function to look like?  Are there key points where we will know the function value exactly?"
   ]
  },
  {
   "cell_type": "markdown",
   "metadata": {
    "deletable": false,
    "nbgrader": {
     "cell_type": "markdown",
     "checksum": "be268da4210714781f969b8c5ad48eb0",
     "grade": true,
     "grade_id": "cell-8b13376ff99b9478",
     "locked": false,
     "points": 5,
     "schema_version": 3,
     "solution": true,
     "task": false
    }
   },
   "source": [
    "1. Since in the equal points case, $\\ell_i(x)$ will have abnormal value(extreme large) at the edge of the interval, So the Lebesgue function will also have abnormal value at the edge of the interval\n",
    "2. Since Lagrange Basis is composed of N-degree functions, the Legesgue Function may vibrate\n",
    "3. In the equal points case, at the left end point $1$, the value of Lebesgue function is always $1$"
   ]
  },
  {
   "cell_type": "markdown",
   "metadata": {
    "deletable": false,
    "editable": false,
    "nbgrader": {
     "cell_type": "markdown",
     "checksum": "d99ac09622756b920dcb3c3f92f0ef49",
     "grade": false,
     "grade_id": "cell-038a24ac86e5f79b",
     "locked": true,
     "schema_version": 3,
     "solution": false,
     "task": false
    }
   },
   "source": [
    "**(b)** [10] Plot the Lebesgue function for $x\\in[-1, 1]$ for $N = 5, 10, 20$ with\n",
    "$$\n",
    "    x_i = -1 + \\frac{2 i}{N}, ~~~ i = 0, 1, \\ldots, N.\n",
    "$$\n",
    "For the case where $N = 20$ comment on what you see (you may need to use `semilogy` to see the results)."
   ]
  },
  {
   "cell_type": "code",
   "execution_count": 32,
   "metadata": {
    "deletable": false,
    "nbgrader": {
     "cell_type": "code",
     "checksum": "74db041051326d0c4711da22b0c6b87a",
     "grade": true,
     "grade_id": "cell-2983e005a89bf619",
     "locked": false,
     "points": 7,
     "schema_version": 3,
     "solution": true,
     "task": false
    }
   },
   "outputs": [
    {
     "data": {
      "image/png": "[encoded data removed]",
      "text/plain": [
       "<Figure size 576x360 with 1 Axes>"
      ]
     },
     "metadata": {
      "needs_background": "light"
     },
     "output_type": "display_data"
    }
   ],
   "source": [
    "# YOUR CODE HERE\n",
    "#raise NotImplementedError()\n",
    "\n",
    "#N = 5\n",
    "N = 5\n",
    "x = numpy.linspace(-1, 1, 100)\n",
    "points = []\n",
    "x0 = -1\n",
    "for i in range (N+1):\n",
    "    x0 = -1 + i*2/(N)\n",
    "    points.append(x0)\n",
    "LF5 = 0\n",
    "for i in range (N+1):\n",
    "    Emu = numpy.ones_like(x)\n",
    "    for j in range(N+1):\n",
    "        if i != j:\n",
    "            L = lambda y: (y- points[j])/(points[i] - points[j])\n",
    "            Lvalue = L(x)\n",
    "            Emu = Emu*Lvalue\n",
    "            sumi = abs(Emu)\n",
    "    LF5 += sumi\n",
    "\n",
    "\n",
    "#N = 10\n",
    "N = 10\n",
    "x = numpy.linspace(-1, 1, 100)\n",
    "points = []\n",
    "x0 = -1\n",
    "for i in range (N+1):\n",
    "    x0 = -1 + i*2/(N)\n",
    "    points.append(x0)\n",
    "LF10 = 0\n",
    "for i in range (N+1):\n",
    "    Emu = numpy.ones_like(x)\n",
    "    for j in range(N+1):\n",
    "        if i != j:\n",
    "            L = lambda y: (y- points[j])/(points[i] - points[j])\n",
    "            Lvalue = L(x)\n",
    "            Emu = Emu*Lvalue\n",
    "            sumi = abs(Emu)\n",
    "    LF10 += sumi\n",
    "\n",
    "#N = 20\n",
    "N = 20\n",
    "x = numpy.linspace(-1, 1, 100)\n",
    "points = []\n",
    "x0 = -1\n",
    "for i in range (N+1):\n",
    "    x0 = -1 + i*2/(N)\n",
    "    points.append(x0)\n",
    "LF20 = 0\n",
    "for i in range (N):\n",
    "    Emu = numpy.ones_like(x)\n",
    "    for j in range(N):\n",
    "        if i != j:\n",
    "            L = lambda y: (y- points[j])/(points[i] - points[j])\n",
    "            Lvalue = L(x)\n",
    "            Emu = Emu*Lvalue\n",
    "            sumi = abs(Emu)\n",
    "    LF20 += sumi\n",
    "\n",
    "fig = plt.figure(figsize = (8, 5))\n",
    "plt.xlabel(\"$N$\")\n",
    "plt.ylabel(\"Lebesgue Function\")\n",
    "plt.title(\"Lebesgue Function vs $N$ (Equal Points)\", fontsize = 15)\n",
    "plt.semilogy(x, LF5,\"b\", x, LF10, \"r\", x, LF20,\"g\")\n",
    "plt.legend([\"$N = 5$\", \"$N = 10$\", \"$N = 20$\"], loc = 0)\n",
    "plt.grid(alpha = 0.4)\n",
    "\n",
    "plt.show()"
   ]
  },
  {
   "cell_type": "markdown",
   "metadata": {
    "deletable": false,
    "nbgrader": {
     "cell_type": "markdown",
     "checksum": "3092508c390d0c8641996f1b5082d593",
     "grade": true,
     "grade_id": "cell-d70170bc3968b2fb",
     "locked": false,
     "points": 3,
     "schema_version": 3,
     "solution": true,
     "task": false
    }
   },
   "source": [
    "Comments:\n",
    "1. When $N=20$, Lebesgue function has large abnormal values at the edge of the interval, and the value at 1 is greater than - 1\n",
    "2. With the increase of N value, the range of abnormal value becomes larger and larger, and the length of the area without abnormal value in the middle of the interval decreases"
   ]
  },
  {
   "cell_type": "markdown",
   "metadata": {
    "deletable": false,
    "editable": false,
    "nbgrader": {
     "cell_type": "markdown",
     "checksum": "2d12a8fa4220c0f12389af948a9bc410",
     "grade": false,
     "grade_id": "cell-a9205f0cd3d1aca8",
     "locked": true,
     "schema_version": 3,
     "solution": false,
     "task": false
    }
   },
   "source": [
    "**(c)** [5] Plot the Lebesgue function for $x\\in[-1, 1]$ for $N = 5, 10, 20$ with\n",
    "$$\n",
    "    x_i = \\cos\\left( \\frac{(2i - 1) \\pi}{2 N} \\right ) ~~~ i = 1, \\ldots, N.\n",
    "$$\n",
    "Again comment on what you see in the case $N = 20$."
   ]
  },
  {
   "cell_type": "code",
   "execution_count": 33,
   "metadata": {
    "deletable": false,
    "nbgrader": {
     "cell_type": "code",
     "checksum": "6936caf99b1685b9f3480277bbcb0108",
     "grade": true,
     "grade_id": "cell-6b6cbb6081a6ec7a",
     "locked": false,
     "points": 5,
     "schema_version": 3,
     "solution": true,
     "task": false
    }
   },
   "outputs": [
    {
     "data": {
      "image/png": "[encoded data removed]",
      "text/plain": [
       "<Figure size 1152x360 with 2 Axes>"
      ]
     },
     "metadata": {
      "needs_background": "light"
     },
     "output_type": "display_data"
    }
   ],
   "source": [
    "# YOUR CODE HERE\n",
    "#raise NotImplementedError()\n",
    "#N = 5\n",
    "N = 5\n",
    "x = numpy.linspace(-1, 1, 100)\n",
    "num = numpy.arange(1, N+2, 1)\n",
    "nodes = numpy.cos(((2 * num-1) * numpy.pi)/(2 * N + 2))\n",
    "LF5_Cheby = 0\n",
    "for i in range (N+1):\n",
    "    Emu = numpy.ones_like(x)\n",
    "    for j in range(N+1):\n",
    "        if i != j:\n",
    "            L = lambda y: (y- nodes[j])/(nodes[i] - nodes[j])\n",
    "            Lvalue = L(x)\n",
    "            Emu = Emu*Lvalue\n",
    "            sumi = abs(Emu)\n",
    "    LF5_Cheby += sumi\n",
    "\n",
    "#N = 10\n",
    "N = 10\n",
    "x = numpy.linspace(-1, 1, 100)\n",
    "num = numpy.arange(1, N+2, 1)\n",
    "nodes = numpy.cos(((2 * num-1) * numpy.pi)/(2 * N + 2))\n",
    "LF10_Cheby = 0\n",
    "for i in range (N+1):\n",
    "    Emu = numpy.ones_like(x)\n",
    "    for j in range(N+1):\n",
    "        if i != j:\n",
    "            L = lambda y: (y- nodes[j])/(nodes[i] - nodes[j])\n",
    "            Lvalue = L(x)\n",
    "            Emu = Emu*Lvalue\n",
    "            sumi = abs(Emu)\n",
    "    LF10_Cheby += sumi\n",
    "\n",
    "#N = 20\n",
    "N = 20\n",
    "x = numpy.linspace(-1, 1, 100)\n",
    "num = numpy.arange(1, N+2, 1)\n",
    "nodes = numpy.cos(((2 * num-1) * numpy.pi)/(2 * N + 2))\n",
    "LF20_Cheby = 0\n",
    "for i in range (N+1):\n",
    "    Emu = numpy.ones_like(x)\n",
    "    for j in range(N+1):\n",
    "        if i != j:\n",
    "            L = lambda y: (y- nodes[j])/(nodes[i] - nodes[j])\n",
    "            Lvalue = L(x)\n",
    "            Emu = Emu*Lvalue\n",
    "            sumi = abs(Emu)\n",
    "    LF20_Cheby += sumi\n",
    "\n",
    "fig = plt.figure(figsize = (16, 5))\n",
    "plt.subplot(1,2,1)\n",
    "plt.xlabel(\"$N$\")\n",
    "plt.ylabel(\"Lebesgue Function\")\n",
    "plt.title(\"Lebesgue Function vs $N$ (Chebychev Points)\", fontsize = 15)\n",
    "plt.semilogy(x, LF5_Cheby,\"b\", x, LF10_Cheby, \"r\", x, LF20_Cheby,\"g\")\n",
    "plt.legend([\"$N = 5$\", \"$N = 10$\", \"$N = 20$\"], loc = 0)\n",
    "plt.grid(alpha = 0.4)\n",
    "\n",
    "plt.subplot(1,2,2)\n",
    "plt.xlabel(\"$N$\")\n",
    "plt.ylabel(\"Lebesgue Function\")\n",
    "plt.title(\"Lebesgue Function vs $N$ (Chebychev Points, Set ylim)\", fontsize = 15)\n",
    "plt.semilogy(x, LF5_Cheby,\"b\", x, LF10_Cheby, \"r\", x, LF20_Cheby,\"g\")\n",
    "plt.legend([\"$N = 5$\", \"$N = 10$\", \"$N = 20$\"], loc = 0)\n",
    "plt.ylim(1e0,1e6)\n",
    "plt.grid(alpha = 0.4)\n",
    "plt.show()"
   ]
  },
  {
   "cell_type": "markdown",
   "metadata": {},
   "source": [
    "Comments:\n",
    "1. The left figure's yaxis is set automatically: We can see that Lebesgue function still oscillates on the interval and has abnormal values at the end of the interval. However, with the increase of $N$, the changes of amplitude and abnormal value are not that obvious\n",
    "2. The right figure's yaxis is set as same as the equal points basis: we can see that compared with equal points, the amplitude of oscillation and abnormal values are significantly reduced. This also confirms the advantages of Chebychev points in interpolation of interval edges compared with Equal basis"
   ]
  },
  {
   "cell_type": "markdown",
   "metadata": {
    "deletable": false,
    "editable": false,
    "nbgrader": {
     "cell_type": "markdown",
     "checksum": "29f83c46d1e8271159865c5623a4d1d1",
     "grade": false,
     "grade_id": "cell-80777791bf52e9b4",
     "locked": true,
     "schema_version": 3,
     "solution": false,
     "task": false
    }
   },
   "source": [
    "**(d)** [5] What do you observe about the Lebesgue function for each of the distribution of points?"
   ]
  },
  {
   "cell_type": "markdown",
   "metadata": {
    "deletable": false,
    "nbgrader": {
     "cell_type": "markdown",
     "checksum": "cbeee7b8148cc0b9c062ce391ca93cef",
     "grade": true,
     "grade_id": "cell-cb01d5c3e8fcb7b7",
     "locked": false,
     "points": 5,
     "schema_version": 3,
     "solution": true,
     "task": false
    }
   },
   "source": [
    "As the above right figure shows, the behavior of Lebesgue constant of equidistributed points increase much faster than that of chebyshev points as $N$ increases"
   ]
  },
  {
   "cell_type": "markdown",
   "metadata": {
    "deletable": false,
    "editable": false,
    "nbgrader": {
     "cell_type": "markdown",
     "checksum": "89e9907db09d3a1de17bc36f6792ee51",
     "grade": false,
     "grade_id": "cell-cfd76f58616457e1",
     "locked": true,
     "schema_version": 3,
     "solution": false,
     "task": false
    }
   },
   "source": [
    "**(e)** [5] Using suitable values for $N$ plot the Lebesgue constants of each of the above cases.  Make sure to use a suitably large number of points to evaluate the function.  Graphically demonstrate that the constant grow with the predicted growth rate $\\mathcal{O}(\\log N)$ keeping in mind that there may be a constant out in front of the $\\log N$ term.  Describe what you observe."
   ]
  },
  {
   "cell_type": "code",
   "execution_count": 34,
   "metadata": {
    "deletable": false,
    "nbgrader": {
     "cell_type": "code",
     "checksum": "dddfd9db3ab6cb7121d7458fd24d7bf5",
     "grade": true,
     "grade_id": "cell-10f1ad2a4851a350",
     "locked": false,
     "points": 3,
     "schema_version": 3,
     "solution": true,
     "task": false
    }
   },
   "outputs": [
    {
     "data": {
      "image/png": "[encoded data removed]",
      "text/plain": [
       "<Figure size 576x360 with 1 Axes>"
      ]
     },
     "metadata": {
      "needs_background": "light"
     },
     "output_type": "display_data"
    }
   ],
   "source": [
    "# YOUR CODE HERE\n",
    "#raise NotImplementedError()\n",
    "N = [2, 4, 6, 8, 10, 12, 20, 30, 40]\n",
    "\n",
    "def maxequal(N):\n",
    "    x = numpy.linspace(-1, 1, 100)\n",
    "    points = []\n",
    "    x0 = -1\n",
    "    for i in range (N+1):\n",
    "        x0 = -1 + i*2/(N)\n",
    "        points.append(x0)\n",
    "    LF = 0\n",
    "    for i in range (N):\n",
    "        Emu = numpy.ones_like(x)\n",
    "        for j in range(N):\n",
    "            if i != j:\n",
    "                L = lambda y: (y- points[j])/(points[i] - points[j])\n",
    "                Lvalue = L(x)\n",
    "                Emu = Emu*Lvalue\n",
    "                sumi = abs(Emu)\n",
    "        LF += sumi\n",
    "    LFmax = max(LF)\n",
    "    return LFmax\n",
    "\n",
    "def maxcheby(N):\n",
    "    x = numpy.linspace(-1, 1, 100)\n",
    "    num = numpy.arange(1, N+2, 1)\n",
    "    nodes = numpy.cos(((2 * num-1) * numpy.pi)/(2 * N + 2))\n",
    "    LF_Cheby = 0\n",
    "    for i in range (N+1):\n",
    "        Emu = numpy.ones_like(x)\n",
    "        for j in range(N+1):\n",
    "            if i != j:\n",
    "                L = lambda y: (y- nodes[j])/(nodes[i] - nodes[j])\n",
    "                Lvalue = L(x)\n",
    "                Emu = Emu*Lvalue\n",
    "                sumi = abs(Emu)\n",
    "        LF_Cheby += sumi\n",
    "    LFmax_Cheby = max(LF_Cheby)\n",
    "    return LFmax_Cheby\n",
    "\n",
    "N = [2, 4, 6, 8, 10, 12, 20, 30, 40]\n",
    "max_value1 = numpy.empty(len(N))\n",
    "for (i, n) in enumerate(N):\n",
    "    max_value1[i] = maxequal(n)\n",
    "\n",
    "max_value2 = numpy.empty(len(N))\n",
    "for (i, n) in enumerate(N):\n",
    "    max_value2[i] = maxcheby(n)\n",
    "\n",
    "fig = plt.figure(figsize = (8, 5))\n",
    "plt.xlabel(\"$N$\")\n",
    "plt.ylabel(\"Lebesgue Function\")\n",
    "plt.title(\"Lebesgue Function vs $N$\", fontsize = 15)\n",
    "plt.semilogy(N, max_value1, \"b\", N, max_value2, \"r\", N, numpy.log(N), \"g--\")\n",
    "plt.legend([\"Equal Basis\", \"Chebychev Basis\", \"logN\"], loc = 0)\n",
    "plt.grid(alpha = 0.4)\n",
    "plt.show()"
   ]
  },
  {
   "cell_type": "markdown",
   "metadata": {
    "deletable": false,
    "nbgrader": {
     "cell_type": "markdown",
     "checksum": "427a6dd45db93d316ba8f36ee88b5540",
     "grade": true,
     "grade_id": "cell-3dadda7f36443bfd",
     "locked": false,
     "points": 2,
     "schema_version": 3,
     "solution": true,
     "task": false
    }
   },
   "source": [
    "**Comments:**\n",
    "\n",
    "- In the euqal basis case, Lebesgue constant increases obviously with the increase of N. But in the case of Chebychev Basis, the change of Lebesgue constant with N is not significant.\n",
    "- This confirms the above conclusion and the appearance of extreme value of Lagrange basis at the edge of interval\n",
    "- Chebyshev Constant is about logN"
   ]
  },
  {
   "cell_type": "markdown",
   "metadata": {
    "deletable": false,
    "editable": false,
    "nbgrader": {
     "cell_type": "markdown",
     "checksum": "dd78e6511500813405fee46f2fda4981",
     "grade": false,
     "grade_id": "cell-ae4184c87fbd7b7f",
     "locked": true,
     "schema_version": 3,
     "solution": false,
     "task": false
    }
   },
   "source": [
    "## Question 4\n",
    "\n",
    "In lecture we constructed the system of equations we need to solve for each interval if we wanted to use a piece-wise cubic function and have an interpolant that is $C^1$.  This questions addresses the details of that derivation."
   ]
  },
  {
   "cell_type": "markdown",
   "metadata": {
    "deletable": false,
    "editable": false,
    "nbgrader": {
     "cell_type": "markdown",
     "checksum": "e49373f22d330f7b1c8d5597610625f7",
     "grade": false,
     "grade_id": "cell-0352462338c1e96d",
     "locked": true,
     "schema_version": 3,
     "solution": false,
     "task": false
    }
   },
   "source": [
    "**(a)** [5] Let $x \\in [x_k, x_{k+1}] = X$ and $s \\in [0, 1] = S$.  Write down the transformation we need to map the $X$ and $S$ to each other, i.e. $T:X \\rightarrow S$, along with its inverse $T^{-1}$."
   ]
  },
  {
   "cell_type": "markdown",
   "metadata": {
    "deletable": false,
    "nbgrader": {
     "cell_type": "markdown",
     "checksum": "acec4da0387c7a730cb00859536775de",
     "grade": true,
     "grade_id": "cell-2de237b1ac9a175c",
     "locked": false,
     "points": 5,
     "schema_version": 3,
     "solution": true,
     "task": false
    }
   },
   "source": [
    "**Solution:**\n",
    "\n",
    "Since $$s \\in [0,1]$$\n",
    "\n",
    "$$T(x) = \\frac{x-x_k}{x_{k+1}-x_k} \\in [0,1]$$\n",
    "\n",
    "And $$T^{-1}(x) = x(x_{k+1} - x_k) + x_k$$\n",
    "Plug in $s$,\n",
    "$$T^{-1}(s) = s(\\Delta x) + x_k$$"
   ]
  },
  {
   "cell_type": "markdown",
   "metadata": {
    "deletable": false,
    "editable": false,
    "nbgrader": {
     "cell_type": "markdown",
     "checksum": "c294beb974f8fd1a979b61e5536491e6",
     "grade": false,
     "grade_id": "cell-79c34672a3164ab8",
     "locked": true,
     "schema_version": 3,
     "solution": false,
     "task": false
    }
   },
   "source": [
    "**(b)** [15] After making the transformation of the equations we found that the system of equations that result are\n",
    "$$\\begin{bmatrix}\n",
    "    1 & 0 & 0 & 0 \\\\\n",
    "    1 & 1 & 1 & 1 \\\\\n",
    "    0 & 1 & 0 & 0 \\\\\n",
    "    0 & 1 & 2 & 3\n",
    "\\end{bmatrix} \\begin{bmatrix}\n",
    "p_0 \\\\ p_1 \\\\ p_2 \\\\ p_3\n",
    "\\end{bmatrix} = \\begin{bmatrix}\n",
    "y_k \\\\ y_{k+1} \\\\ d_k \\\\ d_{k+1}\n",
    "\\end{bmatrix}$$\n",
    "Show that the solution is\n",
    "$$\n",
    "    \\mathcal{P}(s) = (1-s)^2 (1 + 2s) y_k + s^2 (3 - 2 s) y_{k+1} + s (1 - s)^2 d_k - s^2 (1 - s)d_{k+1}\n",
    "$$"
   ]
  },
  {
   "cell_type": "markdown",
   "metadata": {
    "deletable": false,
    "nbgrader": {
     "cell_type": "markdown",
     "checksum": "87689ad8d70be1f8ce933573a2438eed",
     "grade": true,
     "grade_id": "cell-aaa12b6bd8ff0c14",
     "locked": false,
     "points": 10,
     "schema_version": 3,
     "solution": true,
     "task": false
    }
   },
   "source": [
    "**Solution:**\n",
    "\n",
    "First, letting \n",
    "$$A = \\begin{bmatrix}\n",
    "    1 & 0 & 0 & 0 \\\\\n",
    "    1 & 1 & 1 & 1 \\\\\n",
    "    0 & 1 & 0 & 0 \\\\\n",
    "    0 & 1 & 0 & 3\n",
    "\\end{bmatrix} $$\n",
    "\n",
    "Then, transposing the matrix\n",
    "$$A^T = \\begin{bmatrix}\n",
    "    1 & 1 & 0 & 0 \\\\\n",
    "    0 & 1 & 1 & 1 \\\\\n",
    "    0 & 1 & 0 & 2 \\\\\n",
    "    0 & 1 & 0 & 3\n",
    "\\end{bmatrix} $$\n",
    "\n",
    "Then, deriving its inverse:\n",
    "\n",
    "$$(A^T)^{-1} = \\begin{bmatrix}\n",
    "    1 & 0 & -3 & 2 \\\\\n",
    "    0 & 0 & 3 & -2 \\\\\n",
    "    0 & 1 & -2 & 1 \\\\\n",
    "    0 & 0 & -1 & 1\n",
    "\\end{bmatrix} $$\n",
    "\n",
    "We then get:\n",
    "$$\\mathcal{P}(s) = (2s^3 - 3s^2 +1)y_k + (-2s^3 + 3s^2)y_{k+1} + (s^3-2s^2 + s)d_{k} + (s^3 -s^2)d_{k+1}$$\n",
    "\n",
    "Simplifying, we finally get:\n",
    "$$\n",
    "    \\mathcal{P}(s) = (1-s)^2 (1 + 2s) y_k + s^2 (3 - 2 s) y_{k+1} + s (1 - s)^2 d_k - s^2 (1 - s)d_{k+1}\n",
    "$$"
   ]
  },
  {
   "cell_type": "code",
   "execution_count": 35,
   "metadata": {
    "deletable": false,
    "nbgrader": {
     "cell_type": "code",
     "checksum": "156439ef2d67363e5145da5c615cdf3a",
     "grade": true,
     "grade_id": "cell-d0cff044e9da2438",
     "locked": false,
     "points": 5,
     "schema_version": 3,
     "solution": true,
     "task": false
    }
   },
   "outputs": [
    {
     "data": {
      "text/plain": [
       "array([[ 1.,  0., -3.,  2.],\n",
       "       [ 0.,  0.,  3., -2.],\n",
       "       [-0.,  1., -2.,  1.],\n",
       "       [ 0.,  0., -1.,  1.]])"
      ]
     },
     "execution_count": 35,
     "metadata": {},
     "output_type": "execute_result"
    }
   ],
   "source": [
    "# YOUR CODE HERE\n",
    "#raise NotImplementedError()\n",
    "AT = numpy.array([[1,1,0,0,],[0,1,1,1],[0,1,0,2],[0,1,0,3]])\n",
    "numpy.linalg.inv(AT)"
   ]
  },
  {
   "cell_type": "markdown",
   "metadata": {
    "deletable": false,
    "editable": false,
    "nbgrader": {
     "cell_type": "markdown",
     "checksum": "314a2428827d3e9100fa280411723ce2",
     "grade": false,
     "grade_id": "cell-2408279fe31cf0ed",
     "locked": true,
     "schema_version": 3,
     "solution": false,
     "task": false
    }
   },
   "source": [
    "**(c)** [10] Use $T^{-1}$ to transform back to $X$ and write down the polynomial in terms of the original variable $x$."
   ]
  },
  {
   "cell_type": "markdown",
   "metadata": {
    "deletable": false,
    "nbgrader": {
     "cell_type": "markdown",
     "checksum": "c1b3c7f9277ec43aab7a6572475d19d2",
     "grade": true,
     "grade_id": "cell-0f4d5f70eb6c9c5f",
     "locked": false,
     "points": 10,
     "schema_version": 3,
     "solution": true,
     "task": false
    }
   },
   "source": [
    "**Solution:**\n",
    "\n",
    "When $T = T^{-1}, x = s$.\n",
    "\n",
    "So,\n",
    "$$\n",
    "    \\mathcal{P}(x) = (1-x)^2 (1 + 2x) y_k + x^2 (3 - 2 x) y_{k+1} + x (1 - x)^2 d_k - x^2 (1 - x)d_{k+1}\n",
    "$$"
   ]
  },
  {
   "cell_type": "code",
   "execution_count": null,
   "metadata": {},
   "outputs": [],
   "source": []
  }
 ],
 "metadata": {
  "kernelspec": {
   "display_name": "Python 3",
   "language": "python",
   "name": "python3"
  },
  "language_info": {
   "codemirror_mode": {
    "name": "ipython",
    "version": 3
   },
   "file_extension": ".py",
   "mimetype": "text/x-python",
   "name": "python",
   "nbconvert_exporter": "python",
   "pygments_lexer": "ipython3",
   "version": "3.8.8"
  },
  "latex_envs": {
   "bibliofile": "biblio.bib",
   "cite_by": "apalike",
   "current_citInitial": 1,
   "eqLabelWithNumbers": true,
   "eqNumInitial": 0
  }
 },
 "nbformat": 4,
 "nbformat_minor": 4
}
